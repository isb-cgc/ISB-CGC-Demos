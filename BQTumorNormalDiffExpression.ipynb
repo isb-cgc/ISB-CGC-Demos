{
 "cells": [
  {
   "cell_type": "markdown",
   "id": "7db52d33-dec6-4dcd-9574-ddc2675e475e",
   "metadata": {},
   "source": [
    "# Overview\n",
    "This notebook is intended to demonstrate how to run a differential gene expression analysis between tumor and normal samples using GDC cancer data made available in BigQuery. We will be using the TCGA gene expression dataset in `isb-cgc-bq`, specifically the table `isb-cgc-bq.TCGA.mRNAseq_hg38_gdc_current`. This notebook is modeled to somewhat mirror the differential expression analysis found in Peng, et al. *Scientific Reports* 2015 (https://doi.org/10.1038/srep13413).\n",
    "\n",
    "First we need to set up the environment and authenticate our session. This notebook will use both python to construct and run our SQL query and the Bioconductor R libraries `edgeR` and `DESeq2`."
   ]
  },
  {
   "cell_type": "code",
   "execution_count": null,
   "id": "ad9f9272-c907-4cbe-8070-61002a3424d2",
   "metadata": {
    "scrolled": true,
    "tags": []
   },
   "outputs": [],
   "source": [
    "library(DESeq2)\n",
    "library(edgeR)\n",
    "library(scales)\n",
    "library(bigrquery)\n",
    "project <- 'isb-cgc-outreach'\n",
    "bigrquery::bq_auth(path = \"~/key-file\")"
   ]
  },
  {
   "cell_type": "markdown",
   "id": "c1b61f0c-86bd-400a-b7a5-748c98a80387",
   "metadata": {},
   "source": [
    "# Finding all cases with data for both normal and tumor aliquots\n",
    "Our first step is to join sample_type data to our RNA seq table and identify the cases in the RNA seq BigQuery table of choice that have data for both tumor and normal aliquots. To perform this operation we can write an SQL query which groups rows by case barcode and then use the `array_agg()` function to concatenate the `sample_type_name` field for each case. "
   ]
  },
  {
   "cell_type": "code",
   "execution_count": null,
   "id": "0aece363-69de-47f5-9590-c6467099ed18",
   "metadata": {},
   "outputs": [],
   "source": [
    "rna_table <- \"isb-cgc-bq.TCGA_versioned.RNAseq_hg38_gdc_r35\"\n",
    "\n",
    "case_query <- \"\n",
    "WITH rna as (\n",
    "    SELECT \n",
    "       case_barcode, \n",
    "       sample_barcode, \n",
    "       aliquot_barcode, \n",
    "       Ensembl_gene_id_v, \n",
    "       gene_name, \n",
    "       HTSeq__Counts,\n",
    "       HTSeq__FPKM_UQ,\n",
    "       sample_type_name,\n",
    "    FROM `isb-cgc-bq.TCGA.RNAseq_hg38_gdc_current`\n",
    "    WHERE gene_type = 'protein_coding'\n",
    "    AND project_short_name = 'TCGA-BRCA'\n",
    "),\n",
    "cases as (\n",
    "  SELECT case_barcode, agg FROM\n",
    "      (SELECT \n",
    "        case_barcode, \n",
    "        array_agg(distinct sample_type_name) agg\n",
    "      FROM rna\n",
    "      GROUP BY case_barcode)\n",
    "  WHERE array_length(agg) > 1\n",
    "  AND ('Solid Tissue Normal' in UNNEST(agg))\n",
    "  )\"\n",
    "\n",
    "select_cases <- \"\n",
    "SELECT * FROM cases\n",
    "\"\n",
    "\n",
    "#print(paste0(case_query, select_cases))\n",
    "case_job <- bq_project_query( project, query=paste0(case_query, select_cases) )\n",
    "case_df <- as.data.frame(bq_table_download(case_job))\n",
    "head(case_df)"
   ]
  },
  {
   "cell_type": "markdown",
   "id": "cf73726f-5af9-428a-ab0b-046ed63d2ea4",
   "metadata": {},
   "source": [
    "# Subsetting the gene set\n",
    "Performing a comparison across all genes is outside of the scope of this notebook, so we will reduce our gene set to a more manageable size. A common metric to subset by is the variance of expression level. We can calculate this metric in an SQL query by grouping by the `Ensembl_gene_id_v` field and calculating the `VARIANCE()` of the counts field. We then order our results by this value and select the top 2000 genes."
   ]
  },
  {
   "cell_type": "code",
   "execution_count": null,
   "id": "250db1f9-c428-4312-ba9e-c0792363f015",
   "metadata": {},
   "outputs": [],
   "source": [
    "expression_query <- \",\n",
    "mean_expr as (\n",
    "  SELECT * FROM (\n",
    "    SELECT  \n",
    "      rna.Ensembl_gene_id_v, \n",
    "      VARIANCE(rna.HTSeq__FPKM) var_fpkm\n",
    "    FROM rna \n",
    "    JOIN cases ON rna.case_barcode = cases.case_barcode \n",
    "    WHERE rna.sample_type_name = 'Solid Tissue Normal'\n",
    "    GROUP BY rna.Ensembl_gene_id_v)\n",
    "  ORDER BY var_fpkm DESC\n",
    "  LIMIT 2000)\"\n",
    "\n",
    "select_genes <- \"\n",
    "SELECT * FROM mean_expr\n",
    "\"\n",
    "\n",
    "expr_job <- bq_project_query( project, query=paste0(case_query, expression_query, select_genes) )\n",
    "# print( paste0( case_query + expression_query + select_genes ) )\n",
    "expr_data <- as.data.frame( bq_table_download(expr_job) )\n",
    "head(expr_data)"
   ]
  },
  {
   "cell_type": "markdown",
   "id": "eef4df7b-d597-4a53-b994-d5b4a07c478e",
   "metadata": {},
   "source": [
    "# Joins are used to generate the table for analysis\n",
    "To generate the final table we join the full RNA expression table back to the tables housing the list of cases as well as the list of genes. As both `edgeR` and `DESeq2` require counts as input the important fields we need are `case_barcode`, `aliquot_barcode`, `gene_name`, `sample_type_name`, and `HTSeq__Counts`."
   ]
  },
  {
   "cell_type": "code",
   "execution_count": null,
   "id": "fc8db166-fe33-4e29-ae71-6db0b19841e6",
   "metadata": {},
   "outputs": [],
   "source": [
    "final_join = \"\n",
    "SELECT rna.case_barcode, \n",
    "       rna.sample_barcode, \n",
    "       rna.aliquot_barcode, \n",
    "       rna.Ensembl_gene_id_v, \n",
    "       rna.gene_name, \n",
    "       rna.HTSeq__Counts,\n",
    "       rna.sample_type_name,\n",
    "FROM rna\n",
    "  JOIN cases ON rna.case_barcode = cases.case_barcode\n",
    "  JOIN mean_expr ON rna.Ensembl_gene_id_v = mean_expr.Ensembl_gene_id_v\n",
    "WHERE rna.sample_type_name = 'Solid Tissue Normal' \n",
    "  OR rna.sample_type_name = 'Primary Tumor'\n",
    "ORDER BY Ensembl_gene_id_v, case_barcode, aliquot_barcode \n",
    "\"\n",
    "\n",
    "final_job <- bq_project_query( project, paste0(case_query, expression_query, final_join) )\n",
    "# print( case_query + expression_query + final_join )\n",
    "final_data <- as.data.frame( bq_table_download(final_job) )\n",
    "head( final_data )"
   ]
  },
  {
   "cell_type": "markdown",
   "id": "cf455602-2a51-4162-893f-fecd232b9767",
   "metadata": {},
   "source": [
    "# Converting our longform data table into a count matrix\n",
    "Both `edgeR` and `DESeq2` expect a data matrix of counts as an input where each column corresponds to a sample and each row to a gene. In our query we sorted our data frame by the `gene_name`, `case_barcode`, and `aliquot_barcode`. This allows us to split our data frame on gene_name and then `rbind()` the resulting count vectors into a matrix."
   ]
  },
  {
   "cell_type": "code",
   "execution_count": null,
   "id": "f2afa9ad-c5e5-4965-9e60-36ac1ec514ca",
   "metadata": {},
   "outputs": [],
   "source": [
    "split_df <- split(final_data, f=final_data$gene_name)\n",
    "str(split_df[c(1,2)]) # showing two data frames from our list output\n",
    "expression_list <- lapply(split_df, function(df){df$HTSeq__Counts})\n",
    "exp_matrix <- as.data.frame(Reduce(rbind, expression_list))"
   ]
  },
  {
   "cell_type": "markdown",
   "id": "770f3f26-f767-4b3c-9b8e-24f4fce7cc30",
   "metadata": {},
   "source": [
    "We load our genes as rownames and the aliquot_barcodes as column names"
   ]
  },
  {
   "cell_type": "code",
   "execution_count": null,
   "id": "ca24b965-f7f6-4e37-8216-79b0175860d4",
   "metadata": {},
   "outputs": [],
   "source": [
    "colnames(exp_matrix) <- split_df[[1]]$aliquot_barcode\n",
    "genes <- names(split_df)\n",
    "rownames(exp_matrix) <- genes\n",
    "str(exp_matrix, list.len=5)"
   ]
  },
  {
   "cell_type": "markdown",
   "id": "08aacf65-55ff-4843-8db4-f519afb43a84",
   "metadata": {},
   "source": [
    "We also need to generate vectors of which case each aliquot corresponds to as well as whether the aliquot is a tumor or normal sample. We can easily retrieve this information from our split data frame.\n",
    "\n",
    "As a quick sanity check we can generate a heatmap to look at how our aliquots cluster and generate a histogram to compare the distributions of normal and tumor expression values."
   ]
  },
  {
   "cell_type": "code",
   "execution_count": null,
   "id": "f06f4d8d-b3d5-45c4-b4f3-242e028f3231",
   "metadata": {},
   "outputs": [],
   "source": [
    "colnames(exp_matrix) <- split_df[[1]]$id\n",
    "cases <- gsub('-', '.', split_df[[1]]$case_barcode)\n",
    "str(cases)\n",
    "sample_type <- gsub(' ', '.', split_df[[1]]$sample_type_name)\n",
    "str(sample_type)\n",
    "heatmap(as.matrix(exp_matrix), labCol=sample_type, scale=\"row\")"
   ]
  },
  {
   "cell_type": "code",
   "execution_count": null,
   "id": "c8735f5b-2963-4e5e-9635-e594c5cc7be2",
   "metadata": {},
   "outputs": [],
   "source": [
    "norm <- log10(unlist(exp_matrix[,which(sample_type == 'Solid.Tissue.Normal')]))\n",
    "tumor <- log10(unlist(exp_matrix[,which(sample_type == 'Primary.Tumor')]))\n",
    "\n",
    "p_norm <- hist(norm, breaks=seq(0,8,0.1), plot=0)\n",
    "p_tumor <- hist(tumor, breaks=seq(0,8,0.1), plot=0)\n",
    "plot( p_norm, col=rgb(0,0,1,1/8), xlim=c(0,8), xlab='log10(count)', main='')\n",
    "plot( p_tumor, col=rgb(1,0,0,1/8), xlim=c(0,8), add=T)\n",
    "legend(\"topright\", legend=c(\"Normal\", \"Tumor\"), fill=c(rgb(0,0,1,1/8), rgb(1,0,0,1/8)), bty=\"n\") "
   ]
  },
  {
   "cell_type": "markdown",
   "id": "010cff49-c3df-4998-8129-1bf7e09697fe",
   "metadata": {},
   "source": [
    "# Calculating differential expression using edgeR\n",
    "We can now feed these data to edgeR, generate significance values of differential expression, and visualize the results using a scatterplot. Genes that fall below a 0.01 significance threshold are color coded red."
   ]
  },
  {
   "cell_type": "code",
   "execution_count": null,
   "id": "787be4d5-a470-45cd-a04b-238b2457405c",
   "metadata": {},
   "outputs": [],
   "source": [
    "dge_obj <- DGEList(\n",
    "             counts=exp_matrix, \n",
    "             lib.size=colSums(exp_matrix),\n",
    "             samples=cases, \n",
    "             group=sample_type)\n",
    "disp <- estimateDisp(dge_obj, method=\"pooled\")\n",
    "edgeR_test <- exactTest(disp)\n",
    "results_df <- topTags(edgeR_test, nrow(exp_matrix))@.Data[[1]]\n",
    "str(results_df)"
   ]
  },
  {
   "cell_type": "code",
   "execution_count": null,
   "id": "d93b8769-c48e-4238-b6df-1526d8e4406e",
   "metadata": {},
   "outputs": [],
   "source": [
    "colors <- c(alpha('red', 0.3), alpha('black', 0.6))[(results_df$FDR > 0.01)+1]\n",
    "plot(results_df$logCPM, results_df$logFC, \n",
    "     pch=19, cex=1.7, col=colors,\n",
    "     xlab='log(fold change)', ylab='log(counts per million)')\n",
    "sum(results_df$FDR <= 0.01)"
   ]
  },
  {
   "cell_type": "code",
   "execution_count": null,
   "id": "f968f95d-1c44-40e2-9c29-e5a6c9dc22d8",
   "metadata": {},
   "outputs": [],
   "source": [
    "col_info <- as.data.frame(cbind(cases, sample_type), stringAsFactors=TRUE)\n",
    "deseq_obj <- DESeqDataSetFromMatrix( countData = exp_matrix, colData= col_info, design= ~ cases + sample_type)\n",
    "deseq_output <- DESeq(deseq_obj, fitType='local')\n",
    "summary(deseq_output)\n",
    "deseq_results <- results(deseq_output)@listData"
   ]
  },
  {
   "cell_type": "code",
   "execution_count": null,
   "id": "229db32f-4696-499f-a7d7-4aee7c62a4b1",
   "metadata": {},
   "outputs": [],
   "source": [
    "colors <- c(alpha('red', 0.3), alpha('black', 0.6))[(deseq_results$padj > 0.01)+1]\n",
    "plot(log(deseq_results$baseMean), deseq_results$log2FoldChange, \n",
    "     pch=19, cex=1.7, col=colors,\n",
    "     xlab='log(mean expression)', ylab='log2(fold change)')\n",
    "sum(deseq_results$padj <= 0.01)"
   ]
  },
  {
   "cell_type": "markdown",
   "id": "8e1e0630-5b52-49e8-bb81-92d9dcd54d73",
   "metadata": {},
   "source": [
    "# Summary\n",
    "It is quite simple to retrieve expression data from the GDC through the BQ ecosystem. These data can be subset and summarized easily via SQL queries and the results loaded into either R or Python for further analysis and visualization."
   ]
  }
 ],
 "metadata": {
  "environment": {
   "kernel": "ir",
   "name": "r-cpu.4-1.m82",
   "type": "gcloud",
   "uri": "gcr.io/deeplearning-platform-release/r-cpu.4-1:m82"
  },
  "kernelspec": {
   "display_name": "R",
   "language": "R",
   "name": "ir"
  },
  "language_info": {
   "codemirror_mode": "r",
   "file_extension": ".r",
   "mimetype": "text/x-r-source",
   "name": "R",
   "pygments_lexer": "r",
   "version": "4.1.2"
  }
 },
 "nbformat": 4,
 "nbformat_minor": 5
}
