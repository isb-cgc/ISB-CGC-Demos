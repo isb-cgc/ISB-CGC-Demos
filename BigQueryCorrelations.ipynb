{
 "cells": [
  {
   "cell_type": "markdown",
   "id": "d6dce189",
   "metadata": {},
   "source": [
    "# Large scale statistical tests in BigQuery\n",
    "\n",
    "```\n",
    "Created: 09-08-2021\n",
    "Purpose: Compute correlations between proteomic and gene expression available in the TCGA \n",
    "```\n",
    "This notebook uses BigQuery to compute Pearson correlation between protein and gene expression for all the genes in the BigQuery tables of the TCGA. We used Breast cancer (BRCA) as example; but this can be changed easily for other cancer types."
   ]
  },
  {
   "cell_type": "markdown",
   "id": "fb8b0881",
   "metadata": {},
   "source": [
    "## Benefits of BigQuery for data analysis \n",
    "It is possible to perform large scale statistical tests in the cloud, using the BigQuery tables available in ISB-CGC. Importantly, \n",
    "BigQuery allows you to get a cluster power; without having to manage a cluster. The following figure shows the how the computational time changes with the number of tests (Correlation, and t-tests) computed in BigQuery.\n",
    "\n",
    "![title](img/CompTime_BigQuery2.png)\n",
    "\n",
    "**Example:**\n",
    "We recently computed ~100 million correlations and p-value computations in about 20 min. in BigQuery (hours/days on your personal machine)\n"
   ]
  },
  {
   "cell_type": "markdown",
   "id": "6895bfb3",
   "metadata": {},
   "source": [
    "## User Defined Functions: UDFs\n",
    "BigQuery now supports User Defined Functions (UDFs) in SQL and JavaScript that extend BigQuery for more specialized computations and that can be reused in notebooks and queries. \n",
    "\n",
    "UDFs provide an easy way to perform complex operations in the cloud, taking advantage of the high computational power available in Google Cloud. We developed a collection of UDFs that implement commonly used statistical tests and methods in cancer research and bioinformatics. The UDFs are located in the isb-cgc-bq.functions data set, and the source code of the functions and examples of how to use them can be found in our Community Notebook GitHub Repository. The following table show some functions available in ISB-CGC.\n",
    "\n",
    "| UDF name | Description |\n",
    "| :--- | :--- |\n",
    "| corr_pvalue | Computes p values for correlation coeficients |\n",
    "| BHmultipletests | Adjust p values for multiple testing |\n",
    "| p_fisherexact | p value of the Fisher exact test |\n",
    "| mannwhitneyu | Mann–Whitney U test |\n",
    "| kruskal_walis | Kruskal Walis test |\n",
    "\n",
    "\n",
    "\n"
   ]
  },
  {
   "cell_type": "markdown",
   "id": "4d40613a",
   "metadata": {},
   "source": [
    "## Use case: Compute correlations and their p-values"
   ]
  },
  {
   "cell_type": "code",
   "execution_count": 3,
   "id": "1df4aa26",
   "metadata": {},
   "outputs": [
    {
     "name": "stderr",
     "output_type": "stream",
     "text": [
      "Installing package into ‘/home/jupyter/.R/library’\n",
      "(as ‘lib’ is unspecified)\n",
      "\n"
     ]
    }
   ],
   "source": [
    "install.packages(\"bigrquery\")"
   ]
  },
  {
   "cell_type": "markdown",
   "id": "b5c3134d",
   "metadata": {},
   "source": [
    "## Libraries"
   ]
  },
  {
   "cell_type": "code",
   "execution_count": 102,
   "id": "ce2b4855",
   "metadata": {},
   "outputs": [],
   "source": [
    "library(bigrquery)\n",
    "library(stringr)\n",
    "library(ggplot2)\n",
    "bigrquery::bq_auth(path = \"~/key-file\")\n",
    "project <- 'isb-cgc-outreach'"
   ]
  },
  {
   "cell_type": "markdown",
   "id": "9a5c3851",
   "metadata": {},
   "source": [
    "## Parameters and  technical terms\n",
    "\n",
    "| Name | Description |\n",
    "| :--- | :--- |\n",
    "| isb-cgc-bq | Google project name of ISB-CGC |\n",
    "| RNAseq_hg38_gdc_current | Gene expression |\n",
    "| protein_expression_hg38_gdc_current | Protein expression |\n",
    "| HTSeq__Counts | Number of mapped reads to each gene as calculated by package HTSeq |\n",
    "\n",
    "\n"
   ]
  },
  {
   "cell_type": "code",
   "execution_count": 103,
   "id": "f4d5eb79",
   "metadata": {},
   "outputs": [],
   "source": [
    "# Parameters: cancer type\n",
    "cancer_type <- \"TCGA-BRCA\""
   ]
  },
  {
   "cell_type": "markdown",
   "id": "036139e3",
   "metadata": {},
   "source": [
    "## Retrieve gene expression.\n",
    "The following query will retrieve gene expression, barcodes, sample type (\"cancer\", \"normal\", or \"metastatic\"), gene names, and gene expression (HTSeq__Counts), from TCGA table isb-cgc-bq.TCGA.RNAseq_hg38_gdc_current.\n",
    "The results are group by gene names, sample type, and barcodes. This is used for agreegate gene expression for genes with multiple ensemble_gene_ids. \n"
   ]
  },
  {
   "cell_type": "code",
   "execution_count": 104,
   "id": "ae0a79ee",
   "metadata": {},
   "outputs": [],
   "source": [
    "sql1 <- \"table1 AS (\n",
    "   SELECT sample_barcode,aliquot_barcode, sample_type_name, gene_name,  Ensembl_gene_id, \n",
    "        LOG10( MAX(HTSeq__Counts) + 1 ) AS gene_exp \n",
    "   FROM\n",
    "      `isb-cgc-bq.TCGA.RNAseq_hg38_gdc_current` \n",
    "   WHERE \n",
    "      gene_type = 'protein_coding'\n",
    "      AND project_short_name = '__CANCER_TYPE__'\n",
    "   GROUP BY sample_barcode,Ensembl_gene_id, gene_name, sample_type_name, aliquot_barcode\n",
    ")\n",
    "\"\n",
    "sql_ge <- gsub('__CANCER_TYPE__', cancer_type, sql1 )"
   ]
  },
  {
   "cell_type": "markdown",
   "id": "f5a037d4",
   "metadata": {},
   "source": [
    "## Retrieve protein expression.\n",
    "The following query will retrieve protein expression and aliquot barcodes from TCGA table isb-cgc-bq.TCGA.RNAseq_hg38_gdc_current. "
   ]
  },
  {
   "cell_type": "code",
   "execution_count": 105,
   "id": "6f6fe9d4",
   "metadata": {},
   "outputs": [],
   "source": [
    "sql2 <- \"table2 AS (\n",
    "   SELECT sample_barcode,aliquot_barcode, gene_name,  \n",
    "        AVG( protein_expression ) as prot_exp \n",
    "   FROM\n",
    "      `isb-cgc-bq.TCGA.protein_expression_hg38_gdc_current` \n",
    "   WHERE \n",
    "      validation_status = 'V'\n",
    "      AND project_short_name = '__CANCER_TYPE__'\n",
    "   GROUP BY sample_barcode,aliquot_barcode, gene_name\n",
    ")\n",
    "\"\n",
    "sql_pe <- gsub('__CANCER_TYPE__', cancer_type, sql2 )"
   ]
  },
  {
   "cell_type": "markdown",
   "id": "8a37f63e",
   "metadata": {},
   "source": [
    "## Join tables\n",
    "We can join the two tables and explore the data. "
   ]
  },
  {
   "cell_type": "code",
   "execution_count": 106,
   "id": "a2987c5e",
   "metadata": {},
   "outputs": [
    {
     "data": {
      "text/html": [
       "<table class=\"dataframe\">\n",
       "<caption>A tibble: 6 × 6</caption>\n",
       "<thead>\n",
       "\t<tr><th scope=col>sample_barcode</th><th scope=col>gene_name</th><th scope=col>Ensembl_gene_id</th><th scope=col>sample_type_name</th><th scope=col>gene_exp</th><th scope=col>prot_exp</th></tr>\n",
       "\t<tr><th scope=col>&lt;chr&gt;</th><th scope=col>&lt;chr&gt;</th><th scope=col>&lt;chr&gt;</th><th scope=col>&lt;chr&gt;</th><th scope=col>&lt;dbl&gt;</th><th scope=col>&lt;dbl&gt;</th></tr>\n",
       "</thead>\n",
       "<tbody>\n",
       "\t<tr><td>TCGA-A2-A0YD-01A</td><td>PXN   </td><td>ENSG00000089159</td><td>Primary Tumor      </td><td>3.875235</td><td> 0.11047091</td></tr>\n",
       "\t<tr><td>TCGA-AO-A0JE-01A</td><td>PCNA  </td><td>ENSG00000132646</td><td>Primary Tumor      </td><td>3.990605</td><td> 0.04369298</td></tr>\n",
       "\t<tr><td>TCGA-A7-A13F-11A</td><td>NKX2-1</td><td>ENSG00000136352</td><td>Solid Tissue Normal</td><td>0.000000</td><td>-0.13882509</td></tr>\n",
       "\t<tr><td>TCGA-BH-A0BP-01A</td><td>BECN1 </td><td>ENSG00000126581</td><td>Primary Tumor      </td><td>3.222976</td><td>-1.61178905</td></tr>\n",
       "\t<tr><td>TCGA-BH-A1EU-01A</td><td>BECN1 </td><td>ENSG00000126581</td><td>Primary Tumor      </td><td>3.818358</td><td> 0.06927078</td></tr>\n",
       "\t<tr><td>TCGA-E9-A6HE-01A</td><td>KDR   </td><td>ENSG00000128052</td><td>Primary Tumor      </td><td>2.860937</td><td> 0.39256514</td></tr>\n",
       "</tbody>\n",
       "</table>\n"
      ],
      "text/latex": [
       "A tibble: 6 × 6\n",
       "\\begin{tabular}{llllll}\n",
       " sample\\_barcode & gene\\_name & Ensembl\\_gene\\_id & sample\\_type\\_name & gene\\_exp & prot\\_exp\\\\\n",
       " <chr> & <chr> & <chr> & <chr> & <dbl> & <dbl>\\\\\n",
       "\\hline\n",
       "\t TCGA-A2-A0YD-01A & PXN    & ENSG00000089159 & Primary Tumor       & 3.875235 &  0.11047091\\\\\n",
       "\t TCGA-AO-A0JE-01A & PCNA   & ENSG00000132646 & Primary Tumor       & 3.990605 &  0.04369298\\\\\n",
       "\t TCGA-A7-A13F-11A & NKX2-1 & ENSG00000136352 & Solid Tissue Normal & 0.000000 & -0.13882509\\\\\n",
       "\t TCGA-BH-A0BP-01A & BECN1  & ENSG00000126581 & Primary Tumor       & 3.222976 & -1.61178905\\\\\n",
       "\t TCGA-BH-A1EU-01A & BECN1  & ENSG00000126581 & Primary Tumor       & 3.818358 &  0.06927078\\\\\n",
       "\t TCGA-E9-A6HE-01A & KDR    & ENSG00000128052 & Primary Tumor       & 2.860937 &  0.39256514\\\\\n",
       "\\end{tabular}\n"
      ],
      "text/markdown": [
       "\n",
       "A tibble: 6 × 6\n",
       "\n",
       "| sample_barcode &lt;chr&gt; | gene_name &lt;chr&gt; | Ensembl_gene_id &lt;chr&gt; | sample_type_name &lt;chr&gt; | gene_exp &lt;dbl&gt; | prot_exp &lt;dbl&gt; |\n",
       "|---|---|---|---|---|---|\n",
       "| TCGA-A2-A0YD-01A | PXN    | ENSG00000089159 | Primary Tumor       | 3.875235 |  0.11047091 |\n",
       "| TCGA-AO-A0JE-01A | PCNA   | ENSG00000132646 | Primary Tumor       | 3.990605 |  0.04369298 |\n",
       "| TCGA-A7-A13F-11A | NKX2-1 | ENSG00000136352 | Solid Tissue Normal | 0.000000 | -0.13882509 |\n",
       "| TCGA-BH-A0BP-01A | BECN1  | ENSG00000126581 | Primary Tumor       | 3.222976 | -1.61178905 |\n",
       "| TCGA-BH-A1EU-01A | BECN1  | ENSG00000126581 | Primary Tumor       | 3.818358 |  0.06927078 |\n",
       "| TCGA-E9-A6HE-01A | KDR    | ENSG00000128052 | Primary Tumor       | 2.860937 |  0.39256514 |\n",
       "\n"
      ],
      "text/plain": [
       "  sample_barcode   gene_name Ensembl_gene_id sample_type_name    gene_exp\n",
       "1 TCGA-A2-A0YD-01A PXN       ENSG00000089159 Primary Tumor       3.875235\n",
       "2 TCGA-AO-A0JE-01A PCNA      ENSG00000132646 Primary Tumor       3.990605\n",
       "3 TCGA-A7-A13F-11A NKX2-1    ENSG00000136352 Solid Tissue Normal 0.000000\n",
       "4 TCGA-BH-A0BP-01A BECN1     ENSG00000126581 Primary Tumor       3.222976\n",
       "5 TCGA-BH-A1EU-01A BECN1     ENSG00000126581 Primary Tumor       3.818358\n",
       "6 TCGA-E9-A6HE-01A KDR       ENSG00000128052 Primary Tumor       2.860937\n",
       "  prot_exp   \n",
       "1  0.11047091\n",
       "2  0.04369298\n",
       "3 -0.13882509\n",
       "4 -1.61178905\n",
       "5  0.06927078\n",
       "6  0.39256514"
      ]
     },
     "metadata": {},
     "output_type": "display_data"
    }
   ],
   "source": [
    "# Build the query with all of the subqueries\n",
    "myquery <- str_c(\"WITH \",sql_ge,\",\",sql_pe,\"\n",
    "SELECT gexp.sample_barcode, gexp.gene_name, gexp.Ensembl_gene_id, gexp.sample_type_name, \n",
    "       gexp.gene_exp, pexp.prot_exp \n",
    "FROM table1 gexp\n",
    "JOIN table2 pexp\n",
    "    ON gexp.sample_barcode = pexp.sample_barcode\n",
    "    AND gexp.gene_name = pexp.gene_name\n",
    "\")\n",
    "# Send the query and fetch the results into a dataframe\n",
    "join_tbl <- bq_project_query (project, query = myquery) #Put data in temporary BQ table\n",
    "join_data <- bq_table_download(join_tbl) #Put data into a dataframe\n",
    "head(join_data)"
   ]
  },
  {
   "cell_type": "code",
   "execution_count": 94,
   "id": "d533316f",
   "metadata": {},
   "outputs": [
    {
     "name": "stdout",
     "output_type": "stream",
     "text": [
      "[1] 14260\n"
     ]
    }
   ],
   "source": [
    "print(nrow(join_data))"
   ]
  },
  {
   "cell_type": "markdown",
   "id": "763e17a8",
   "metadata": {},
   "source": [
    "### Compute Pearson correlation\n",
    "To compute correlation of two numeric columns, we need to group the data using gene names and sample type. "
   ]
  },
  {
   "cell_type": "code",
   "execution_count": 107,
   "id": "742273a6",
   "metadata": {},
   "outputs": [
    {
     "data": {
      "text/html": [
       "<table class=\"dataframe\">\n",
       "<caption>A tibble: 6 × 5</caption>\n",
       "<thead>\n",
       "\t<tr><th scope=col>gene_name</th><th scope=col>Ensembl_gene_id</th><th scope=col>sample_type_name</th><th scope=col>Nsamples</th><th scope=col>corr</th></tr>\n",
       "\t<tr><th scope=col>&lt;chr&gt;</th><th scope=col>&lt;chr&gt;</th><th scope=col>&lt;chr&gt;</th><th scope=col>&lt;int&gt;</th><th scope=col>&lt;dbl&gt;</th></tr>\n",
       "</thead>\n",
       "<tbody>\n",
       "\t<tr><td>FN1     </td><td>ENSG00000115414</td><td>Primary Tumor      </td><td>882</td><td>0.3668623</td></tr>\n",
       "\t<tr><td>PIK3R2  </td><td>ENSG00000105647</td><td>Primary Tumor      </td><td>882</td><td>0.0104987</td></tr>\n",
       "\t<tr><td>EIF4EBP1</td><td>ENSG00000187840</td><td>Solid Tissue Normal</td><td> 36</td><td>0.1491474</td></tr>\n",
       "\t<tr><td>ITGA2   </td><td>ENSG00000164171</td><td>Solid Tissue Normal</td><td> 36</td><td>0.2190247</td></tr>\n",
       "\t<tr><td>G6PD    </td><td>ENSG00000160211</td><td>Primary Tumor      </td><td>882</td><td>0.5577776</td></tr>\n",
       "\t<tr><td>ENY2    </td><td>ENSG00000120533</td><td>Primary Tumor      </td><td>733</td><td>0.3455463</td></tr>\n",
       "</tbody>\n",
       "</table>\n"
      ],
      "text/latex": [
       "A tibble: 6 × 5\n",
       "\\begin{tabular}{lllll}\n",
       " gene\\_name & Ensembl\\_gene\\_id & sample\\_type\\_name & Nsamples & corr\\\\\n",
       " <chr> & <chr> & <chr> & <int> & <dbl>\\\\\n",
       "\\hline\n",
       "\t FN1      & ENSG00000115414 & Primary Tumor       & 882 & 0.3668623\\\\\n",
       "\t PIK3R2   & ENSG00000105647 & Primary Tumor       & 882 & 0.0104987\\\\\n",
       "\t EIF4EBP1 & ENSG00000187840 & Solid Tissue Normal &  36 & 0.1491474\\\\\n",
       "\t ITGA2    & ENSG00000164171 & Solid Tissue Normal &  36 & 0.2190247\\\\\n",
       "\t G6PD     & ENSG00000160211 & Primary Tumor       & 882 & 0.5577776\\\\\n",
       "\t ENY2     & ENSG00000120533 & Primary Tumor       & 733 & 0.3455463\\\\\n",
       "\\end{tabular}\n"
      ],
      "text/markdown": [
       "\n",
       "A tibble: 6 × 5\n",
       "\n",
       "| gene_name &lt;chr&gt; | Ensembl_gene_id &lt;chr&gt; | sample_type_name &lt;chr&gt; | Nsamples &lt;int&gt; | corr &lt;dbl&gt; |\n",
       "|---|---|---|---|---|\n",
       "| FN1      | ENSG00000115414 | Primary Tumor       | 882 | 0.3668623 |\n",
       "| PIK3R2   | ENSG00000105647 | Primary Tumor       | 882 | 0.0104987 |\n",
       "| EIF4EBP1 | ENSG00000187840 | Solid Tissue Normal |  36 | 0.1491474 |\n",
       "| ITGA2    | ENSG00000164171 | Solid Tissue Normal |  36 | 0.2190247 |\n",
       "| G6PD     | ENSG00000160211 | Primary Tumor       | 882 | 0.5577776 |\n",
       "| ENY2     | ENSG00000120533 | Primary Tumor       | 733 | 0.3455463 |\n",
       "\n"
      ],
      "text/plain": [
       "  gene_name Ensembl_gene_id sample_type_name    Nsamples corr     \n",
       "1 FN1       ENSG00000115414 Primary Tumor       882      0.3668623\n",
       "2 PIK3R2    ENSG00000105647 Primary Tumor       882      0.0104987\n",
       "3 EIF4EBP1  ENSG00000187840 Solid Tissue Normal  36      0.1491474\n",
       "4 ITGA2     ENSG00000164171 Solid Tissue Normal  36      0.2190247\n",
       "5 G6PD      ENSG00000160211 Primary Tumor       882      0.5577776\n",
       "6 ENY2      ENSG00000120533 Primary Tumor       733      0.3455463"
      ]
     },
     "metadata": {},
     "output_type": "display_data"
    }
   ],
   "source": [
    "sql_co <- \"correlation AS ( \n",
    "    SELECT gexp.gene_name, gexp.Ensembl_gene_id, gexp.sample_type_name,\n",
    "        COUNT(*) as Nsamples,\n",
    "        CORR( gexp.gene_exp, pexp.prot_exp) as corr \n",
    "    FROM table1 gexp\n",
    "    JOIN table2 pexp\n",
    "    ON gexp.sample_barcode = pexp.sample_barcode\n",
    "        AND gexp.gene_name = pexp.gene_name\n",
    "    GROUP BY gene_name, gexp.Ensembl_gene_id, gexp.sample_type_name\n",
    ")\n",
    "\"\n",
    "myquery <- str_c(\"WITH \",sql_ge,\",\",sql_pe,\",\",sql_co, \"SELECT * from correlation\")\n",
    "\n",
    "corr_tbl <- bq_project_query (project, query = myquery) #Put data in temporary BQ table\n",
    "corr_data <- bq_table_download(corr_tbl) #Put data into a dataframe\n",
    "head(corr_data)"
   ]
  },
  {
   "cell_type": "code",
   "execution_count": 96,
   "id": "41496632",
   "metadata": {},
   "outputs": [
    {
     "name": "stdout",
     "output_type": "stream",
     "text": [
      "[1] 124\n"
     ]
    }
   ],
   "source": [
    "print(nrow(corr_data))"
   ]
  },
  {
   "cell_type": "markdown",
   "id": "6790d109",
   "metadata": {},
   "source": [
    "### Compute P values"
   ]
  },
  {
   "cell_type": "code",
   "execution_count": 108,
   "id": "df31b3af",
   "metadata": {},
   "outputs": [
    {
     "data": {
      "text/html": [
       "<table class=\"dataframe\">\n",
       "<caption>A tibble: 6 × 6</caption>\n",
       "<thead>\n",
       "\t<tr><th scope=col>gene_name</th><th scope=col>Ensembl_gene_id</th><th scope=col>sample_type_name</th><th scope=col>Nsamples</th><th scope=col>corr</th><th scope=col>pvalue</th></tr>\n",
       "\t<tr><th scope=col>&lt;chr&gt;</th><th scope=col>&lt;chr&gt;</th><th scope=col>&lt;chr&gt;</th><th scope=col>&lt;int&gt;</th><th scope=col>&lt;dbl&gt;</th><th scope=col>&lt;dbl&gt;</th></tr>\n",
       "</thead>\n",
       "<tbody>\n",
       "\t<tr><td>ESR1 </td><td>ENSG00000091831</td><td>Primary Tumor</td><td>882</td><td>0.8114324</td><td>2.217067e-207</td></tr>\n",
       "\t<tr><td>ERBB2</td><td>ENSG00000141736</td><td>Primary Tumor</td><td>882</td><td>0.7839685</td><td>2.550308e-184</td></tr>\n",
       "\t<tr><td>BCL2 </td><td>ENSG00000171791</td><td>Primary Tumor</td><td>882</td><td>0.7730227</td><td>4.738713e-176</td></tr>\n",
       "\t<tr><td>AR   </td><td>ENSG00000169083</td><td>Primary Tumor</td><td>882</td><td>0.7566643</td><td>1.600889e-164</td></tr>\n",
       "\t<tr><td>CCNE1</td><td>ENSG00000105173</td><td>Primary Tumor</td><td>882</td><td>0.7510146</td><td>9.451461e-161</td></tr>\n",
       "\t<tr><td>GATA3</td><td>ENSG00000107485</td><td>Primary Tumor</td><td>882</td><td>0.7486965</td><td>3.116025e-159</td></tr>\n",
       "</tbody>\n",
       "</table>\n"
      ],
      "text/latex": [
       "A tibble: 6 × 6\n",
       "\\begin{tabular}{llllll}\n",
       " gene\\_name & Ensembl\\_gene\\_id & sample\\_type\\_name & Nsamples & corr & pvalue\\\\\n",
       " <chr> & <chr> & <chr> & <int> & <dbl> & <dbl>\\\\\n",
       "\\hline\n",
       "\t ESR1  & ENSG00000091831 & Primary Tumor & 882 & 0.8114324 & 2.217067e-207\\\\\n",
       "\t ERBB2 & ENSG00000141736 & Primary Tumor & 882 & 0.7839685 & 2.550308e-184\\\\\n",
       "\t BCL2  & ENSG00000171791 & Primary Tumor & 882 & 0.7730227 & 4.738713e-176\\\\\n",
       "\t AR    & ENSG00000169083 & Primary Tumor & 882 & 0.7566643 & 1.600889e-164\\\\\n",
       "\t CCNE1 & ENSG00000105173 & Primary Tumor & 882 & 0.7510146 & 9.451461e-161\\\\\n",
       "\t GATA3 & ENSG00000107485 & Primary Tumor & 882 & 0.7486965 & 3.116025e-159\\\\\n",
       "\\end{tabular}\n"
      ],
      "text/markdown": [
       "\n",
       "A tibble: 6 × 6\n",
       "\n",
       "| gene_name &lt;chr&gt; | Ensembl_gene_id &lt;chr&gt; | sample_type_name &lt;chr&gt; | Nsamples &lt;int&gt; | corr &lt;dbl&gt; | pvalue &lt;dbl&gt; |\n",
       "|---|---|---|---|---|---|\n",
       "| ESR1  | ENSG00000091831 | Primary Tumor | 882 | 0.8114324 | 2.217067e-207 |\n",
       "| ERBB2 | ENSG00000141736 | Primary Tumor | 882 | 0.7839685 | 2.550308e-184 |\n",
       "| BCL2  | ENSG00000171791 | Primary Tumor | 882 | 0.7730227 | 4.738713e-176 |\n",
       "| AR    | ENSG00000169083 | Primary Tumor | 882 | 0.7566643 | 1.600889e-164 |\n",
       "| CCNE1 | ENSG00000105173 | Primary Tumor | 882 | 0.7510146 | 9.451461e-161 |\n",
       "| GATA3 | ENSG00000107485 | Primary Tumor | 882 | 0.7486965 | 3.116025e-159 |\n",
       "\n"
      ],
      "text/plain": [
       "  gene_name Ensembl_gene_id sample_type_name Nsamples corr      pvalue       \n",
       "1 ESR1      ENSG00000091831 Primary Tumor    882      0.8114324 2.217067e-207\n",
       "2 ERBB2     ENSG00000141736 Primary Tumor    882      0.7839685 2.550308e-184\n",
       "3 BCL2      ENSG00000171791 Primary Tumor    882      0.7730227 4.738713e-176\n",
       "4 AR        ENSG00000169083 Primary Tumor    882      0.7566643 1.600889e-164\n",
       "5 CCNE1     ENSG00000105173 Primary Tumor    882      0.7510146 9.451461e-161\n",
       "6 GATA3     ENSG00000107485 Primary Tumor    882      0.7486965 3.116025e-159"
      ]
     },
     "metadata": {},
     "output_type": "display_data"
    }
   ],
   "source": [
    "# Build the query with all of the subqueries\n",
    "sql_pv = \"\n",
    "SELECT *, `cgc-05-0042.functions.corr_pvalue`(corr, Nsamples) AS pvalue\n",
    "FROM correlation\n",
    "ORDER BY pvalue\n",
    "\"\n",
    "myquery <- str_c(\"WITH \",sql_ge,\",\",sql_pe,\",\",sql_co,sql_pv)\n",
    "\n",
    "corr_tbl <- bq_project_query (project, query = myquery) #Put data in temporary BQ table\n",
    "corr_data <- bq_table_download(corr_tbl) #Put data into a dataframe\n",
    "head(corr_data)"
   ]
  },
  {
   "cell_type": "markdown",
   "id": "d3a090d2",
   "metadata": {},
   "source": [
    "### Adjust pvalues for multiple testing"
   ]
  },
  {
   "cell_type": "code",
   "execution_count": 109,
   "id": "b17c2476",
   "metadata": {},
   "outputs": [],
   "source": [
    "sqlBH = str_c (\"\n",
    "DECLARE Nrows INT64;\n",
    "CREATE TEMP TABLE PearsonCorrelation AS\n",
    "WITH \", \n",
    "sql_ge,\",\",sql_pe,\",\",sql_co,sql_pv,\n",
    "\";\n",
    "SET Nrows = ( SELECT COUNT(*) FROM PearsonCorrelation );\n",
    "CALL `cgc-05-0042.functions.BHmultipletests`( 'PearsonCorrelation', 'pvalue', Nrows )\" )\n"
   ]
  },
  {
   "cell_type": "code",
   "execution_count": 110,
   "id": "1974b6af",
   "metadata": {},
   "outputs": [
    {
     "data": {
      "text/html": [
       "<table class=\"dataframe\">\n",
       "<caption>A tibble: 6 × 7</caption>\n",
       "<thead>\n",
       "\t<tr><th scope=col>gene_name</th><th scope=col>Ensembl_gene_id</th><th scope=col>sample_type_name</th><th scope=col>Nsamples</th><th scope=col>corr</th><th scope=col>pvalue</th><th scope=col>p_adj</th></tr>\n",
       "\t<tr><th scope=col>&lt;chr&gt;</th><th scope=col>&lt;chr&gt;</th><th scope=col>&lt;chr&gt;</th><th scope=col>&lt;int&gt;</th><th scope=col>&lt;dbl&gt;</th><th scope=col>&lt;dbl&gt;</th><th scope=col>&lt;dbl&gt;</th></tr>\n",
       "</thead>\n",
       "<tbody>\n",
       "\t<tr><td>ESR1 </td><td>ENSG00000091831</td><td>Primary Tumor</td><td>882</td><td>0.8114324</td><td>2.217067e-207</td><td>8.668733e-205</td></tr>\n",
       "\t<tr><td>ERBB2</td><td>ENSG00000141736</td><td>Primary Tumor</td><td>882</td><td>0.7839685</td><td>2.550308e-184</td><td>4.985853e-182</td></tr>\n",
       "\t<tr><td>BCL2 </td><td>ENSG00000171791</td><td>Primary Tumor</td><td>882</td><td>0.7730227</td><td>4.738713e-176</td><td>6.176123e-174</td></tr>\n",
       "\t<tr><td>AR   </td><td>ENSG00000169083</td><td>Primary Tumor</td><td>882</td><td>0.7566643</td><td>1.600889e-164</td><td>1.564869e-162</td></tr>\n",
       "\t<tr><td>CCNE1</td><td>ENSG00000105173</td><td>Primary Tumor</td><td>882</td><td>0.7510146</td><td>9.451461e-161</td><td>7.391043e-159</td></tr>\n",
       "\t<tr><td>GATA3</td><td>ENSG00000107485</td><td>Primary Tumor</td><td>882</td><td>0.7486965</td><td>3.116025e-159</td><td>2.030610e-157</td></tr>\n",
       "</tbody>\n",
       "</table>\n"
      ],
      "text/latex": [
       "A tibble: 6 × 7\n",
       "\\begin{tabular}{lllllll}\n",
       " gene\\_name & Ensembl\\_gene\\_id & sample\\_type\\_name & Nsamples & corr & pvalue & p\\_adj\\\\\n",
       " <chr> & <chr> & <chr> & <int> & <dbl> & <dbl> & <dbl>\\\\\n",
       "\\hline\n",
       "\t ESR1  & ENSG00000091831 & Primary Tumor & 882 & 0.8114324 & 2.217067e-207 & 8.668733e-205\\\\\n",
       "\t ERBB2 & ENSG00000141736 & Primary Tumor & 882 & 0.7839685 & 2.550308e-184 & 4.985853e-182\\\\\n",
       "\t BCL2  & ENSG00000171791 & Primary Tumor & 882 & 0.7730227 & 4.738713e-176 & 6.176123e-174\\\\\n",
       "\t AR    & ENSG00000169083 & Primary Tumor & 882 & 0.7566643 & 1.600889e-164 & 1.564869e-162\\\\\n",
       "\t CCNE1 & ENSG00000105173 & Primary Tumor & 882 & 0.7510146 & 9.451461e-161 & 7.391043e-159\\\\\n",
       "\t GATA3 & ENSG00000107485 & Primary Tumor & 882 & 0.7486965 & 3.116025e-159 & 2.030610e-157\\\\\n",
       "\\end{tabular}\n"
      ],
      "text/markdown": [
       "\n",
       "A tibble: 6 × 7\n",
       "\n",
       "| gene_name &lt;chr&gt; | Ensembl_gene_id &lt;chr&gt; | sample_type_name &lt;chr&gt; | Nsamples &lt;int&gt; | corr &lt;dbl&gt; | pvalue &lt;dbl&gt; | p_adj &lt;dbl&gt; |\n",
       "|---|---|---|---|---|---|---|\n",
       "| ESR1  | ENSG00000091831 | Primary Tumor | 882 | 0.8114324 | 2.217067e-207 | 8.668733e-205 |\n",
       "| ERBB2 | ENSG00000141736 | Primary Tumor | 882 | 0.7839685 | 2.550308e-184 | 4.985853e-182 |\n",
       "| BCL2  | ENSG00000171791 | Primary Tumor | 882 | 0.7730227 | 4.738713e-176 | 6.176123e-174 |\n",
       "| AR    | ENSG00000169083 | Primary Tumor | 882 | 0.7566643 | 1.600889e-164 | 1.564869e-162 |\n",
       "| CCNE1 | ENSG00000105173 | Primary Tumor | 882 | 0.7510146 | 9.451461e-161 | 7.391043e-159 |\n",
       "| GATA3 | ENSG00000107485 | Primary Tumor | 882 | 0.7486965 | 3.116025e-159 | 2.030610e-157 |\n",
       "\n"
      ],
      "text/plain": [
       "  gene_name Ensembl_gene_id sample_type_name Nsamples corr      pvalue       \n",
       "1 ESR1      ENSG00000091831 Primary Tumor    882      0.8114324 2.217067e-207\n",
       "2 ERBB2     ENSG00000141736 Primary Tumor    882      0.7839685 2.550308e-184\n",
       "3 BCL2      ENSG00000171791 Primary Tumor    882      0.7730227 4.738713e-176\n",
       "4 AR        ENSG00000169083 Primary Tumor    882      0.7566643 1.600889e-164\n",
       "5 CCNE1     ENSG00000105173 Primary Tumor    882      0.7510146 9.451461e-161\n",
       "6 GATA3     ENSG00000107485 Primary Tumor    882      0.7486965 3.116025e-159\n",
       "  p_adj        \n",
       "1 8.668733e-205\n",
       "2 4.985853e-182\n",
       "3 6.176123e-174\n",
       "4 1.564869e-162\n",
       "5 7.391043e-159\n",
       "6 2.030610e-157"
      ]
     },
     "metadata": {},
     "output_type": "display_data"
    }
   ],
   "source": [
    "options(scipen=20)\n",
    "adjp_tbl <- bq_project_query (project, query = sqlBH) #Put data in temporary BQ table\n",
    "adjp_data <- bq_table_download(adjp_tbl) #Put data into a dataframe\n",
    "head(adjp_data)"
   ]
  },
  {
   "cell_type": "code",
   "execution_count": 111,
   "id": "e839e917",
   "metadata": {},
   "outputs": [
    {
     "data": {
      "text/html": [
       "391"
      ],
      "text/latex": [
       "391"
      ],
      "text/markdown": [
       "391"
      ],
      "text/plain": [
       "[1] 391"
      ]
     },
     "metadata": {},
     "output_type": "display_data"
    }
   ],
   "source": [
    "nrow( adjp_data )"
   ]
  },
  {
   "cell_type": "markdown",
   "id": "2480570e",
   "metadata": {},
   "source": [
    "### Histogram of correlations"
   ]
  },
  {
   "cell_type": "code",
   "execution_count": 112,
   "id": "3d11e658",
   "metadata": {},
   "outputs": [
    {
     "name": "stderr",
     "output_type": "stream",
     "text": [
      "`stat_bin()` using `bins = 30`. Pick better value with `binwidth`.\n",
      "\n"
     ]
    },
    {
     "data": {
      "image/png": "[encoded data removed]",
      "text/plain": [
       "plot without title"
      ]
     },
     "metadata": {
      "image/png": {
       "height": 420,
       "width": 420
      }
     },
     "output_type": "display_data"
    }
   ],
   "source": [
    "adjp_data$significant <- ifelse(adjp_data$p_adj >=0.05, 'False', 'True')\n",
    "\n",
    "p<-ggplot(adjp_data, aes(x=corr, fill=significant))+\n",
    "  geom_histogram(color=\"black\")+\n",
    "  facet_grid(sample_type_name ~ .)\n",
    "p"
   ]
  },
  {
   "cell_type": "code",
   "execution_count": null,
   "id": "d8a08299",
   "metadata": {},
   "outputs": [],
   "source": []
  }
 ],
 "metadata": {
  "environment": {
   "name": "r-cpu.4-0.m78",
   "type": "gcloud",
   "uri": "gcr.io/deeplearning-platform-release/r-cpu.4-0:m78"
  },
  "kernelspec": {
   "display_name": "R",
   "language": "R",
   "name": "ir"
  },
  "language_info": {
   "codemirror_mode": "r",
   "file_extension": ".r",
   "mimetype": "text/x-r-source",
   "name": "R",
   "pygments_lexer": "r",
   "version": "4.1.1"
  }
 },
 "nbformat": 4,
 "nbformat_minor": 5
}
