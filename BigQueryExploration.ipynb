{
 "cells": [
  {
   "cell_type": "code",
   "execution_count": null,
   "id": "1d94e315",
   "metadata": {},
   "outputs": [],
   "source": [
    "library(bigrquery)\n",
    "library(repr)"
   ]
  },
  {
   "cell_type": "markdown",
   "id": "e28d20b5",
   "metadata": {},
   "source": [
    "## Clinical and cohort queries\n",
    "How old are the patients for each case in a given project?"
   ]
  },
  {
   "cell_type": "code",
   "execution_count": null,
   "id": "d90cd608",
   "metadata": {},
   "outputs": [],
   "source": [
    "project <- \"isb-cgc-outreach\"\n",
    "\n",
    "case_sql <- \"select\n",
    "  submitter_id case_barcode,\n",
    "  demo__age_at_index age,\n",
    "  demo__vital_status vital\n",
    "from `isb-cgc-bq.TCGA.clinical_gdc_current`\n",
    "where proj__project_id = 'TCGA-BRCA'\n",
    "\"\n",
    "case_query <- bq_project_query(project, query=case_sql)\n",
    "case_df <- as.data.frame(bq_table_download(case_query))\n",
    "head(case_df)"
   ]
  },
  {
   "cell_type": "code",
   "execution_count": null,
   "id": "b93b1665",
   "metadata": {},
   "outputs": [],
   "source": [
    "options(repr.plot.width=7, repr.plot.height=4)\n",
    "case_num <- length(unique(case_df[,2]))\n",
    "hist(case_df[,2], breaks=case_num/2, main='age at index', xlab='age (years)')"
   ]
  },
  {
   "cell_type": "code",
   "execution_count": null,
   "id": "2317490b",
   "metadata": {},
   "outputs": [],
   "source": [
    "hist(case_df[case_df[,3] == 'Alive',2], \n",
    "     breaks=case_num/2, xlim=c(25,90), \n",
    "     col='steelblue1', main='', xlab='age (years)')\n",
    "hist(case_df[case_df[,3] == 'Dead',2], \n",
    "     breaks=case_num/2, add=1, col='orange')\n",
    "legend('topright', bty='n', legend=c('Alive', 'Dead'), fill=c('steelblue1', 'orange'))"
   ]
  },
  {
   "cell_type": "markdown",
   "id": "678013c8",
   "metadata": {},
   "source": [
    "## Gene expression\n",
    "How can we retrieve the RNAseq expression (fpkm-uq) of a specific gene in all cases from all the tissue types available?\n",
    "\n",
    "Table: *isb-cgc-bq.TCGA.RNAseq_hg38_gdc_current*"
   ]
  },
  {
   "cell_type": "code",
   "execution_count": null,
   "id": "e80c3e77",
   "metadata": {},
   "outputs": [],
   "source": [
    "expr_sql <- \"select\n",
    "  case_barcode,\n",
    "  aliquot_barcode,\n",
    "  sample_type_name,\n",
    "  HTSeq__FPKM_UQ\n",
    "from `isb-cgc-bq.TCGA.RNAseq_hg38_gdc_current`\n",
    "where project_short_name = 'TCGA-BRCA'\n",
    "and gene_name = 'CCNB1'\"\n",
    "\n",
    "expr_query <- bq_project_query(project, query=expr_sql)\n",
    "expr_df <- bq_table_download(expr_query)\n",
    "head(expr_df)"
   ]
  },
  {
   "cell_type": "code",
   "execution_count": null,
   "id": "850c835b",
   "metadata": {},
   "outputs": [],
   "source": [
    "tumor <- unlist(expr_df[expr_df[,3] == 'Primary Tumor',4])\n",
    "normal <- unlist(expr_df[expr_df[,3] == 'Solid Tissue Normal',4])\n",
    "metastatic <- unlist(expr_df[expr_df[,3] == 'Metastatic',4])\n",
    "\n",
    "boxplot(list(normal, tumor, metastatic), names=c('normal', 'tumor', 'metastatic'))"
   ]
  },
  {
   "cell_type": "markdown",
   "id": "9334de93",
   "metadata": {},
   "source": [
    "We can also generate summary statistics directly in BigQuery."
   ]
  },
  {
   "cell_type": "code",
   "execution_count": null,
   "id": "25762bd4",
   "metadata": {},
   "outputs": [],
   "source": [
    "summ_sql <- \"select\n",
    "  sample_type_name,\n",
    "  avg(HTSeq__FPKM_UQ) avg_fpkm,\n",
    "  stddev(HTSeq__FPKM_UQ) sdv_fpkm,\n",
    "  max(HTSeq__FPKM_UQ) max_fpkm,\n",
    "  min(HTSeq__FPKM_UQ) min_fpkm\n",
    "from `isb-cgc-bq.TCGA.RNAseq_hg38_gdc_current`\n",
    "where project_short_name = 'TCGA-BRCA'\n",
    "and gene_name = 'CCNB1'\n",
    "group by sample_type_name\"\n",
    "\n",
    "summ_query <- bq_project_query(project, query=summ_sql)\n",
    "summ_df <- bq_table_download(summ_query)\n",
    "head(summ_df)"
   ]
  },
  {
   "cell_type": "markdown",
   "id": "93c26830",
   "metadata": {},
   "source": [
    "## Genome annotation\n",
    "We can retrieve Gencode annotation data for specific genes from BigQuery tables\n",
    "\n",
    "Table: *isb-cgc-bq.GENCODE_versioned.annotation_gtf_hg38_v22*"
   ]
  },
  {
   "cell_type": "code",
   "execution_count": null,
   "id": "fdb7fb4b",
   "metadata": {},
   "outputs": [],
   "source": [
    "annot_sql <- \"select * from `isb-cgc-bq.GENCODE_versioned.annotation_gtf_hg38_v22` where gene_name = 'CCNB1' and transcript_name = 'CCNB1-001'\"\n",
    "\n",
    "annot_query <- bq_project_query(project, query=annot_sql)\n",
    "annot_df <- bq_table_download(annot_query)\n",
    "head(annot_df)"
   ]
  },
  {
   "cell_type": "markdown",
   "id": "d5e5a95e",
   "metadata": {},
   "source": [
    "## Mutation data\n",
    "Given the gene annotation data above we can query for mutations within a gene.\n",
    "\n",
    "Table: *isb-cgc-bq.TCGA.somatic_mutation_hg38_gdc_current*"
   ]
  },
  {
   "cell_type": "code",
   "execution_count": null,
   "id": "fcc8a305",
   "metadata": {},
   "outputs": [],
   "source": [
    "mut_sql <- \"select case_barcode, \n",
    "    Chromosome, \n",
    "    Start_Position, \n",
    "    End_Position, \n",
    "    Reference_Allele, \n",
    "    Tumor_Seq_Allele1, \n",
    "    Tumor_Seq_Allele2\n",
    "from `isb-cgc-bq.TCGA.somatic_mutation_hg38_gdc_current`\n",
    "where Chromosome = 'chr5'\n",
    "    and Start_Position > 69167135\n",
    "    and End_Position < 69177358\"\n",
    "\n",
    "mut_query <- bq_project_query(project, query=mut_sql)\n",
    "mut_df <- bq_table_download(mut_query)\n",
    "head(mut_df)"
   ]
  },
  {
   "cell_type": "code",
   "execution_count": null,
   "id": "104046aa",
   "metadata": {},
   "outputs": [],
   "source": [
    "options(repr.plot.width=15, repr.plot.height=4)\n",
    "mut_count <- table(mut_df[,3])\n",
    "max_count <- max(mut_count)\n",
    "plot(NA, xlim=c(min(mut_df[,3])-1000, max(mut_df[,3])+1000), ylim=c(-0.3,max_count), \n",
    "     yaxt='n', bty='n', main='', xlab='Chr5 position', ylab='occurance count')\n",
    "jnk <- apply(annot_df[annot_df$feature == 'exon',], 1, function(row){\n",
    "    rect(row[4], -0.2, row[5], -0.1, col='green')\n",
    "})\n",
    "axis(2, at=seq(0,3,1))\n",
    "jnk <- sapply(1:length(mut_count), function(ix){\n",
    "    x <- as.numeric(names(mut_count)[ix])\n",
    "    segments(x, 0, x, mut_count[ix])\n",
    "    })"
   ]
  },
  {
   "cell_type": "code",
   "execution_count": null,
   "id": "cd3d0374",
   "metadata": {},
   "outputs": [],
   "source": [
    "sql <- \"select case_barcode, \n",
    "    Chromosome, \n",
    "    Start_Position, \n",
    "    End_Position, \n",
    "    Reference_Allele, \n",
    "    Tumor_Seq_Allele1, \n",
    "    Tumor_Seq_Allele2\n",
    "from `isb-cgc-bq.TCGA.somatic_mutation_hg38_gdc_current`\n",
    "where \n",
    "    Chromosome = 'chr9'\n",
    "    and (\n",
    "        (Start_Position < 69067135 and Start_Position > 69167135)\n",
    "        or (End_Position > 69177358 and End_Position < 69277358)\n",
    "        )\"\n",
    "\n",
    "query <- bq_project_query(project, query=sql)\n",
    "df <- bq_table_download(query)\n",
    "head(df)"
   ]
  },
  {
   "cell_type": "markdown",
   "id": "20e6ce1b",
   "metadata": {},
   "source": [
    "## Table joins\n",
    "How do we join clinical and mutation data?\n",
    "\n",
    "Tables:\n",
    "*   *isb-cgc-bq.TCGA.clinical_gdc_current*\n",
    "*   *isb-cgc-bq.TCGA.somatic_mutation_hg38_gdc_current*"
   ]
  },
  {
   "cell_type": "code",
   "execution_count": null,
   "id": "030088c8",
   "metadata": {},
   "outputs": [],
   "source": [
    "sql <- \"select \n",
    "    mut.Chromosome, \n",
    "    mut.Start_Position, \n",
    "    mut.End_Position, \n",
    "    mut.Reference_Allele, \n",
    "    mut.Tumor_Seq_Allele1, \n",
    "    mut.Tumor_Seq_Allele2, \n",
    "    clin.demo__vital_status \n",
    "from `isb-cgc-bq.TCGA.clinical_gdc_current` clin\n",
    "join `isb-cgc-bq.TCGA.somatic_mutation_hg38_gdc_current` mut \n",
    "    on clin.submitter_id = mut.case_barcode\n",
    "where mut.project_short_name = 'TCGA-BRCA'\"\n",
    "\n",
    "query <- bq_project_query(project, query=sql)\n",
    "df <- bq_table_download(query)\n",
    "head(df)"
   ]
  },
  {
   "cell_type": "code",
   "execution_count": null,
   "id": "4ac5880f",
   "metadata": {},
   "outputs": [],
   "source": []
  }
 ],
 "metadata": {
  "environment": {
   "name": "r-cpu.4-0.m79",
   "type": "gcloud",
   "uri": "gcr.io/deeplearning-platform-release/r-cpu.4-0:m79"
  },
  "kernelspec": {
   "display_name": "R",
   "language": "R",
   "name": "ir"
  },
  "language_info": {
   "codemirror_mode": "r",
   "file_extension": ".r",
   "mimetype": "text/x-r-source",
   "name": "R",
   "pygments_lexer": "r",
   "version": "3.5.2"
  }
 },
 "nbformat": 4,
 "nbformat_minor": 5
}
