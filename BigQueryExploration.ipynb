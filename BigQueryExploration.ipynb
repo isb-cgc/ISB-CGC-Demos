{
  "nbformat": 4,
  "nbformat_minor": 5,
  "metadata": {
    "environment": {
      "name": "r-cpu.4-0.m79",
      "type": "gcloud",
      "uri": "gcr.io/deeplearning-platform-release/r-cpu.4-0:m79"
    },
    "kernelspec": {
      "display_name": "R",
      "language": "R",
      "name": "ir"
    },
    "language_info": {
      "codemirror_mode": "r",
      "file_extension": ".r",
      "mimetype": "text/x-r-source",
      "name": "R",
      "pygments_lexer": "r",
      "version": "3.5.2"
    },
    "colab": {
      "name": "BigQueryExploration.ipynb",
      "provenance": []
    }
  },
  "cells": [
    {
      "cell_type": "markdown",
      "metadata": {
        "id": "zRvNi7N95HUz"
      },
      "source": [
        "# BigQuery Exploration"
      ],
      "id": "zRvNi7N95HUz"
    },
    {
      "cell_type": "code",
      "metadata": {
        "id": "T7HqOYLQntUB"
      },
      "source": [
        "library(bigrquery)\n",
        "library(repr)\n",
        "bigrquery::bq_auth(path = \"/content/key-file\")\n",
        "project <- 'isb-cgc-outreach'"
      ],
      "id": "T7HqOYLQntUB",
      "execution_count": null,
      "outputs": []
    },
    {
      "cell_type": "markdown",
      "metadata": {
        "id": "_7KytyN4qjtv"
      },
      "source": [
        "## SQL queries\n",
        "SQL queries are fundamentally very similar to subsetting R data frames, where the syntax of subsetting an R data frame is as follows:\n",
        "\n",
        "> *dataframe*[ ,*column* ][ *conditional* ]\n",
        "\n",
        "The equivalent operation in SQL would look like this:\n",
        "\n",
        "> SELECT *column* FROM *table* WHERE *conditional*\n",
        "\n"
      ],
      "id": "_7KytyN4qjtv"
    },
    {
      "cell_type": "markdown",
      "metadata": {
        "id": "31792d6d"
      },
      "source": [
        "## Clinical and cohort queries\n",
        "In this section we want to showcase how researchers can find clinical information of GDC cases. How can you quickly construct a cohort. As an example, how old are the patients for each case in a given project?\n",
        "\n",
        "Tables used: *isb-cgc-bq.TCGA.clinical_gdc_current*"
      ],
      "id": "31792d6d"
    },
    {
      "cell_type": "code",
      "metadata": {
        "colab": {
          "base_uri": "https://localhost:8080/",
          "height": 190
        },
        "id": "9VS-nJnHsEsn",
        "outputId": "2bfd96e6-d801-44fc-d21b-d7612b558fa5"
      },
      "source": [
        "# Our first query is to retrieve the columns present\n",
        "column_sql <- \"SELECT \n",
        "    column_name \n",
        "FROM isb-cgc-bq.TCGA.INFORMATION_SCHEMA.COLUMNS \n",
        "WHERE table_name = 'clinical_gdc_current'\"\n",
        "\n",
        "column_query <- bq_project_query(project, query=column_sql)\n",
        "case_df <- as.vector(unlist(bq_table_download(column_query)))\n",
        "paste(case_df, collapse=', ')"
      ],
      "id": "9VS-nJnHsEsn",
      "execution_count": null,
      "outputs": [
        {
          "output_type": "display_data",
          "data": {
            "text/plain": [
              "[1] \"submitter_id, case_id, diag__treat__count, primary_site, disease_type, proj__name, proj__project_id, demo__demographic_id, demo__gender, demo__race, demo__ethnicity, demo__vital_status, demo__days_to_birth, demo__year_of_birth, demo__age_at_index, demo__year_of_death, demo__days_to_death, demo__state, demo__created_datetime, demo__updated_datetime, diag__diagnosis_id, diag__ajcc_clinical_n, diag__masaoka_stage, diag__ajcc_clinical_m, diag__primary_diagnosis, diag__primary_gleason_grade, diag__year_of_diagnosis, diag__figo_stage, diag__progression_or_recurrence, diag__ajcc_pathologic_m, diag__site_of_resection_or_biopsy, diag__ajcc_staging_system_edition, diag__icd_10_code, diag__age_at_diagnosis, diag__ajcc_clinical_t, diag__days_to_last_follow_up, diag__ajcc_pathologic_stage, diag__tumor_grade, diag__last_known_disease_status, diag__ann_arbor_extranodal_involvement, diag__ajcc_clinical_stage, diag__secondary_gleason_grade, diag__synchronous_malignancy, diag__morphology, diag__ajcc_pathologic_t, diag__igcccg_stage, diag__classification_of_tumor, diag__ann_arbor_clinical_stage, diag__ann_arbor_b_symptoms, diag__tumor_stage, diag__prior_treatment, diag__ajcc_pathologic_n, diag__tissue_or_organ_of_origin, diag__prior_malignancy, diag__state, diag__created_datetime, diag__updated_datetime, exp__exposure_id, exp__height, exp__weight, exp__bmi, exp__years_smoked, exp__pack_years_smoked, exp__cigarettes_per_day, exp__alcohol_history, exp__state, exp__created_datetime, exp__updated_datetime, state, updated_datetime\""
            ],
            "text/latex": "'submitter\\_id, case\\_id, diag\\_\\_treat\\_\\_count, primary\\_site, disease\\_type, proj\\_\\_name, proj\\_\\_project\\_id, demo\\_\\_demographic\\_id, demo\\_\\_gender, demo\\_\\_race, demo\\_\\_ethnicity, demo\\_\\_vital\\_status, demo\\_\\_days\\_to\\_birth, demo\\_\\_year\\_of\\_birth, demo\\_\\_age\\_at\\_index, demo\\_\\_year\\_of\\_death, demo\\_\\_days\\_to\\_death, demo\\_\\_state, demo\\_\\_created\\_datetime, demo\\_\\_updated\\_datetime, diag\\_\\_diagnosis\\_id, diag\\_\\_ajcc\\_clinical\\_n, diag\\_\\_masaoka\\_stage, diag\\_\\_ajcc\\_clinical\\_m, diag\\_\\_primary\\_diagnosis, diag\\_\\_primary\\_gleason\\_grade, diag\\_\\_year\\_of\\_diagnosis, diag\\_\\_figo\\_stage, diag\\_\\_progression\\_or\\_recurrence, diag\\_\\_ajcc\\_pathologic\\_m, diag\\_\\_site\\_of\\_resection\\_or\\_biopsy, diag\\_\\_ajcc\\_staging\\_system\\_edition, diag\\_\\_icd\\_10\\_code, diag\\_\\_age\\_at\\_diagnosis, diag\\_\\_ajcc\\_clinical\\_t, diag\\_\\_days\\_to\\_last\\_follow\\_up, diag\\_\\_ajcc\\_pathologic\\_stage, diag\\_\\_tumor\\_grade, diag\\_\\_last\\_known\\_disease\\_status, diag\\_\\_ann\\_arbor\\_extranodal\\_involvement, diag\\_\\_ajcc\\_clinical\\_stage, diag\\_\\_secondary\\_gleason\\_grade, diag\\_\\_synchronous\\_malignancy, diag\\_\\_morphology, diag\\_\\_ajcc\\_pathologic\\_t, diag\\_\\_igcccg\\_stage, diag\\_\\_classification\\_of\\_tumor, diag\\_\\_ann\\_arbor\\_clinical\\_stage, diag\\_\\_ann\\_arbor\\_b\\_symptoms, diag\\_\\_tumor\\_stage, diag\\_\\_prior\\_treatment, diag\\_\\_ajcc\\_pathologic\\_n, diag\\_\\_tissue\\_or\\_organ\\_of\\_origin, diag\\_\\_prior\\_malignancy, diag\\_\\_state, diag\\_\\_created\\_datetime, diag\\_\\_updated\\_datetime, exp\\_\\_exposure\\_id, exp\\_\\_height, exp\\_\\_weight, exp\\_\\_bmi, exp\\_\\_years\\_smoked, exp\\_\\_pack\\_years\\_smoked, exp\\_\\_cigarettes\\_per\\_day, exp\\_\\_alcohol\\_history, exp\\_\\_state, exp\\_\\_created\\_datetime, exp\\_\\_updated\\_datetime, state, updated\\_datetime'",
            "text/markdown": "'submitter_id, case_id, diag__treat__count, primary_site, disease_type, proj__name, proj__project_id, demo__demographic_id, demo__gender, demo__race, demo__ethnicity, demo__vital_status, demo__days_to_birth, demo__year_of_birth, demo__age_at_index, demo__year_of_death, demo__days_to_death, demo__state, demo__created_datetime, demo__updated_datetime, diag__diagnosis_id, diag__ajcc_clinical_n, diag__masaoka_stage, diag__ajcc_clinical_m, diag__primary_diagnosis, diag__primary_gleason_grade, diag__year_of_diagnosis, diag__figo_stage, diag__progression_or_recurrence, diag__ajcc_pathologic_m, diag__site_of_resection_or_biopsy, diag__ajcc_staging_system_edition, diag__icd_10_code, diag__age_at_diagnosis, diag__ajcc_clinical_t, diag__days_to_last_follow_up, diag__ajcc_pathologic_stage, diag__tumor_grade, diag__last_known_disease_status, diag__ann_arbor_extranodal_involvement, diag__ajcc_clinical_stage, diag__secondary_gleason_grade, diag__synchronous_malignancy, diag__morphology, diag__ajcc_pathologic_t, diag__igcccg_stage, diag__classification_of_tumor, diag__ann_arbor_clinical_stage, diag__ann_arbor_b_symptoms, diag__tumor_stage, diag__prior_treatment, diag__ajcc_pathologic_n, diag__tissue_or_organ_of_origin, diag__prior_malignancy, diag__state, diag__created_datetime, diag__updated_datetime, exp__exposure_id, exp__height, exp__weight, exp__bmi, exp__years_smoked, exp__pack_years_smoked, exp__cigarettes_per_day, exp__alcohol_history, exp__state, exp__created_datetime, exp__updated_datetime, state, updated_datetime'",
            "text/html": [
              "'submitter_id, case_id, diag__treat__count, primary_site, disease_type, proj__name, proj__project_id, demo__demographic_id, demo__gender, demo__race, demo__ethnicity, demo__vital_status, demo__days_to_birth, demo__year_of_birth, demo__age_at_index, demo__year_of_death, demo__days_to_death, demo__state, demo__created_datetime, demo__updated_datetime, diag__diagnosis_id, diag__ajcc_clinical_n, diag__masaoka_stage, diag__ajcc_clinical_m, diag__primary_diagnosis, diag__primary_gleason_grade, diag__year_of_diagnosis, diag__figo_stage, diag__progression_or_recurrence, diag__ajcc_pathologic_m, diag__site_of_resection_or_biopsy, diag__ajcc_staging_system_edition, diag__icd_10_code, diag__age_at_diagnosis, diag__ajcc_clinical_t, diag__days_to_last_follow_up, diag__ajcc_pathologic_stage, diag__tumor_grade, diag__last_known_disease_status, diag__ann_arbor_extranodal_involvement, diag__ajcc_clinical_stage, diag__secondary_gleason_grade, diag__synchronous_malignancy, diag__morphology, diag__ajcc_pathologic_t, diag__igcccg_stage, diag__classification_of_tumor, diag__ann_arbor_clinical_stage, diag__ann_arbor_b_symptoms, diag__tumor_stage, diag__prior_treatment, diag__ajcc_pathologic_n, diag__tissue_or_organ_of_origin, diag__prior_malignancy, diag__state, diag__created_datetime, diag__updated_datetime, exp__exposure_id, exp__height, exp__weight, exp__bmi, exp__years_smoked, exp__pack_years_smoked, exp__cigarettes_per_day, exp__alcohol_history, exp__state, exp__created_datetime, exp__updated_datetime, state, updated_datetime'"
            ]
          },
          "metadata": {}
        }
      ]
    },
    {
      "cell_type": "code",
      "metadata": {
        "colab": {
          "base_uri": "https://localhost:8080/",
          "height": 285
        },
        "id": "00408325",
        "outputId": "a8bdc80c-2125-4828-9ee9-7310c55ff524"
      },
      "source": [
        "# our second query retrieves the ages of all TCGA-BRCA cases\n",
        "case_sql <- \"SELECT\n",
        "  submitter_id,\n",
        "  demo__age_at_index,\n",
        "  demo__vital_status,\n",
        "FROM `isb-cgc-bq.TCGA.clinical_gdc_current`\n",
        "WHERE proj__project_id = 'TCGA-BRCA'\n",
        "\"\n",
        "case_query <- bq_project_query(project, query=case_sql)\n",
        "case_df <- as.data.frame(bq_table_download(case_query))\n",
        "head(case_df)\n",
        "\n",
        "# Try substituting alternate or adding columns such as:\n",
        "#   demo__vital_status\n",
        "#   demo__race\n",
        "# Find all the unique values that are in a column by querying only for:\n",
        "#   distinct demo__race\n",
        "# Try subseting the results by use of the where clause:\n",
        "#   proj__project_id = 'TCGA-BRCA'\n",
        "#   demo__age_at_index <= 70 AND demo__age_at_index >= 40"
      ],
      "id": "00408325",
      "execution_count": null,
      "outputs": [
        {
          "output_type": "display_data",
          "data": {
            "text/plain": [
              "  demo__age_at_index demo__vital_status\n",
              "1 81                 Alive             \n",
              "2 76                 Alive             \n",
              "3 40                 Alive             \n",
              "4 69                 Alive             \n",
              "5 46                 Dead              \n",
              "6 61                 Alive             "
            ],
            "text/latex": "A data.frame: 6 × 2\n\\begin{tabular}{r|ll}\n  & demo\\_\\_age\\_at\\_index & demo\\_\\_vital\\_status\\\\\n  & <int> & <chr>\\\\\n\\hline\n\t1 & 81 & Alive\\\\\n\t2 & 76 & Alive\\\\\n\t3 & 40 & Alive\\\\\n\t4 & 69 & Alive\\\\\n\t5 & 46 & Dead \\\\\n\t6 & 61 & Alive\\\\\n\\end{tabular}\n",
            "text/markdown": "\nA data.frame: 6 × 2\n\n| <!--/--> | demo__age_at_index &lt;int&gt; | demo__vital_status &lt;chr&gt; |\n|---|---|---|\n| 1 | 81 | Alive |\n| 2 | 76 | Alive |\n| 3 | 40 | Alive |\n| 4 | 69 | Alive |\n| 5 | 46 | Dead  |\n| 6 | 61 | Alive |\n\n",
            "text/html": [
              "<table class=\"dataframe\">\n",
              "<caption>A data.frame: 6 × 2</caption>\n",
              "<thead>\n",
              "\t<tr><th></th><th scope=col>demo__age_at_index</th><th scope=col>demo__vital_status</th></tr>\n",
              "\t<tr><th></th><th scope=col>&lt;int&gt;</th><th scope=col>&lt;chr&gt;</th></tr>\n",
              "</thead>\n",
              "<tbody>\n",
              "\t<tr><th scope=row>1</th><td>81</td><td>Alive</td></tr>\n",
              "\t<tr><th scope=row>2</th><td>76</td><td>Alive</td></tr>\n",
              "\t<tr><th scope=row>3</th><td>40</td><td>Alive</td></tr>\n",
              "\t<tr><th scope=row>4</th><td>69</td><td>Alive</td></tr>\n",
              "\t<tr><th scope=row>5</th><td>46</td><td>Dead </td></tr>\n",
              "\t<tr><th scope=row>6</th><td>61</td><td>Alive</td></tr>\n",
              "</tbody>\n",
              "</table>\n"
            ]
          },
          "metadata": {}
        }
      ]
    },
    {
      "cell_type": "code",
      "metadata": {
        "colab": {
          "base_uri": "https://localhost:8080/",
          "height": 347
        },
        "id": "2025d3b5",
        "outputId": "f3cc2589-37e7-42c8-a0f6-17aa2073bbef"
      },
      "source": [
        "# since we have the data in R we can directly generate visuals\n",
        "options(repr.plot.width=7, repr.plot.height=5.5)\n",
        "case_num <- length(unique(case_df[,2]))\n",
        "hist(case_df[,2], breaks=case_num/2, main='age at index', xlab='age (years)')"
      ],
      "id": "2025d3b5",
      "execution_count": null,
      "outputs": [
        {
          "output_type": "display_data",
          "data": {
            "image/png": "[encoded data removed]",
            "text/plain": [
              "Plot with title “age at index”"
            ]
          },
          "metadata": {
            "image/png": {
              "width": 420,
              "height": 330
            }
          }
        }
      ]
    },
    {
      "cell_type": "code",
      "metadata": {
        "colab": {
          "base_uri": "https://localhost:8080/",
          "height": 347
        },
        "id": "c28f3bd4",
        "outputId": "12d0db1f-9815-4e6f-f581-71fd36e87470"
      },
      "source": [
        "# including separating by vital status\n",
        "hist(case_df[case_df[,3] == 'Alive',2], \n",
        "     breaks=case_num/2, xlim=c(25,90), \n",
        "     col='steelblue1', main='', xlab='age (years)')\n",
        "hist(case_df[case_df[,3] == 'Dead',2], \n",
        "     breaks=case_num/2, add=1, col='orange')\n",
        "legend('topright', bty='n', legend=c('Alive', 'Dead'), fill=c('steelblue1', 'orange'))"
      ],
      "id": "c28f3bd4",
      "execution_count": null,
      "outputs": [
        {
          "output_type": "display_data",
          "data": {
            "image/png": "[encoded data removed]",
            "text/plain": [
              "Plot with title “”"
            ]
          },
          "metadata": {
            "image/png": {
              "width": 420,
              "height": 330
            }
          }
        }
      ]
    },
    {
      "cell_type": "markdown",
      "metadata": {
        "id": "9e1e6dff"
      },
      "source": [
        "## Gene expression\n",
        "Another common question researchers encounter is, given a gene of interest what is the expression pattern in cancers? Using the GDC expression tables it's possible to retrieve huge amounts of information and do high level comparisons quickly.\n",
        "\n",
        "Tables used: *isb-cgc-bq.TCGA.RNAseq_hg38_gdc_current*"
      ],
      "id": "9e1e6dff"
    },
    {
      "cell_type": "code",
      "metadata": {
        "colab": {
          "base_uri": "https://localhost:8080/",
          "height": 285
        },
        "id": "d324caa8",
        "outputId": "26226629-bfca-427d-8894-c8a3ccbcf814"
      },
      "source": [
        "# a query to retrieve FPKM_UQ values for one specific gene (CCNB1)\n",
        "expr_sql <- \"SELECT\n",
        "  case_barcode,\n",
        "  aliquot_barcode,\n",
        "  sample_type_name,\n",
        "  HTSeq__FPKM_UQ\n",
        "FROM `isb-cgc-bq.TCGA.RNAseq_hg38_gdc_current`\n",
        "WHERE project_short_name = 'TCGA-BRCA'\n",
        "  AND gene_name = 'BRCA1' #'CCNB1'\"\n",
        "\n",
        "expr_query <- bq_project_query(project, query=expr_sql)\n",
        "expr_df <- bq_table_download(expr_query)\n",
        "head(expr_df)\n",
        "\n",
        "# try changing the project_short_name to 'TCGA-LUAD'\n",
        "# or substitute HTSeq__FPKM_UQ to retrieve other measures\n",
        "#    HTSeq__counts\n",
        "#    HTSeq__FPKM\n",
        "# change the gene name\n",
        "#    BRCA1\n",
        "#    BRCA2\n",
        "#    FOXA1"
      ],
      "id": "d324caa8",
      "execution_count": null,
      "outputs": [
        {
          "output_type": "display_data",
          "data": {
            "text/plain": [
              "  case_barcode aliquot_barcode              sample_type_name    HTSeq__FPKM_UQ\n",
              "1 TCGA-E2-A572 TCGA-E2-A572-01A-13R-A31O-07 Primary Tumor       18923.580     \n",
              "2 TCGA-BH-A0BQ TCGA-BH-A0BQ-11A-33R-A115-07 Solid Tissue Normal 35066.190     \n",
              "3 TCGA-B6-A0IJ TCGA-B6-A0IJ-01A-11R-A034-07 Primary Tumor        8246.802     \n",
              "4 TCGA-BH-A0DX TCGA-BH-A0DX-01A-11R-A115-07 Primary Tumor       25733.895     \n",
              "5 TCGA-A7-A4SD TCGA-A7-A4SD-01A-11R-A266-07 Primary Tumor       56027.117     \n",
              "6 TCGA-AR-A24X TCGA-AR-A24X-01A-11R-A169-07 Primary Tumor       65654.935     "
            ],
            "text/latex": "A tibble: 6 × 4\n\\begin{tabular}{llll}\n case\\_barcode & aliquot\\_barcode & sample\\_type\\_name & HTSeq\\_\\_FPKM\\_UQ\\\\\n <chr> & <chr> & <chr> & <dbl>\\\\\n\\hline\n\t TCGA-E2-A572 & TCGA-E2-A572-01A-13R-A31O-07 & Primary Tumor       & 18923.580\\\\\n\t TCGA-BH-A0BQ & TCGA-BH-A0BQ-11A-33R-A115-07 & Solid Tissue Normal & 35066.190\\\\\n\t TCGA-B6-A0IJ & TCGA-B6-A0IJ-01A-11R-A034-07 & Primary Tumor       &  8246.802\\\\\n\t TCGA-BH-A0DX & TCGA-BH-A0DX-01A-11R-A115-07 & Primary Tumor       & 25733.895\\\\\n\t TCGA-A7-A4SD & TCGA-A7-A4SD-01A-11R-A266-07 & Primary Tumor       & 56027.117\\\\\n\t TCGA-AR-A24X & TCGA-AR-A24X-01A-11R-A169-07 & Primary Tumor       & 65654.935\\\\\n\\end{tabular}\n",
            "text/markdown": "\nA tibble: 6 × 4\n\n| case_barcode &lt;chr&gt; | aliquot_barcode &lt;chr&gt; | sample_type_name &lt;chr&gt; | HTSeq__FPKM_UQ &lt;dbl&gt; |\n|---|---|---|---|\n| TCGA-E2-A572 | TCGA-E2-A572-01A-13R-A31O-07 | Primary Tumor       | 18923.580 |\n| TCGA-BH-A0BQ | TCGA-BH-A0BQ-11A-33R-A115-07 | Solid Tissue Normal | 35066.190 |\n| TCGA-B6-A0IJ | TCGA-B6-A0IJ-01A-11R-A034-07 | Primary Tumor       |  8246.802 |\n| TCGA-BH-A0DX | TCGA-BH-A0DX-01A-11R-A115-07 | Primary Tumor       | 25733.895 |\n| TCGA-A7-A4SD | TCGA-A7-A4SD-01A-11R-A266-07 | Primary Tumor       | 56027.117 |\n| TCGA-AR-A24X | TCGA-AR-A24X-01A-11R-A169-07 | Primary Tumor       | 65654.935 |\n\n",
            "text/html": [
              "<table class=\"dataframe\">\n",
              "<caption>A tibble: 6 × 4</caption>\n",
              "<thead>\n",
              "\t<tr><th scope=col>case_barcode</th><th scope=col>aliquot_barcode</th><th scope=col>sample_type_name</th><th scope=col>HTSeq__FPKM_UQ</th></tr>\n",
              "\t<tr><th scope=col>&lt;chr&gt;</th><th scope=col>&lt;chr&gt;</th><th scope=col>&lt;chr&gt;</th><th scope=col>&lt;dbl&gt;</th></tr>\n",
              "</thead>\n",
              "<tbody>\n",
              "\t<tr><td>TCGA-E2-A572</td><td>TCGA-E2-A572-01A-13R-A31O-07</td><td>Primary Tumor      </td><td>18923.580</td></tr>\n",
              "\t<tr><td>TCGA-BH-A0BQ</td><td>TCGA-BH-A0BQ-11A-33R-A115-07</td><td>Solid Tissue Normal</td><td>35066.190</td></tr>\n",
              "\t<tr><td>TCGA-B6-A0IJ</td><td>TCGA-B6-A0IJ-01A-11R-A034-07</td><td>Primary Tumor      </td><td> 8246.802</td></tr>\n",
              "\t<tr><td>TCGA-BH-A0DX</td><td>TCGA-BH-A0DX-01A-11R-A115-07</td><td>Primary Tumor      </td><td>25733.895</td></tr>\n",
              "\t<tr><td>TCGA-A7-A4SD</td><td>TCGA-A7-A4SD-01A-11R-A266-07</td><td>Primary Tumor      </td><td>56027.117</td></tr>\n",
              "\t<tr><td>TCGA-AR-A24X</td><td>TCGA-AR-A24X-01A-11R-A169-07</td><td>Primary Tumor      </td><td>65654.935</td></tr>\n",
              "</tbody>\n",
              "</table>\n"
            ]
          },
          "metadata": {}
        }
      ]
    },
    {
      "cell_type": "code",
      "metadata": {
        "colab": {
          "base_uri": "https://localhost:8080/",
          "height": 377
        },
        "id": "48080216",
        "outputId": "314285b6-073c-4308-d358-52792cf0576f"
      },
      "source": [
        "options(repr.plot.width=5, repr.plot.height=6)\n",
        "tumor <- unlist(expr_df[expr_df[,3] == 'Primary Tumor',4])\n",
        "normal <- unlist(expr_df[expr_df[,3] == 'Solid Tissue Normal',4])\n",
        "metastatic <- unlist(expr_df[expr_df[,3] == 'Metastatic',4])\n",
        "\n",
        "boxplot(list(normal, tumor, metastatic), names=c('normal', 'tumor', 'metastatic'), main='CCNB1 expression', ylab='upper-quartile fpkm')"
      ],
      "id": "48080216",
      "execution_count": null,
      "outputs": [
        {
          "output_type": "display_data",
          "data": {
            "image/png": "[encoded data removed]",
            "text/plain": [
              "Plot with title “CCNB1 expression”"
            ]
          },
          "metadata": {
            "image/png": {
              "width": 300,
              "height": 360
            }
          }
        }
      ]
    },
    {
      "cell_type": "markdown",
      "metadata": {
        "id": "7962dcc3"
      },
      "source": [
        "As the size of the data of interest increases, calculating statistics on a local machine may become prohibitive. One of the benefits of BigQuery is that it scales compute power to the demands of the query. We can functions built into BQ to generate summary statistics."
      ],
      "id": "7962dcc3"
    },
    {
      "cell_type": "code",
      "metadata": {
        "colab": {
          "base_uri": "https://localhost:8080/",
          "height": 1000
        },
        "id": "9b238642",
        "outputId": "cbcd260e-fbeb-45d7-fae8-61407bb1f380"
      },
      "source": [
        "# This query will calculate averages, standard deviations, maximums, and minimums\n",
        "summ_sql <- \"SELECT\n",
        "  project_short_name,\n",
        "  sample_type_name,\n",
        "  count( distinct aliquot_barcode ) count_aliq,\n",
        "  avg(HTSeq__FPKM_UQ) avg_fpkm,\n",
        "  stddev(HTSeq__FPKM_UQ) sdv_fpkm,\n",
        "  max(HTSeq__FPKM_UQ) max_fpkm,\n",
        "  min(HTSeq__FPKM_UQ) min_fpkm\n",
        "FROM `isb-cgc-bq.TCGA.RNAseq_hg38_gdc_current`\n",
        "WHERE gene_name = 'CCNB1'\n",
        "GROUP BY project_short_name, sample_type_name\n",
        "\"\n",
        "\n",
        "summ_query <- bq_project_query(project, query=summ_sql)\n",
        "summ_df <- bq_table_download(summ_query)\n",
        "head(summ_df)\n",
        "\n",
        "# Other functions such as count and distinct can add useful information\n",
        "#    count( distinct aliquot_barcode )\n",
        "# Retrieve results for all genes or for all projects by\n",
        "# removing gene_name from the WHERE clause \n",
        "# and adding it to SELECT and GROUP BY"
      ],
      "id": "9b238642",
      "execution_count": null,
      "outputs": [
        {
          "output_type": "display_data",
          "data": {
            "text/plain": [
              "   project_short_name sample_type_name                               \n",
              "1  TCGA-KIRC          Primary Tumor                                  \n",
              "2  TCGA-LAML          Primary Blood Derived Cancer - Peripheral Blood\n",
              "3  TCGA-KIRP          Primary Tumor                                  \n",
              "4  TCGA-CESC          Primary Tumor                                  \n",
              "5  TCGA-PAAD          Primary Tumor                                  \n",
              "6  TCGA-READ          Primary Tumor                                  \n",
              "7  TCGA-BRCA          Solid Tissue Normal                            \n",
              "8  TCGA-ESCA          Primary Tumor                                  \n",
              "9  TCGA-KIRC          Solid Tissue Normal                            \n",
              "10 TCGA-CHOL          Solid Tissue Normal                            \n",
              "11 TCGA-COAD          Recurrent Tumor                                \n",
              "12 TCGA-STAD          Solid Tissue Normal                            \n",
              "13 TCGA-BLCA          Solid Tissue Normal                            \n",
              "14 TCGA-SARC          Recurrent Tumor                                \n",
              "15 TCGA-PAAD          Solid Tissue Normal                            \n",
              "16 TCGA-CESC          Solid Tissue Normal                            \n",
              "17 TCGA-ESCA          Solid Tissue Normal                            \n",
              "18 TCGA-CESC          Metastatic                                     \n",
              "19 TCGA-LIHC          Solid Tissue Normal                            \n",
              "20 TCGA-COAD          Solid Tissue Normal                            \n",
              "21 TCGA-LUAD          Solid Tissue Normal                            \n",
              "22 TCGA-KIRP          Solid Tissue Normal                            \n",
              "23 TCGA-ACC           Primary Tumor                                  \n",
              "24 TCGA-COAD          Metastatic                                     \n",
              "25 TCGA-GBM           Solid Tissue Normal                            \n",
              "26 TCGA-PCPG          Metastatic                                     \n",
              "27 TCGA-KIRC          Additional - New Primary                       \n",
              "28 TCGA-THCA          Metastatic                                     \n",
              "29 TCGA-UCEC          Solid Tissue Normal                            \n",
              "30 TCGA-TGCT          Additional - New Primary                       \n",
              "⋮  ⋮                  ⋮                                              \n",
              "53 TCGA-SARC          Solid Tissue Normal                            \n",
              "54 TCGA-MESO          Primary Tumor                                  \n",
              "55 TCGA-LUAD          Primary Tumor                                  \n",
              "56 TCGA-TGCT          Primary Tumor                                  \n",
              "57 TCGA-LIHC          Primary Tumor                                  \n",
              "58 TCGA-KIRP          Additional - New Primary                       \n",
              "59 TCGA-OV            Primary Tumor                                  \n",
              "60 TCGA-ESCA          Metastatic                                     \n",
              "61 TCGA-GBM           Primary Tumor                                  \n",
              "62 TCGA-READ          Solid Tissue Normal                            \n",
              "63 TCGA-LIHC          Recurrent Tumor                                \n",
              "64 TCGA-LUAD          Recurrent Tumor                                \n",
              "65 TCGA-HNSC          Primary Tumor                                  \n",
              "66 TCGA-UVM           Primary Tumor                                  \n",
              "67 TCGA-LUSC          Primary Tumor                                  \n",
              "68 TCGA-UCEC          Primary Tumor                                  \n",
              "69 TCGA-LUSC          Solid Tissue Normal                            \n",
              "70 TCGA-SKCM          Primary Tumor                                  \n",
              "71 TCGA-HNSC          Metastatic                                     \n",
              "72 TCGA-PCPG          Additional - New Primary                       \n",
              "73 TCGA-SKCM          Solid Tissue Normal                            \n",
              "74 TCGA-SARC          Primary Tumor                                  \n",
              "75 TCGA-THYM          Solid Tissue Normal                            \n",
              "76 TCGA-HNSC          Solid Tissue Normal                            \n",
              "77 TCGA-BRCA          Primary Tumor                                  \n",
              "78 TCGA-STAD          Primary Tumor                                  \n",
              "79 TCGA-DLBC          Primary Tumor                                  \n",
              "80 TCGA-THCA          Solid Tissue Normal                            \n",
              "81 TCGA-KICH          Primary Tumor                                  \n",
              "82 TCGA-READ          Recurrent Tumor                                \n",
              "   count_aliq avg_fpkm   sdv_fpkm   max_fpkm   min_fpkm \n",
              "1  538         121424.63 127717.885 1475843.49  30926.66\n",
              "2  151         260716.04 158005.676  812492.50  36127.69\n",
              "3  288         101011.04  87973.475  629245.35  25906.31\n",
              "4  304        1067673.23 451652.372 3026999.46 296749.85\n",
              "5  177         222329.87 143295.594  808567.04  39667.17\n",
              "6  166         849050.52 419447.409 2599759.74 162938.10\n",
              "7  113          83936.42  42956.424  360053.36  27281.68\n",
              "8  161         545854.67 298643.670 1579628.48 108445.40\n",
              "9   72          60710.37  35986.430  263844.18  33512.31\n",
              "10   9          23653.31   6599.819   32273.07  11953.70\n",
              "11   1         451752.71         NA  451752.71 451752.71\n",
              "12  32         184532.19 140955.364  556162.38  15654.61\n",
              "13  19         182221.18 202105.659  592658.42  24433.15\n",
              "14   3         669399.56 449377.593 1123891.17 225316.83\n",
              "15   4          95531.29  41697.665  155864.70  62249.36\n",
              "16   3          59448.31  22298.242   79312.41  35329.13\n",
              "17  11         138407.28 110278.579  363229.14  18979.21\n",
              "18   2        1103629.07 348252.523 1349880.79 857377.35\n",
              "19  50          30735.26  19273.487  104914.23  12864.25\n",
              "20  41         296813.51 128994.930  668415.86  69386.19\n",
              "21  59          49642.33  23877.226  181920.29  27592.05\n",
              "22  32          48717.90  12858.726   78773.43  31895.49\n",
              "23  79         492109.25 382721.337 1597020.22  40475.29\n",
              "24   1         626045.15         NA  626045.15 626045.15\n",
              "25   5          53315.18  10562.395   64612.11  35987.35\n",
              "26   2         160026.92 121612.699  246020.08  74033.75\n",
              "27   1          95396.40         NA   95396.40  95396.40\n",
              "28   8         134715.72  38379.473  221829.84 104176.02\n",
              "29  35         100055.03 100018.350  596020.27  27536.19\n",
              "30   6         772469.35 163696.242 1017802.48 570029.66\n",
              "⋮  ⋮          ⋮          ⋮          ⋮          ⋮        \n",
              "53    2         81174.51  49376.84   116089.21  46259.81\n",
              "54   86        427084.62 326090.98  1632456.68  31555.94\n",
              "55  533        396478.60 331420.96  2902518.99  24994.55\n",
              "56  150       1094487.94 551722.43  2742293.28 120920.48\n",
              "57  371        312194.50 281703.03  2109636.32  16884.04\n",
              "58    1         91704.61        NA    91704.61  91704.61\n",
              "59  374        686381.88 402970.36  2818619.70  77727.51\n",
              "60    1        428577.88        NA   428577.88 428577.88\n",
              "61  156        483166.90 314624.64  2103668.53  58673.09\n",
              "62   10        367621.43 207693.15   682860.11 127743.19\n",
              "63    3        286091.33 132047.91   376649.85 134576.40\n",
              "64    2        531892.83  36065.13   557394.73 506390.93\n",
              "65  500        875406.77 482960.88  3501559.09  86054.87\n",
              "66   80        184611.52  91112.61   519416.37  34629.75\n",
              "67  502        662044.00 352597.94  2867187.24  43074.24\n",
              "68  551        849526.43 469423.78  2593340.05  58595.83\n",
              "69   49         52677.50  35240.22   194324.89  21458.26\n",
              "70  103        537026.64 275940.41  2131271.17 124281.97\n",
              "71    2       1233412.92 925509.79  1887847.17 578978.67\n",
              "72    3        143204.68  82527.57   200432.13  48601.83\n",
              "73    1        535374.36        NA   535374.36 535374.36\n",
              "74  259        545409.32 416261.12  2207544.59  44166.18\n",
              "75    2        570989.68 490396.53   917752.39 224226.97\n",
              "76   44        378242.51 240864.95   920476.90  33078.23\n",
              "77 1102        487856.42 330626.67  2367486.83  55186.72\n",
              "78  375        492654.49 285628.29  1856463.48  36360.95\n",
              "79   48       1229602.16 559847.74  3132910.87 281316.05\n",
              "80   58        134962.96  66662.24   546708.33  87197.46\n",
              "81   65        149559.44 193472.56  1228843.19  16479.74\n",
              "82    1         90685.37        NA    90685.37  90685.37"
            ],
            "text/latex": "A tibble: 82 × 7\n\\begin{tabular}{lllllll}\n project\\_short\\_name & sample\\_type\\_name & count\\_aliq & avg\\_fpkm & sdv\\_fpkm & max\\_fpkm & min\\_fpkm\\\\\n <chr> & <chr> & <int> & <dbl> & <dbl> & <dbl> & <dbl>\\\\\n\\hline\n\t TCGA-KIRC & Primary Tumor                                   & 538 &  121424.63 & 127717.885 & 1475843.49 &  30926.66\\\\\n\t TCGA-LAML & Primary Blood Derived Cancer - Peripheral Blood & 151 &  260716.04 & 158005.676 &  812492.50 &  36127.69\\\\\n\t TCGA-KIRP & Primary Tumor                                   & 288 &  101011.04 &  87973.475 &  629245.35 &  25906.31\\\\\n\t TCGA-CESC & Primary Tumor                                   & 304 & 1067673.23 & 451652.372 & 3026999.46 & 296749.85\\\\\n\t TCGA-PAAD & Primary Tumor                                   & 177 &  222329.87 & 143295.594 &  808567.04 &  39667.17\\\\\n\t TCGA-READ & Primary Tumor                                   & 166 &  849050.52 & 419447.409 & 2599759.74 & 162938.10\\\\\n\t TCGA-BRCA & Solid Tissue Normal                             & 113 &   83936.42 &  42956.424 &  360053.36 &  27281.68\\\\\n\t TCGA-ESCA & Primary Tumor                                   & 161 &  545854.67 & 298643.670 & 1579628.48 & 108445.40\\\\\n\t TCGA-KIRC & Solid Tissue Normal                             &  72 &   60710.37 &  35986.430 &  263844.18 &  33512.31\\\\\n\t TCGA-CHOL & Solid Tissue Normal                             &   9 &   23653.31 &   6599.819 &   32273.07 &  11953.70\\\\\n\t TCGA-COAD & Recurrent Tumor                                 &   1 &  451752.71 &         NA &  451752.71 & 451752.71\\\\\n\t TCGA-STAD & Solid Tissue Normal                             &  32 &  184532.19 & 140955.364 &  556162.38 &  15654.61\\\\\n\t TCGA-BLCA & Solid Tissue Normal                             &  19 &  182221.18 & 202105.659 &  592658.42 &  24433.15\\\\\n\t TCGA-SARC & Recurrent Tumor                                 &   3 &  669399.56 & 449377.593 & 1123891.17 & 225316.83\\\\\n\t TCGA-PAAD & Solid Tissue Normal                             &   4 &   95531.29 &  41697.665 &  155864.70 &  62249.36\\\\\n\t TCGA-CESC & Solid Tissue Normal                             &   3 &   59448.31 &  22298.242 &   79312.41 &  35329.13\\\\\n\t TCGA-ESCA & Solid Tissue Normal                             &  11 &  138407.28 & 110278.579 &  363229.14 &  18979.21\\\\\n\t TCGA-CESC & Metastatic                                      &   2 & 1103629.07 & 348252.523 & 1349880.79 & 857377.35\\\\\n\t TCGA-LIHC & Solid Tissue Normal                             &  50 &   30735.26 &  19273.487 &  104914.23 &  12864.25\\\\\n\t TCGA-COAD & Solid Tissue Normal                             &  41 &  296813.51 & 128994.930 &  668415.86 &  69386.19\\\\\n\t TCGA-LUAD & Solid Tissue Normal                             &  59 &   49642.33 &  23877.226 &  181920.29 &  27592.05\\\\\n\t TCGA-KIRP & Solid Tissue Normal                             &  32 &   48717.90 &  12858.726 &   78773.43 &  31895.49\\\\\n\t TCGA-ACC  & Primary Tumor                                   &  79 &  492109.25 & 382721.337 & 1597020.22 &  40475.29\\\\\n\t TCGA-COAD & Metastatic                                      &   1 &  626045.15 &         NA &  626045.15 & 626045.15\\\\\n\t TCGA-GBM  & Solid Tissue Normal                             &   5 &   53315.18 &  10562.395 &   64612.11 &  35987.35\\\\\n\t TCGA-PCPG & Metastatic                                      &   2 &  160026.92 & 121612.699 &  246020.08 &  74033.75\\\\\n\t TCGA-KIRC & Additional - New Primary                        &   1 &   95396.40 &         NA &   95396.40 &  95396.40\\\\\n\t TCGA-THCA & Metastatic                                      &   8 &  134715.72 &  38379.473 &  221829.84 & 104176.02\\\\\n\t TCGA-UCEC & Solid Tissue Normal                             &  35 &  100055.03 & 100018.350 &  596020.27 &  27536.19\\\\\n\t TCGA-TGCT & Additional - New Primary                        &   6 &  772469.35 & 163696.242 & 1017802.48 & 570029.66\\\\\n\t ⋮ & ⋮ & ⋮ & ⋮ & ⋮ & ⋮ & ⋮\\\\\n\t TCGA-SARC & Solid Tissue Normal      &    2 &   81174.51 &  49376.84 &  116089.21 &  46259.81\\\\\n\t TCGA-MESO & Primary Tumor            &   86 &  427084.62 & 326090.98 & 1632456.68 &  31555.94\\\\\n\t TCGA-LUAD & Primary Tumor            &  533 &  396478.60 & 331420.96 & 2902518.99 &  24994.55\\\\\n\t TCGA-TGCT & Primary Tumor            &  150 & 1094487.94 & 551722.43 & 2742293.28 & 120920.48\\\\\n\t TCGA-LIHC & Primary Tumor            &  371 &  312194.50 & 281703.03 & 2109636.32 &  16884.04\\\\\n\t TCGA-KIRP & Additional - New Primary &    1 &   91704.61 &        NA &   91704.61 &  91704.61\\\\\n\t TCGA-OV   & Primary Tumor            &  374 &  686381.88 & 402970.36 & 2818619.70 &  77727.51\\\\\n\t TCGA-ESCA & Metastatic               &    1 &  428577.88 &        NA &  428577.88 & 428577.88\\\\\n\t TCGA-GBM  & Primary Tumor            &  156 &  483166.90 & 314624.64 & 2103668.53 &  58673.09\\\\\n\t TCGA-READ & Solid Tissue Normal      &   10 &  367621.43 & 207693.15 &  682860.11 & 127743.19\\\\\n\t TCGA-LIHC & Recurrent Tumor          &    3 &  286091.33 & 132047.91 &  376649.85 & 134576.40\\\\\n\t TCGA-LUAD & Recurrent Tumor          &    2 &  531892.83 &  36065.13 &  557394.73 & 506390.93\\\\\n\t TCGA-HNSC & Primary Tumor            &  500 &  875406.77 & 482960.88 & 3501559.09 &  86054.87\\\\\n\t TCGA-UVM  & Primary Tumor            &   80 &  184611.52 &  91112.61 &  519416.37 &  34629.75\\\\\n\t TCGA-LUSC & Primary Tumor            &  502 &  662044.00 & 352597.94 & 2867187.24 &  43074.24\\\\\n\t TCGA-UCEC & Primary Tumor            &  551 &  849526.43 & 469423.78 & 2593340.05 &  58595.83\\\\\n\t TCGA-LUSC & Solid Tissue Normal      &   49 &   52677.50 &  35240.22 &  194324.89 &  21458.26\\\\\n\t TCGA-SKCM & Primary Tumor            &  103 &  537026.64 & 275940.41 & 2131271.17 & 124281.97\\\\\n\t TCGA-HNSC & Metastatic               &    2 & 1233412.92 & 925509.79 & 1887847.17 & 578978.67\\\\\n\t TCGA-PCPG & Additional - New Primary &    3 &  143204.68 &  82527.57 &  200432.13 &  48601.83\\\\\n\t TCGA-SKCM & Solid Tissue Normal      &    1 &  535374.36 &        NA &  535374.36 & 535374.36\\\\\n\t TCGA-SARC & Primary Tumor            &  259 &  545409.32 & 416261.12 & 2207544.59 &  44166.18\\\\\n\t TCGA-THYM & Solid Tissue Normal      &    2 &  570989.68 & 490396.53 &  917752.39 & 224226.97\\\\\n\t TCGA-HNSC & Solid Tissue Normal      &   44 &  378242.51 & 240864.95 &  920476.90 &  33078.23\\\\\n\t TCGA-BRCA & Primary Tumor            & 1102 &  487856.42 & 330626.67 & 2367486.83 &  55186.72\\\\\n\t TCGA-STAD & Primary Tumor            &  375 &  492654.49 & 285628.29 & 1856463.48 &  36360.95\\\\\n\t TCGA-DLBC & Primary Tumor            &   48 & 1229602.16 & 559847.74 & 3132910.87 & 281316.05\\\\\n\t TCGA-THCA & Solid Tissue Normal      &   58 &  134962.96 &  66662.24 &  546708.33 &  87197.46\\\\\n\t TCGA-KICH & Primary Tumor            &   65 &  149559.44 & 193472.56 & 1228843.19 &  16479.74\\\\\n\t TCGA-READ & Recurrent Tumor          &    1 &   90685.37 &        NA &   90685.37 &  90685.37\\\\\n\\end{tabular}\n",
            "text/markdown": "\nA tibble: 82 × 7\n\n| project_short_name &lt;chr&gt; | sample_type_name &lt;chr&gt; | count_aliq &lt;int&gt; | avg_fpkm &lt;dbl&gt; | sdv_fpkm &lt;dbl&gt; | max_fpkm &lt;dbl&gt; | min_fpkm &lt;dbl&gt; |\n|---|---|---|---|---|---|---|\n| TCGA-KIRC | Primary Tumor                                   | 538 |  121424.63 | 127717.885 | 1475843.49 |  30926.66 |\n| TCGA-LAML | Primary Blood Derived Cancer - Peripheral Blood | 151 |  260716.04 | 158005.676 |  812492.50 |  36127.69 |\n| TCGA-KIRP | Primary Tumor                                   | 288 |  101011.04 |  87973.475 |  629245.35 |  25906.31 |\n| TCGA-CESC | Primary Tumor                                   | 304 | 1067673.23 | 451652.372 | 3026999.46 | 296749.85 |\n| TCGA-PAAD | Primary Tumor                                   | 177 |  222329.87 | 143295.594 |  808567.04 |  39667.17 |\n| TCGA-READ | Primary Tumor                                   | 166 |  849050.52 | 419447.409 | 2599759.74 | 162938.10 |\n| TCGA-BRCA | Solid Tissue Normal                             | 113 |   83936.42 |  42956.424 |  360053.36 |  27281.68 |\n| TCGA-ESCA | Primary Tumor                                   | 161 |  545854.67 | 298643.670 | 1579628.48 | 108445.40 |\n| TCGA-KIRC | Solid Tissue Normal                             |  72 |   60710.37 |  35986.430 |  263844.18 |  33512.31 |\n| TCGA-CHOL | Solid Tissue Normal                             |   9 |   23653.31 |   6599.819 |   32273.07 |  11953.70 |\n| TCGA-COAD | Recurrent Tumor                                 |   1 |  451752.71 |         NA |  451752.71 | 451752.71 |\n| TCGA-STAD | Solid Tissue Normal                             |  32 |  184532.19 | 140955.364 |  556162.38 |  15654.61 |\n| TCGA-BLCA | Solid Tissue Normal                             |  19 |  182221.18 | 202105.659 |  592658.42 |  24433.15 |\n| TCGA-SARC | Recurrent Tumor                                 |   3 |  669399.56 | 449377.593 | 1123891.17 | 225316.83 |\n| TCGA-PAAD | Solid Tissue Normal                             |   4 |   95531.29 |  41697.665 |  155864.70 |  62249.36 |\n| TCGA-CESC | Solid Tissue Normal                             |   3 |   59448.31 |  22298.242 |   79312.41 |  35329.13 |\n| TCGA-ESCA | Solid Tissue Normal                             |  11 |  138407.28 | 110278.579 |  363229.14 |  18979.21 |\n| TCGA-CESC | Metastatic                                      |   2 | 1103629.07 | 348252.523 | 1349880.79 | 857377.35 |\n| TCGA-LIHC | Solid Tissue Normal                             |  50 |   30735.26 |  19273.487 |  104914.23 |  12864.25 |\n| TCGA-COAD | Solid Tissue Normal                             |  41 |  296813.51 | 128994.930 |  668415.86 |  69386.19 |\n| TCGA-LUAD | Solid Tissue Normal                             |  59 |   49642.33 |  23877.226 |  181920.29 |  27592.05 |\n| TCGA-KIRP | Solid Tissue Normal                             |  32 |   48717.90 |  12858.726 |   78773.43 |  31895.49 |\n| TCGA-ACC  | Primary Tumor                                   |  79 |  492109.25 | 382721.337 | 1597020.22 |  40475.29 |\n| TCGA-COAD | Metastatic                                      |   1 |  626045.15 |         NA |  626045.15 | 626045.15 |\n| TCGA-GBM  | Solid Tissue Normal                             |   5 |   53315.18 |  10562.395 |   64612.11 |  35987.35 |\n| TCGA-PCPG | Metastatic                                      |   2 |  160026.92 | 121612.699 |  246020.08 |  74033.75 |\n| TCGA-KIRC | Additional - New Primary                        |   1 |   95396.40 |         NA |   95396.40 |  95396.40 |\n| TCGA-THCA | Metastatic                                      |   8 |  134715.72 |  38379.473 |  221829.84 | 104176.02 |\n| TCGA-UCEC | Solid Tissue Normal                             |  35 |  100055.03 | 100018.350 |  596020.27 |  27536.19 |\n| TCGA-TGCT | Additional - New Primary                        |   6 |  772469.35 | 163696.242 | 1017802.48 | 570029.66 |\n| ⋮ | ⋮ | ⋮ | ⋮ | ⋮ | ⋮ | ⋮ |\n| TCGA-SARC | Solid Tissue Normal      |    2 |   81174.51 |  49376.84 |  116089.21 |  46259.81 |\n| TCGA-MESO | Primary Tumor            |   86 |  427084.62 | 326090.98 | 1632456.68 |  31555.94 |\n| TCGA-LUAD | Primary Tumor            |  533 |  396478.60 | 331420.96 | 2902518.99 |  24994.55 |\n| TCGA-TGCT | Primary Tumor            |  150 | 1094487.94 | 551722.43 | 2742293.28 | 120920.48 |\n| TCGA-LIHC | Primary Tumor            |  371 |  312194.50 | 281703.03 | 2109636.32 |  16884.04 |\n| TCGA-KIRP | Additional - New Primary |    1 |   91704.61 |        NA |   91704.61 |  91704.61 |\n| TCGA-OV   | Primary Tumor            |  374 |  686381.88 | 402970.36 | 2818619.70 |  77727.51 |\n| TCGA-ESCA | Metastatic               |    1 |  428577.88 |        NA |  428577.88 | 428577.88 |\n| TCGA-GBM  | Primary Tumor            |  156 |  483166.90 | 314624.64 | 2103668.53 |  58673.09 |\n| TCGA-READ | Solid Tissue Normal      |   10 |  367621.43 | 207693.15 |  682860.11 | 127743.19 |\n| TCGA-LIHC | Recurrent Tumor          |    3 |  286091.33 | 132047.91 |  376649.85 | 134576.40 |\n| TCGA-LUAD | Recurrent Tumor          |    2 |  531892.83 |  36065.13 |  557394.73 | 506390.93 |\n| TCGA-HNSC | Primary Tumor            |  500 |  875406.77 | 482960.88 | 3501559.09 |  86054.87 |\n| TCGA-UVM  | Primary Tumor            |   80 |  184611.52 |  91112.61 |  519416.37 |  34629.75 |\n| TCGA-LUSC | Primary Tumor            |  502 |  662044.00 | 352597.94 | 2867187.24 |  43074.24 |\n| TCGA-UCEC | Primary Tumor            |  551 |  849526.43 | 469423.78 | 2593340.05 |  58595.83 |\n| TCGA-LUSC | Solid Tissue Normal      |   49 |   52677.50 |  35240.22 |  194324.89 |  21458.26 |\n| TCGA-SKCM | Primary Tumor            |  103 |  537026.64 | 275940.41 | 2131271.17 | 124281.97 |\n| TCGA-HNSC | Metastatic               |    2 | 1233412.92 | 925509.79 | 1887847.17 | 578978.67 |\n| TCGA-PCPG | Additional - New Primary |    3 |  143204.68 |  82527.57 |  200432.13 |  48601.83 |\n| TCGA-SKCM | Solid Tissue Normal      |    1 |  535374.36 |        NA |  535374.36 | 535374.36 |\n| TCGA-SARC | Primary Tumor            |  259 |  545409.32 | 416261.12 | 2207544.59 |  44166.18 |\n| TCGA-THYM | Solid Tissue Normal      |    2 |  570989.68 | 490396.53 |  917752.39 | 224226.97 |\n| TCGA-HNSC | Solid Tissue Normal      |   44 |  378242.51 | 240864.95 |  920476.90 |  33078.23 |\n| TCGA-BRCA | Primary Tumor            | 1102 |  487856.42 | 330626.67 | 2367486.83 |  55186.72 |\n| TCGA-STAD | Primary Tumor            |  375 |  492654.49 | 285628.29 | 1856463.48 |  36360.95 |\n| TCGA-DLBC | Primary Tumor            |   48 | 1229602.16 | 559847.74 | 3132910.87 | 281316.05 |\n| TCGA-THCA | Solid Tissue Normal      |   58 |  134962.96 |  66662.24 |  546708.33 |  87197.46 |\n| TCGA-KICH | Primary Tumor            |   65 |  149559.44 | 193472.56 | 1228843.19 |  16479.74 |\n| TCGA-READ | Recurrent Tumor          |    1 |   90685.37 |        NA |   90685.37 |  90685.37 |\n\n",
            "text/html": [
              "<table class=\"dataframe\">\n",
              "<caption>A tibble: 82 × 7</caption>\n",
              "<thead>\n",
              "\t<tr><th scope=col>project_short_name</th><th scope=col>sample_type_name</th><th scope=col>count_aliq</th><th scope=col>avg_fpkm</th><th scope=col>sdv_fpkm</th><th scope=col>max_fpkm</th><th scope=col>min_fpkm</th></tr>\n",
              "\t<tr><th scope=col>&lt;chr&gt;</th><th scope=col>&lt;chr&gt;</th><th scope=col>&lt;int&gt;</th><th scope=col>&lt;dbl&gt;</th><th scope=col>&lt;dbl&gt;</th><th scope=col>&lt;dbl&gt;</th><th scope=col>&lt;dbl&gt;</th></tr>\n",
              "</thead>\n",
              "<tbody>\n",
              "\t<tr><td>TCGA-KIRC</td><td>Primary Tumor                                  </td><td>538</td><td> 121424.63</td><td>127717.885</td><td>1475843.49</td><td> 30926.66</td></tr>\n",
              "\t<tr><td>TCGA-LAML</td><td>Primary Blood Derived Cancer - Peripheral Blood</td><td>151</td><td> 260716.04</td><td>158005.676</td><td> 812492.50</td><td> 36127.69</td></tr>\n",
              "\t<tr><td>TCGA-KIRP</td><td>Primary Tumor                                  </td><td>288</td><td> 101011.04</td><td> 87973.475</td><td> 629245.35</td><td> 25906.31</td></tr>\n",
              "\t<tr><td>TCGA-CESC</td><td>Primary Tumor                                  </td><td>304</td><td>1067673.23</td><td>451652.372</td><td>3026999.46</td><td>296749.85</td></tr>\n",
              "\t<tr><td>TCGA-PAAD</td><td>Primary Tumor                                  </td><td>177</td><td> 222329.87</td><td>143295.594</td><td> 808567.04</td><td> 39667.17</td></tr>\n",
              "\t<tr><td>TCGA-READ</td><td>Primary Tumor                                  </td><td>166</td><td> 849050.52</td><td>419447.409</td><td>2599759.74</td><td>162938.10</td></tr>\n",
              "\t<tr><td>TCGA-BRCA</td><td>Solid Tissue Normal                            </td><td>113</td><td>  83936.42</td><td> 42956.424</td><td> 360053.36</td><td> 27281.68</td></tr>\n",
              "\t<tr><td>TCGA-ESCA</td><td>Primary Tumor                                  </td><td>161</td><td> 545854.67</td><td>298643.670</td><td>1579628.48</td><td>108445.40</td></tr>\n",
              "\t<tr><td>TCGA-KIRC</td><td>Solid Tissue Normal                            </td><td> 72</td><td>  60710.37</td><td> 35986.430</td><td> 263844.18</td><td> 33512.31</td></tr>\n",
              "\t<tr><td>TCGA-CHOL</td><td>Solid Tissue Normal                            </td><td>  9</td><td>  23653.31</td><td>  6599.819</td><td>  32273.07</td><td> 11953.70</td></tr>\n",
              "\t<tr><td>TCGA-COAD</td><td>Recurrent Tumor                                </td><td>  1</td><td> 451752.71</td><td>        NA</td><td> 451752.71</td><td>451752.71</td></tr>\n",
              "\t<tr><td>TCGA-STAD</td><td>Solid Tissue Normal                            </td><td> 32</td><td> 184532.19</td><td>140955.364</td><td> 556162.38</td><td> 15654.61</td></tr>\n",
              "\t<tr><td>TCGA-BLCA</td><td>Solid Tissue Normal                            </td><td> 19</td><td> 182221.18</td><td>202105.659</td><td> 592658.42</td><td> 24433.15</td></tr>\n",
              "\t<tr><td>TCGA-SARC</td><td>Recurrent Tumor                                </td><td>  3</td><td> 669399.56</td><td>449377.593</td><td>1123891.17</td><td>225316.83</td></tr>\n",
              "\t<tr><td>TCGA-PAAD</td><td>Solid Tissue Normal                            </td><td>  4</td><td>  95531.29</td><td> 41697.665</td><td> 155864.70</td><td> 62249.36</td></tr>\n",
              "\t<tr><td>TCGA-CESC</td><td>Solid Tissue Normal                            </td><td>  3</td><td>  59448.31</td><td> 22298.242</td><td>  79312.41</td><td> 35329.13</td></tr>\n",
              "\t<tr><td>TCGA-ESCA</td><td>Solid Tissue Normal                            </td><td> 11</td><td> 138407.28</td><td>110278.579</td><td> 363229.14</td><td> 18979.21</td></tr>\n",
              "\t<tr><td>TCGA-CESC</td><td>Metastatic                                     </td><td>  2</td><td>1103629.07</td><td>348252.523</td><td>1349880.79</td><td>857377.35</td></tr>\n",
              "\t<tr><td>TCGA-LIHC</td><td>Solid Tissue Normal                            </td><td> 50</td><td>  30735.26</td><td> 19273.487</td><td> 104914.23</td><td> 12864.25</td></tr>\n",
              "\t<tr><td>TCGA-COAD</td><td>Solid Tissue Normal                            </td><td> 41</td><td> 296813.51</td><td>128994.930</td><td> 668415.86</td><td> 69386.19</td></tr>\n",
              "\t<tr><td>TCGA-LUAD</td><td>Solid Tissue Normal                            </td><td> 59</td><td>  49642.33</td><td> 23877.226</td><td> 181920.29</td><td> 27592.05</td></tr>\n",
              "\t<tr><td>TCGA-KIRP</td><td>Solid Tissue Normal                            </td><td> 32</td><td>  48717.90</td><td> 12858.726</td><td>  78773.43</td><td> 31895.49</td></tr>\n",
              "\t<tr><td>TCGA-ACC </td><td>Primary Tumor                                  </td><td> 79</td><td> 492109.25</td><td>382721.337</td><td>1597020.22</td><td> 40475.29</td></tr>\n",
              "\t<tr><td>TCGA-COAD</td><td>Metastatic                                     </td><td>  1</td><td> 626045.15</td><td>        NA</td><td> 626045.15</td><td>626045.15</td></tr>\n",
              "\t<tr><td>TCGA-GBM </td><td>Solid Tissue Normal                            </td><td>  5</td><td>  53315.18</td><td> 10562.395</td><td>  64612.11</td><td> 35987.35</td></tr>\n",
              "\t<tr><td>TCGA-PCPG</td><td>Metastatic                                     </td><td>  2</td><td> 160026.92</td><td>121612.699</td><td> 246020.08</td><td> 74033.75</td></tr>\n",
              "\t<tr><td>TCGA-KIRC</td><td>Additional - New Primary                       </td><td>  1</td><td>  95396.40</td><td>        NA</td><td>  95396.40</td><td> 95396.40</td></tr>\n",
              "\t<tr><td>TCGA-THCA</td><td>Metastatic                                     </td><td>  8</td><td> 134715.72</td><td> 38379.473</td><td> 221829.84</td><td>104176.02</td></tr>\n",
              "\t<tr><td>TCGA-UCEC</td><td>Solid Tissue Normal                            </td><td> 35</td><td> 100055.03</td><td>100018.350</td><td> 596020.27</td><td> 27536.19</td></tr>\n",
              "\t<tr><td>TCGA-TGCT</td><td>Additional - New Primary                       </td><td>  6</td><td> 772469.35</td><td>163696.242</td><td>1017802.48</td><td>570029.66</td></tr>\n",
              "\t<tr><td>⋮</td><td>⋮</td><td>⋮</td><td>⋮</td><td>⋮</td><td>⋮</td><td>⋮</td></tr>\n",
              "\t<tr><td>TCGA-SARC</td><td>Solid Tissue Normal     </td><td>   2</td><td>  81174.51</td><td> 49376.84</td><td> 116089.21</td><td> 46259.81</td></tr>\n",
              "\t<tr><td>TCGA-MESO</td><td>Primary Tumor           </td><td>  86</td><td> 427084.62</td><td>326090.98</td><td>1632456.68</td><td> 31555.94</td></tr>\n",
              "\t<tr><td>TCGA-LUAD</td><td>Primary Tumor           </td><td> 533</td><td> 396478.60</td><td>331420.96</td><td>2902518.99</td><td> 24994.55</td></tr>\n",
              "\t<tr><td>TCGA-TGCT</td><td>Primary Tumor           </td><td> 150</td><td>1094487.94</td><td>551722.43</td><td>2742293.28</td><td>120920.48</td></tr>\n",
              "\t<tr><td>TCGA-LIHC</td><td>Primary Tumor           </td><td> 371</td><td> 312194.50</td><td>281703.03</td><td>2109636.32</td><td> 16884.04</td></tr>\n",
              "\t<tr><td>TCGA-KIRP</td><td>Additional - New Primary</td><td>   1</td><td>  91704.61</td><td>       NA</td><td>  91704.61</td><td> 91704.61</td></tr>\n",
              "\t<tr><td>TCGA-OV  </td><td>Primary Tumor           </td><td> 374</td><td> 686381.88</td><td>402970.36</td><td>2818619.70</td><td> 77727.51</td></tr>\n",
              "\t<tr><td>TCGA-ESCA</td><td>Metastatic              </td><td>   1</td><td> 428577.88</td><td>       NA</td><td> 428577.88</td><td>428577.88</td></tr>\n",
              "\t<tr><td>TCGA-GBM </td><td>Primary Tumor           </td><td> 156</td><td> 483166.90</td><td>314624.64</td><td>2103668.53</td><td> 58673.09</td></tr>\n",
              "\t<tr><td>TCGA-READ</td><td>Solid Tissue Normal     </td><td>  10</td><td> 367621.43</td><td>207693.15</td><td> 682860.11</td><td>127743.19</td></tr>\n",
              "\t<tr><td>TCGA-LIHC</td><td>Recurrent Tumor         </td><td>   3</td><td> 286091.33</td><td>132047.91</td><td> 376649.85</td><td>134576.40</td></tr>\n",
              "\t<tr><td>TCGA-LUAD</td><td>Recurrent Tumor         </td><td>   2</td><td> 531892.83</td><td> 36065.13</td><td> 557394.73</td><td>506390.93</td></tr>\n",
              "\t<tr><td>TCGA-HNSC</td><td>Primary Tumor           </td><td> 500</td><td> 875406.77</td><td>482960.88</td><td>3501559.09</td><td> 86054.87</td></tr>\n",
              "\t<tr><td>TCGA-UVM </td><td>Primary Tumor           </td><td>  80</td><td> 184611.52</td><td> 91112.61</td><td> 519416.37</td><td> 34629.75</td></tr>\n",
              "\t<tr><td>TCGA-LUSC</td><td>Primary Tumor           </td><td> 502</td><td> 662044.00</td><td>352597.94</td><td>2867187.24</td><td> 43074.24</td></tr>\n",
              "\t<tr><td>TCGA-UCEC</td><td>Primary Tumor           </td><td> 551</td><td> 849526.43</td><td>469423.78</td><td>2593340.05</td><td> 58595.83</td></tr>\n",
              "\t<tr><td>TCGA-LUSC</td><td>Solid Tissue Normal     </td><td>  49</td><td>  52677.50</td><td> 35240.22</td><td> 194324.89</td><td> 21458.26</td></tr>\n",
              "\t<tr><td>TCGA-SKCM</td><td>Primary Tumor           </td><td> 103</td><td> 537026.64</td><td>275940.41</td><td>2131271.17</td><td>124281.97</td></tr>\n",
              "\t<tr><td>TCGA-HNSC</td><td>Metastatic              </td><td>   2</td><td>1233412.92</td><td>925509.79</td><td>1887847.17</td><td>578978.67</td></tr>\n",
              "\t<tr><td>TCGA-PCPG</td><td>Additional - New Primary</td><td>   3</td><td> 143204.68</td><td> 82527.57</td><td> 200432.13</td><td> 48601.83</td></tr>\n",
              "\t<tr><td>TCGA-SKCM</td><td>Solid Tissue Normal     </td><td>   1</td><td> 535374.36</td><td>       NA</td><td> 535374.36</td><td>535374.36</td></tr>\n",
              "\t<tr><td>TCGA-SARC</td><td>Primary Tumor           </td><td> 259</td><td> 545409.32</td><td>416261.12</td><td>2207544.59</td><td> 44166.18</td></tr>\n",
              "\t<tr><td>TCGA-THYM</td><td>Solid Tissue Normal     </td><td>   2</td><td> 570989.68</td><td>490396.53</td><td> 917752.39</td><td>224226.97</td></tr>\n",
              "\t<tr><td>TCGA-HNSC</td><td>Solid Tissue Normal     </td><td>  44</td><td> 378242.51</td><td>240864.95</td><td> 920476.90</td><td> 33078.23</td></tr>\n",
              "\t<tr><td>TCGA-BRCA</td><td>Primary Tumor           </td><td>1102</td><td> 487856.42</td><td>330626.67</td><td>2367486.83</td><td> 55186.72</td></tr>\n",
              "\t<tr><td>TCGA-STAD</td><td>Primary Tumor           </td><td> 375</td><td> 492654.49</td><td>285628.29</td><td>1856463.48</td><td> 36360.95</td></tr>\n",
              "\t<tr><td>TCGA-DLBC</td><td>Primary Tumor           </td><td>  48</td><td>1229602.16</td><td>559847.74</td><td>3132910.87</td><td>281316.05</td></tr>\n",
              "\t<tr><td>TCGA-THCA</td><td>Solid Tissue Normal     </td><td>  58</td><td> 134962.96</td><td> 66662.24</td><td> 546708.33</td><td> 87197.46</td></tr>\n",
              "\t<tr><td>TCGA-KICH</td><td>Primary Tumor           </td><td>  65</td><td> 149559.44</td><td>193472.56</td><td>1228843.19</td><td> 16479.74</td></tr>\n",
              "\t<tr><td>TCGA-READ</td><td>Recurrent Tumor         </td><td>   1</td><td>  90685.37</td><td>       NA</td><td>  90685.37</td><td> 90685.37</td></tr>\n",
              "</tbody>\n",
              "</table>\n"
            ]
          },
          "metadata": {}
        }
      ]
    },
    {
      "cell_type": "code",
      "metadata": {
        "id": "VFvnDjkbLpkw"
      },
      "source": [
        "# summ_sql <- \"SELECT\n",
        "#  sample_type_name,\n",
        "#  project_short_name,\n",
        "#  avg(HTSeq__FPKM_UQ) avg_fpkm,\n",
        "#  stddev(HTSeq__FPKM_UQ) sdv_fpkm,\n",
        "#  max(HTSeq__FPKM_UQ) max_fpkm,\n",
        "#  min(HTSeq__FPKM_UQ) min_fpkm\n",
        "#FROM `isb-cgc-bq.TCGA.RNAseq_hg38_gdc_current`\n",
        "#WHERE gene_name = 'CCNB1'\n",
        "#GROUP BY project_short_name,sample_type_name\""
      ],
      "id": "VFvnDjkbLpkw",
      "execution_count": null,
      "outputs": []
    },
    {
      "cell_type": "markdown",
      "metadata": {
        "id": "851f4dfe"
      },
      "source": [
        "## Genome annotation\n",
        "If we need annotatio information about a gene it's possible to quickly retrieve Gencode annotation from ISB-CGC hosted BigQuery tables.\n",
        "\n",
        "Table: *isb-cgc-bq.GENCODE_versioned.annotation_gtf_hg38_v22*"
      ],
      "id": "851f4dfe"
    },
    {
      "cell_type": "code",
      "metadata": {
        "colab": {
          "base_uri": "https://localhost:8080/",
          "height": 836
        },
        "id": "19c20855",
        "outputId": "8a81c7f0-1329-4a78-8f4d-271b1eba1db4"
      },
      "source": [
        "annot_sql <- \"SELECT * \n",
        "FROM `isb-cgc-bq.GENCODE_versioned.annotation_gtf_hg38_v22`\n",
        "WHERE gene_name = 'CCNB1' \n",
        "  AND transcript_name = 'CCNB1-001'\"\n",
        "\n",
        "annot_query <- bq_project_query(project, query=annot_sql)\n",
        "annot_df <- bq_table_download(annot_query)\n",
        "annot_df"
      ],
      "id": "19c20855",
      "execution_count": null,
      "outputs": [
        {
          "output_type": "display_data",
          "data": {
            "text/plain": [
              "   seq_name source feature     start    end      frame strand gene_name\n",
              "1  chr5     HAVANA CDS         69171270 69171452 .     +      CCNB1    \n",
              "2  chr5     HAVANA CDS         69174877 69175113 .     +      CCNB1    \n",
              "3  chr5     HAVANA CDS         69167908 69168078 .     +      CCNB1    \n",
              "4  chr5     HAVANA CDS         69167263 69167283 .     +      CCNB1    \n",
              "5  chr5     HAVANA exon        69177524 69178245 .     +      CCNB1    \n",
              "6  chr5     HAVANA CDS         69177239 69177349 .     +      CCNB1    \n",
              "7  chr5     HAVANA CDS         69177524 69177628 .     +      CCNB1    \n",
              "8  chr5     HAVANA UTR         69177629 69178245 .     +      CCNB1    \n",
              "9  chr5     HAVANA CDS         69175397 69175537 .     +      CCNB1    \n",
              "10 chr5     HAVANA CDS         69168173 69168343 .     +      CCNB1    \n",
              "11 chr5     HAVANA start_codon 69167263 69167265 .     +      CCNB1    \n",
              "12 chr5     HAVANA exon        69174877 69175113 .     +      CCNB1    \n",
              "13 chr5     HAVANA UTR         69167010 69167262 .     +      CCNB1    \n",
              "14 chr5     HAVANA exon        69168173 69168343 .     +      CCNB1    \n",
              "15 chr5     HAVANA stop_codon  69177629 69177631 .     +      CCNB1    \n",
              "16 chr5     HAVANA CDS         69174251 69174409 .     +      CCNB1    \n",
              "17 chr5     HAVANA exon        69167908 69168078 .     +      CCNB1    \n",
              "18 chr5     HAVANA exon        69177239 69177349 .     +      CCNB1    \n",
              "19 chr5     HAVANA exon        69167010 69167283 .     +      CCNB1    \n",
              "20 chr5     HAVANA exon        69171270 69171452 .     +      CCNB1    \n",
              "21 chr5     HAVANA transcript  69167010 69178245 .     +      CCNB1    \n",
              "22 chr5     HAVANA exon        69174251 69174409 .     +      CCNB1    \n",
              "23 chr5     HAVANA exon        69175397 69175537 .     +      CCNB1    \n",
              "   gene_id         gene_id_v          ⋯ ccds_id_v  protein_id     \n",
              "1  ENSG00000134057 ENSG00000134057.13 ⋯ CCDS3997.1 ENSP00000256442\n",
              "2  ENSG00000134057 ENSG00000134057.13 ⋯ CCDS3997.1 ENSP00000256442\n",
              "3  ENSG00000134057 ENSG00000134057.13 ⋯ CCDS3997.1 ENSP00000256442\n",
              "4  ENSG00000134057 ENSG00000134057.13 ⋯ CCDS3997.1 ENSP00000256442\n",
              "5  ENSG00000134057 ENSG00000134057.13 ⋯ CCDS3997.1 ENSP00000256442\n",
              "6  ENSG00000134057 ENSG00000134057.13 ⋯ CCDS3997.1 ENSP00000256442\n",
              "7  ENSG00000134057 ENSG00000134057.13 ⋯ CCDS3997.1 ENSP00000256442\n",
              "8  ENSG00000134057 ENSG00000134057.13 ⋯ CCDS3997.1 ENSP00000256442\n",
              "9  ENSG00000134057 ENSG00000134057.13 ⋯ CCDS3997.1 ENSP00000256442\n",
              "10 ENSG00000134057 ENSG00000134057.13 ⋯ CCDS3997.1 ENSP00000256442\n",
              "11 ENSG00000134057 ENSG00000134057.13 ⋯ CCDS3997.1 ENSP00000256442\n",
              "12 ENSG00000134057 ENSG00000134057.13 ⋯ CCDS3997.1 ENSP00000256442\n",
              "13 ENSG00000134057 ENSG00000134057.13 ⋯ CCDS3997.1 ENSP00000256442\n",
              "14 ENSG00000134057 ENSG00000134057.13 ⋯ CCDS3997.1 ENSP00000256442\n",
              "15 ENSG00000134057 ENSG00000134057.13 ⋯ CCDS3997.1 ENSP00000256442\n",
              "16 ENSG00000134057 ENSG00000134057.13 ⋯ CCDS3997.1 ENSP00000256442\n",
              "17 ENSG00000134057 ENSG00000134057.13 ⋯ CCDS3997.1 ENSP00000256442\n",
              "18 ENSG00000134057 ENSG00000134057.13 ⋯ CCDS3997.1 ENSP00000256442\n",
              "19 ENSG00000134057 ENSG00000134057.13 ⋯ CCDS3997.1 ENSP00000256442\n",
              "20 ENSG00000134057 ENSG00000134057.13 ⋯ CCDS3997.1 ENSP00000256442\n",
              "21 ENSG00000134057 ENSG00000134057.13 ⋯ CCDS3997.1 ENSP00000256442\n",
              "22 ENSG00000134057 ENSG00000134057.13 ⋯ CCDS3997.1 ENSP00000256442\n",
              "23 ENSG00000134057 ENSG00000134057.13 ⋯ CCDS3997.1 ENSP00000256442\n",
              "   protein_id_v      havana_gene        havana_gene_v        havana_transcript \n",
              "1  ENSP00000256442.5 OTTHUMG00000097817 OTTHUMG00000097817.3 OTTHUMT00000215084\n",
              "2  ENSP00000256442.5 OTTHUMG00000097817 OTTHUMG00000097817.3 OTTHUMT00000215084\n",
              "3  ENSP00000256442.5 OTTHUMG00000097817 OTTHUMG00000097817.3 OTTHUMT00000215084\n",
              "4  ENSP00000256442.5 OTTHUMG00000097817 OTTHUMG00000097817.3 OTTHUMT00000215084\n",
              "5  ENSP00000256442.5 OTTHUMG00000097817 OTTHUMG00000097817.3 OTTHUMT00000215084\n",
              "6  ENSP00000256442.5 OTTHUMG00000097817 OTTHUMG00000097817.3 OTTHUMT00000215084\n",
              "7  ENSP00000256442.5 OTTHUMG00000097817 OTTHUMG00000097817.3 OTTHUMT00000215084\n",
              "8  ENSP00000256442.5 OTTHUMG00000097817 OTTHUMG00000097817.3 OTTHUMT00000215084\n",
              "9  ENSP00000256442.5 OTTHUMG00000097817 OTTHUMG00000097817.3 OTTHUMT00000215084\n",
              "10 ENSP00000256442.5 OTTHUMG00000097817 OTTHUMG00000097817.3 OTTHUMT00000215084\n",
              "11 ENSP00000256442.5 OTTHUMG00000097817 OTTHUMG00000097817.3 OTTHUMT00000215084\n",
              "12 ENSP00000256442.5 OTTHUMG00000097817 OTTHUMG00000097817.3 OTTHUMT00000215084\n",
              "13 ENSP00000256442.5 OTTHUMG00000097817 OTTHUMG00000097817.3 OTTHUMT00000215084\n",
              "14 ENSP00000256442.5 OTTHUMG00000097817 OTTHUMG00000097817.3 OTTHUMT00000215084\n",
              "15 ENSP00000256442.5 OTTHUMG00000097817 OTTHUMG00000097817.3 OTTHUMT00000215084\n",
              "16 ENSP00000256442.5 OTTHUMG00000097817 OTTHUMG00000097817.3 OTTHUMT00000215084\n",
              "17 ENSP00000256442.5 OTTHUMG00000097817 OTTHUMG00000097817.3 OTTHUMT00000215084\n",
              "18 ENSP00000256442.5 OTTHUMG00000097817 OTTHUMG00000097817.3 OTTHUMT00000215084\n",
              "19 ENSP00000256442.5 OTTHUMG00000097817 OTTHUMG00000097817.3 OTTHUMT00000215084\n",
              "20 ENSP00000256442.5 OTTHUMG00000097817 OTTHUMG00000097817.3 OTTHUMT00000215084\n",
              "21 ENSP00000256442.5 OTTHUMG00000097817 OTTHUMG00000097817.3 OTTHUMT00000215084\n",
              "22 ENSP00000256442.5 OTTHUMG00000097817 OTTHUMG00000097817.3 OTTHUMT00000215084\n",
              "23 ENSP00000256442.5 OTTHUMG00000097817 OTTHUMG00000097817.3 OTTHUMT00000215084\n",
              "   havana_transcript_v  level tag                           ont\n",
              "1  OTTHUMT00000215084.1 2     basic;appris_principal_1;CCDS NA \n",
              "2  OTTHUMT00000215084.1 2     basic;appris_principal_1;CCDS NA \n",
              "3  OTTHUMT00000215084.1 2     basic;appris_principal_1;CCDS NA \n",
              "4  OTTHUMT00000215084.1 2     basic;appris_principal_1;CCDS NA \n",
              "5  OTTHUMT00000215084.1 2     basic;appris_principal_1;CCDS NA \n",
              "6  OTTHUMT00000215084.1 2     basic;appris_principal_1;CCDS NA \n",
              "7  OTTHUMT00000215084.1 2     basic;appris_principal_1;CCDS NA \n",
              "8  OTTHUMT00000215084.1 2     basic;appris_principal_1;CCDS NA \n",
              "9  OTTHUMT00000215084.1 2     basic;appris_principal_1;CCDS NA \n",
              "10 OTTHUMT00000215084.1 2     basic;appris_principal_1;CCDS NA \n",
              "11 OTTHUMT00000215084.1 2     basic;appris_principal_1;CCDS NA \n",
              "12 OTTHUMT00000215084.1 2     basic;appris_principal_1;CCDS NA \n",
              "13 OTTHUMT00000215084.1 2     basic;appris_principal_1;CCDS NA \n",
              "14 OTTHUMT00000215084.1 2     basic;appris_principal_1;CCDS NA \n",
              "15 OTTHUMT00000215084.1 2     basic;appris_principal_1;CCDS NA \n",
              "16 OTTHUMT00000215084.1 2     basic;appris_principal_1;CCDS NA \n",
              "17 OTTHUMT00000215084.1 2     basic;appris_principal_1;CCDS NA \n",
              "18 OTTHUMT00000215084.1 2     basic;appris_principal_1;CCDS NA \n",
              "19 OTTHUMT00000215084.1 2     basic;appris_principal_1;CCDS NA \n",
              "20 OTTHUMT00000215084.1 2     basic;appris_principal_1;CCDS NA \n",
              "21 OTTHUMT00000215084.1 2     basic;appris_principal_1;CCDS NA \n",
              "22 OTTHUMT00000215084.1 2     basic;appris_principal_1;CCDS NA \n",
              "23 OTTHUMT00000215084.1 2     basic;appris_principal_1;CCDS NA "
            ],
            "text/latex": "A tibble: 23 × 32\n\\begin{tabular}{lllllllllllllllllllll}\n seq\\_name & source & feature & start & end & frame & strand & gene\\_name & gene\\_id & gene\\_id\\_v & ⋯ & ccds\\_id\\_v & protein\\_id & protein\\_id\\_v & havana\\_gene & havana\\_gene\\_v & havana\\_transcript & havana\\_transcript\\_v & level & tag & ont\\\\\n <chr> & <chr> & <chr> & <int> & <int> & <chr> & <chr> & <chr> & <chr> & <chr> & ⋯ & <chr> & <chr> & <chr> & <chr> & <chr> & <chr> & <chr> & <int> & <chr> & <chr>\\\\\n\\hline\n\t chr5 & HAVANA & CDS         & 69171270 & 69171452 & . & + & CCNB1 & ENSG00000134057 & ENSG00000134057.13 & ⋯ & CCDS3997.1 & ENSP00000256442 & ENSP00000256442.5 & OTTHUMG00000097817 & OTTHUMG00000097817.3 & OTTHUMT00000215084 & OTTHUMT00000215084.1 & 2 & basic;appris\\_principal\\_1;CCDS & NA\\\\\n\t chr5 & HAVANA & CDS         & 69174877 & 69175113 & . & + & CCNB1 & ENSG00000134057 & ENSG00000134057.13 & ⋯ & CCDS3997.1 & ENSP00000256442 & ENSP00000256442.5 & OTTHUMG00000097817 & OTTHUMG00000097817.3 & OTTHUMT00000215084 & OTTHUMT00000215084.1 & 2 & basic;appris\\_principal\\_1;CCDS & NA\\\\\n\t chr5 & HAVANA & CDS         & 69167908 & 69168078 & . & + & CCNB1 & ENSG00000134057 & ENSG00000134057.13 & ⋯ & CCDS3997.1 & ENSP00000256442 & ENSP00000256442.5 & OTTHUMG00000097817 & OTTHUMG00000097817.3 & OTTHUMT00000215084 & OTTHUMT00000215084.1 & 2 & basic;appris\\_principal\\_1;CCDS & NA\\\\\n\t chr5 & HAVANA & CDS         & 69167263 & 69167283 & . & + & CCNB1 & ENSG00000134057 & ENSG00000134057.13 & ⋯ & CCDS3997.1 & ENSP00000256442 & ENSP00000256442.5 & OTTHUMG00000097817 & OTTHUMG00000097817.3 & OTTHUMT00000215084 & OTTHUMT00000215084.1 & 2 & basic;appris\\_principal\\_1;CCDS & NA\\\\\n\t chr5 & HAVANA & exon        & 69177524 & 69178245 & . & + & CCNB1 & ENSG00000134057 & ENSG00000134057.13 & ⋯ & CCDS3997.1 & ENSP00000256442 & ENSP00000256442.5 & OTTHUMG00000097817 & OTTHUMG00000097817.3 & OTTHUMT00000215084 & OTTHUMT00000215084.1 & 2 & basic;appris\\_principal\\_1;CCDS & NA\\\\\n\t chr5 & HAVANA & CDS         & 69177239 & 69177349 & . & + & CCNB1 & ENSG00000134057 & ENSG00000134057.13 & ⋯ & CCDS3997.1 & ENSP00000256442 & ENSP00000256442.5 & OTTHUMG00000097817 & OTTHUMG00000097817.3 & OTTHUMT00000215084 & OTTHUMT00000215084.1 & 2 & basic;appris\\_principal\\_1;CCDS & NA\\\\\n\t chr5 & HAVANA & CDS         & 69177524 & 69177628 & . & + & CCNB1 & ENSG00000134057 & ENSG00000134057.13 & ⋯ & CCDS3997.1 & ENSP00000256442 & ENSP00000256442.5 & OTTHUMG00000097817 & OTTHUMG00000097817.3 & OTTHUMT00000215084 & OTTHUMT00000215084.1 & 2 & basic;appris\\_principal\\_1;CCDS & NA\\\\\n\t chr5 & HAVANA & UTR         & 69177629 & 69178245 & . & + & CCNB1 & ENSG00000134057 & ENSG00000134057.13 & ⋯ & CCDS3997.1 & ENSP00000256442 & ENSP00000256442.5 & OTTHUMG00000097817 & OTTHUMG00000097817.3 & OTTHUMT00000215084 & OTTHUMT00000215084.1 & 2 & basic;appris\\_principal\\_1;CCDS & NA\\\\\n\t chr5 & HAVANA & CDS         & 69175397 & 69175537 & . & + & CCNB1 & ENSG00000134057 & ENSG00000134057.13 & ⋯ & CCDS3997.1 & ENSP00000256442 & ENSP00000256442.5 & OTTHUMG00000097817 & OTTHUMG00000097817.3 & OTTHUMT00000215084 & OTTHUMT00000215084.1 & 2 & basic;appris\\_principal\\_1;CCDS & NA\\\\\n\t chr5 & HAVANA & CDS         & 69168173 & 69168343 & . & + & CCNB1 & ENSG00000134057 & ENSG00000134057.13 & ⋯ & CCDS3997.1 & ENSP00000256442 & ENSP00000256442.5 & OTTHUMG00000097817 & OTTHUMG00000097817.3 & OTTHUMT00000215084 & OTTHUMT00000215084.1 & 2 & basic;appris\\_principal\\_1;CCDS & NA\\\\\n\t chr5 & HAVANA & start\\_codon & 69167263 & 69167265 & . & + & CCNB1 & ENSG00000134057 & ENSG00000134057.13 & ⋯ & CCDS3997.1 & ENSP00000256442 & ENSP00000256442.5 & OTTHUMG00000097817 & OTTHUMG00000097817.3 & OTTHUMT00000215084 & OTTHUMT00000215084.1 & 2 & basic;appris\\_principal\\_1;CCDS & NA\\\\\n\t chr5 & HAVANA & exon        & 69174877 & 69175113 & . & + & CCNB1 & ENSG00000134057 & ENSG00000134057.13 & ⋯ & CCDS3997.1 & ENSP00000256442 & ENSP00000256442.5 & OTTHUMG00000097817 & OTTHUMG00000097817.3 & OTTHUMT00000215084 & OTTHUMT00000215084.1 & 2 & basic;appris\\_principal\\_1;CCDS & NA\\\\\n\t chr5 & HAVANA & UTR         & 69167010 & 69167262 & . & + & CCNB1 & ENSG00000134057 & ENSG00000134057.13 & ⋯ & CCDS3997.1 & ENSP00000256442 & ENSP00000256442.5 & OTTHUMG00000097817 & OTTHUMG00000097817.3 & OTTHUMT00000215084 & OTTHUMT00000215084.1 & 2 & basic;appris\\_principal\\_1;CCDS & NA\\\\\n\t chr5 & HAVANA & exon        & 69168173 & 69168343 & . & + & CCNB1 & ENSG00000134057 & ENSG00000134057.13 & ⋯ & CCDS3997.1 & ENSP00000256442 & ENSP00000256442.5 & OTTHUMG00000097817 & OTTHUMG00000097817.3 & OTTHUMT00000215084 & OTTHUMT00000215084.1 & 2 & basic;appris\\_principal\\_1;CCDS & NA\\\\\n\t chr5 & HAVANA & stop\\_codon  & 69177629 & 69177631 & . & + & CCNB1 & ENSG00000134057 & ENSG00000134057.13 & ⋯ & CCDS3997.1 & ENSP00000256442 & ENSP00000256442.5 & OTTHUMG00000097817 & OTTHUMG00000097817.3 & OTTHUMT00000215084 & OTTHUMT00000215084.1 & 2 & basic;appris\\_principal\\_1;CCDS & NA\\\\\n\t chr5 & HAVANA & CDS         & 69174251 & 69174409 & . & + & CCNB1 & ENSG00000134057 & ENSG00000134057.13 & ⋯ & CCDS3997.1 & ENSP00000256442 & ENSP00000256442.5 & OTTHUMG00000097817 & OTTHUMG00000097817.3 & OTTHUMT00000215084 & OTTHUMT00000215084.1 & 2 & basic;appris\\_principal\\_1;CCDS & NA\\\\\n\t chr5 & HAVANA & exon        & 69167908 & 69168078 & . & + & CCNB1 & ENSG00000134057 & ENSG00000134057.13 & ⋯ & CCDS3997.1 & ENSP00000256442 & ENSP00000256442.5 & OTTHUMG00000097817 & OTTHUMG00000097817.3 & OTTHUMT00000215084 & OTTHUMT00000215084.1 & 2 & basic;appris\\_principal\\_1;CCDS & NA\\\\\n\t chr5 & HAVANA & exon        & 69177239 & 69177349 & . & + & CCNB1 & ENSG00000134057 & ENSG00000134057.13 & ⋯ & CCDS3997.1 & ENSP00000256442 & ENSP00000256442.5 & OTTHUMG00000097817 & OTTHUMG00000097817.3 & OTTHUMT00000215084 & OTTHUMT00000215084.1 & 2 & basic;appris\\_principal\\_1;CCDS & NA\\\\\n\t chr5 & HAVANA & exon        & 69167010 & 69167283 & . & + & CCNB1 & ENSG00000134057 & ENSG00000134057.13 & ⋯ & CCDS3997.1 & ENSP00000256442 & ENSP00000256442.5 & OTTHUMG00000097817 & OTTHUMG00000097817.3 & OTTHUMT00000215084 & OTTHUMT00000215084.1 & 2 & basic;appris\\_principal\\_1;CCDS & NA\\\\\n\t chr5 & HAVANA & exon        & 69171270 & 69171452 & . & + & CCNB1 & ENSG00000134057 & ENSG00000134057.13 & ⋯ & CCDS3997.1 & ENSP00000256442 & ENSP00000256442.5 & OTTHUMG00000097817 & OTTHUMG00000097817.3 & OTTHUMT00000215084 & OTTHUMT00000215084.1 & 2 & basic;appris\\_principal\\_1;CCDS & NA\\\\\n\t chr5 & HAVANA & transcript  & 69167010 & 69178245 & . & + & CCNB1 & ENSG00000134057 & ENSG00000134057.13 & ⋯ & CCDS3997.1 & ENSP00000256442 & ENSP00000256442.5 & OTTHUMG00000097817 & OTTHUMG00000097817.3 & OTTHUMT00000215084 & OTTHUMT00000215084.1 & 2 & basic;appris\\_principal\\_1;CCDS & NA\\\\\n\t chr5 & HAVANA & exon        & 69174251 & 69174409 & . & + & CCNB1 & ENSG00000134057 & ENSG00000134057.13 & ⋯ & CCDS3997.1 & ENSP00000256442 & ENSP00000256442.5 & OTTHUMG00000097817 & OTTHUMG00000097817.3 & OTTHUMT00000215084 & OTTHUMT00000215084.1 & 2 & basic;appris\\_principal\\_1;CCDS & NA\\\\\n\t chr5 & HAVANA & exon        & 69175397 & 69175537 & . & + & CCNB1 & ENSG00000134057 & ENSG00000134057.13 & ⋯ & CCDS3997.1 & ENSP00000256442 & ENSP00000256442.5 & OTTHUMG00000097817 & OTTHUMG00000097817.3 & OTTHUMT00000215084 & OTTHUMT00000215084.1 & 2 & basic;appris\\_principal\\_1;CCDS & NA\\\\\n\\end{tabular}\n",
            "text/markdown": "\nA tibble: 23 × 32\n\n| seq_name &lt;chr&gt; | source &lt;chr&gt; | feature &lt;chr&gt; | start &lt;int&gt; | end &lt;int&gt; | frame &lt;chr&gt; | strand &lt;chr&gt; | gene_name &lt;chr&gt; | gene_id &lt;chr&gt; | gene_id_v &lt;chr&gt; | ⋯ ⋯ | ccds_id_v &lt;chr&gt; | protein_id &lt;chr&gt; | protein_id_v &lt;chr&gt; | havana_gene &lt;chr&gt; | havana_gene_v &lt;chr&gt; | havana_transcript &lt;chr&gt; | havana_transcript_v &lt;chr&gt; | level &lt;int&gt; | tag &lt;chr&gt; | ont &lt;chr&gt; |\n|---|---|---|---|---|---|---|---|---|---|---|---|---|---|---|---|---|---|---|---|---|\n| chr5 | HAVANA | CDS         | 69171270 | 69171452 | . | + | CCNB1 | ENSG00000134057 | ENSG00000134057.13 | ⋯ | CCDS3997.1 | ENSP00000256442 | ENSP00000256442.5 | OTTHUMG00000097817 | OTTHUMG00000097817.3 | OTTHUMT00000215084 | OTTHUMT00000215084.1 | 2 | basic;appris_principal_1;CCDS | NA |\n| chr5 | HAVANA | CDS         | 69174877 | 69175113 | . | + | CCNB1 | ENSG00000134057 | ENSG00000134057.13 | ⋯ | CCDS3997.1 | ENSP00000256442 | ENSP00000256442.5 | OTTHUMG00000097817 | OTTHUMG00000097817.3 | OTTHUMT00000215084 | OTTHUMT00000215084.1 | 2 | basic;appris_principal_1;CCDS | NA |\n| chr5 | HAVANA | CDS         | 69167908 | 69168078 | . | + | CCNB1 | ENSG00000134057 | ENSG00000134057.13 | ⋯ | CCDS3997.1 | ENSP00000256442 | ENSP00000256442.5 | OTTHUMG00000097817 | OTTHUMG00000097817.3 | OTTHUMT00000215084 | OTTHUMT00000215084.1 | 2 | basic;appris_principal_1;CCDS | NA |\n| chr5 | HAVANA | CDS         | 69167263 | 69167283 | . | + | CCNB1 | ENSG00000134057 | ENSG00000134057.13 | ⋯ | CCDS3997.1 | ENSP00000256442 | ENSP00000256442.5 | OTTHUMG00000097817 | OTTHUMG00000097817.3 | OTTHUMT00000215084 | OTTHUMT00000215084.1 | 2 | basic;appris_principal_1;CCDS | NA |\n| chr5 | HAVANA | exon        | 69177524 | 69178245 | . | + | CCNB1 | ENSG00000134057 | ENSG00000134057.13 | ⋯ | CCDS3997.1 | ENSP00000256442 | ENSP00000256442.5 | OTTHUMG00000097817 | OTTHUMG00000097817.3 | OTTHUMT00000215084 | OTTHUMT00000215084.1 | 2 | basic;appris_principal_1;CCDS | NA |\n| chr5 | HAVANA | CDS         | 69177239 | 69177349 | . | + | CCNB1 | ENSG00000134057 | ENSG00000134057.13 | ⋯ | CCDS3997.1 | ENSP00000256442 | ENSP00000256442.5 | OTTHUMG00000097817 | OTTHUMG00000097817.3 | OTTHUMT00000215084 | OTTHUMT00000215084.1 | 2 | basic;appris_principal_1;CCDS | NA |\n| chr5 | HAVANA | CDS         | 69177524 | 69177628 | . | + | CCNB1 | ENSG00000134057 | ENSG00000134057.13 | ⋯ | CCDS3997.1 | ENSP00000256442 | ENSP00000256442.5 | OTTHUMG00000097817 | OTTHUMG00000097817.3 | OTTHUMT00000215084 | OTTHUMT00000215084.1 | 2 | basic;appris_principal_1;CCDS | NA |\n| chr5 | HAVANA | UTR         | 69177629 | 69178245 | . | + | CCNB1 | ENSG00000134057 | ENSG00000134057.13 | ⋯ | CCDS3997.1 | ENSP00000256442 | ENSP00000256442.5 | OTTHUMG00000097817 | OTTHUMG00000097817.3 | OTTHUMT00000215084 | OTTHUMT00000215084.1 | 2 | basic;appris_principal_1;CCDS | NA |\n| chr5 | HAVANA | CDS         | 69175397 | 69175537 | . | + | CCNB1 | ENSG00000134057 | ENSG00000134057.13 | ⋯ | CCDS3997.1 | ENSP00000256442 | ENSP00000256442.5 | OTTHUMG00000097817 | OTTHUMG00000097817.3 | OTTHUMT00000215084 | OTTHUMT00000215084.1 | 2 | basic;appris_principal_1;CCDS | NA |\n| chr5 | HAVANA | CDS         | 69168173 | 69168343 | . | + | CCNB1 | ENSG00000134057 | ENSG00000134057.13 | ⋯ | CCDS3997.1 | ENSP00000256442 | ENSP00000256442.5 | OTTHUMG00000097817 | OTTHUMG00000097817.3 | OTTHUMT00000215084 | OTTHUMT00000215084.1 | 2 | basic;appris_principal_1;CCDS | NA |\n| chr5 | HAVANA | start_codon | 69167263 | 69167265 | . | + | CCNB1 | ENSG00000134057 | ENSG00000134057.13 | ⋯ | CCDS3997.1 | ENSP00000256442 | ENSP00000256442.5 | OTTHUMG00000097817 | OTTHUMG00000097817.3 | OTTHUMT00000215084 | OTTHUMT00000215084.1 | 2 | basic;appris_principal_1;CCDS | NA |\n| chr5 | HAVANA | exon        | 69174877 | 69175113 | . | + | CCNB1 | ENSG00000134057 | ENSG00000134057.13 | ⋯ | CCDS3997.1 | ENSP00000256442 | ENSP00000256442.5 | OTTHUMG00000097817 | OTTHUMG00000097817.3 | OTTHUMT00000215084 | OTTHUMT00000215084.1 | 2 | basic;appris_principal_1;CCDS | NA |\n| chr5 | HAVANA | UTR         | 69167010 | 69167262 | . | + | CCNB1 | ENSG00000134057 | ENSG00000134057.13 | ⋯ | CCDS3997.1 | ENSP00000256442 | ENSP00000256442.5 | OTTHUMG00000097817 | OTTHUMG00000097817.3 | OTTHUMT00000215084 | OTTHUMT00000215084.1 | 2 | basic;appris_principal_1;CCDS | NA |\n| chr5 | HAVANA | exon        | 69168173 | 69168343 | . | + | CCNB1 | ENSG00000134057 | ENSG00000134057.13 | ⋯ | CCDS3997.1 | ENSP00000256442 | ENSP00000256442.5 | OTTHUMG00000097817 | OTTHUMG00000097817.3 | OTTHUMT00000215084 | OTTHUMT00000215084.1 | 2 | basic;appris_principal_1;CCDS | NA |\n| chr5 | HAVANA | stop_codon  | 69177629 | 69177631 | . | + | CCNB1 | ENSG00000134057 | ENSG00000134057.13 | ⋯ | CCDS3997.1 | ENSP00000256442 | ENSP00000256442.5 | OTTHUMG00000097817 | OTTHUMG00000097817.3 | OTTHUMT00000215084 | OTTHUMT00000215084.1 | 2 | basic;appris_principal_1;CCDS | NA |\n| chr5 | HAVANA | CDS         | 69174251 | 69174409 | . | + | CCNB1 | ENSG00000134057 | ENSG00000134057.13 | ⋯ | CCDS3997.1 | ENSP00000256442 | ENSP00000256442.5 | OTTHUMG00000097817 | OTTHUMG00000097817.3 | OTTHUMT00000215084 | OTTHUMT00000215084.1 | 2 | basic;appris_principal_1;CCDS | NA |\n| chr5 | HAVANA | exon        | 69167908 | 69168078 | . | + | CCNB1 | ENSG00000134057 | ENSG00000134057.13 | ⋯ | CCDS3997.1 | ENSP00000256442 | ENSP00000256442.5 | OTTHUMG00000097817 | OTTHUMG00000097817.3 | OTTHUMT00000215084 | OTTHUMT00000215084.1 | 2 | basic;appris_principal_1;CCDS | NA |\n| chr5 | HAVANA | exon        | 69177239 | 69177349 | . | + | CCNB1 | ENSG00000134057 | ENSG00000134057.13 | ⋯ | CCDS3997.1 | ENSP00000256442 | ENSP00000256442.5 | OTTHUMG00000097817 | OTTHUMG00000097817.3 | OTTHUMT00000215084 | OTTHUMT00000215084.1 | 2 | basic;appris_principal_1;CCDS | NA |\n| chr5 | HAVANA | exon        | 69167010 | 69167283 | . | + | CCNB1 | ENSG00000134057 | ENSG00000134057.13 | ⋯ | CCDS3997.1 | ENSP00000256442 | ENSP00000256442.5 | OTTHUMG00000097817 | OTTHUMG00000097817.3 | OTTHUMT00000215084 | OTTHUMT00000215084.1 | 2 | basic;appris_principal_1;CCDS | NA |\n| chr5 | HAVANA | exon        | 69171270 | 69171452 | . | + | CCNB1 | ENSG00000134057 | ENSG00000134057.13 | ⋯ | CCDS3997.1 | ENSP00000256442 | ENSP00000256442.5 | OTTHUMG00000097817 | OTTHUMG00000097817.3 | OTTHUMT00000215084 | OTTHUMT00000215084.1 | 2 | basic;appris_principal_1;CCDS | NA |\n| chr5 | HAVANA | transcript  | 69167010 | 69178245 | . | + | CCNB1 | ENSG00000134057 | ENSG00000134057.13 | ⋯ | CCDS3997.1 | ENSP00000256442 | ENSP00000256442.5 | OTTHUMG00000097817 | OTTHUMG00000097817.3 | OTTHUMT00000215084 | OTTHUMT00000215084.1 | 2 | basic;appris_principal_1;CCDS | NA |\n| chr5 | HAVANA | exon        | 69174251 | 69174409 | . | + | CCNB1 | ENSG00000134057 | ENSG00000134057.13 | ⋯ | CCDS3997.1 | ENSP00000256442 | ENSP00000256442.5 | OTTHUMG00000097817 | OTTHUMG00000097817.3 | OTTHUMT00000215084 | OTTHUMT00000215084.1 | 2 | basic;appris_principal_1;CCDS | NA |\n| chr5 | HAVANA | exon        | 69175397 | 69175537 | . | + | CCNB1 | ENSG00000134057 | ENSG00000134057.13 | ⋯ | CCDS3997.1 | ENSP00000256442 | ENSP00000256442.5 | OTTHUMG00000097817 | OTTHUMG00000097817.3 | OTTHUMT00000215084 | OTTHUMT00000215084.1 | 2 | basic;appris_principal_1;CCDS | NA |\n\n",
            "text/html": [
              "<table class=\"dataframe\">\n",
              "<caption>A tibble: 23 × 32</caption>\n",
              "<thead>\n",
              "\t<tr><th scope=col>seq_name</th><th scope=col>source</th><th scope=col>feature</th><th scope=col>start</th><th scope=col>end</th><th scope=col>frame</th><th scope=col>strand</th><th scope=col>gene_name</th><th scope=col>gene_id</th><th scope=col>gene_id_v</th><th scope=col>⋯</th><th scope=col>ccds_id_v</th><th scope=col>protein_id</th><th scope=col>protein_id_v</th><th scope=col>havana_gene</th><th scope=col>havana_gene_v</th><th scope=col>havana_transcript</th><th scope=col>havana_transcript_v</th><th scope=col>level</th><th scope=col>tag</th><th scope=col>ont</th></tr>\n",
              "\t<tr><th scope=col>&lt;chr&gt;</th><th scope=col>&lt;chr&gt;</th><th scope=col>&lt;chr&gt;</th><th scope=col>&lt;int&gt;</th><th scope=col>&lt;int&gt;</th><th scope=col>&lt;chr&gt;</th><th scope=col>&lt;chr&gt;</th><th scope=col>&lt;chr&gt;</th><th scope=col>&lt;chr&gt;</th><th scope=col>&lt;chr&gt;</th><th scope=col>⋯</th><th scope=col>&lt;chr&gt;</th><th scope=col>&lt;chr&gt;</th><th scope=col>&lt;chr&gt;</th><th scope=col>&lt;chr&gt;</th><th scope=col>&lt;chr&gt;</th><th scope=col>&lt;chr&gt;</th><th scope=col>&lt;chr&gt;</th><th scope=col>&lt;int&gt;</th><th scope=col>&lt;chr&gt;</th><th scope=col>&lt;chr&gt;</th></tr>\n",
              "</thead>\n",
              "<tbody>\n",
              "\t<tr><td>chr5</td><td>HAVANA</td><td>CDS        </td><td>69171270</td><td>69171452</td><td>.</td><td>+</td><td>CCNB1</td><td>ENSG00000134057</td><td>ENSG00000134057.13</td><td>⋯</td><td>CCDS3997.1</td><td>ENSP00000256442</td><td>ENSP00000256442.5</td><td>OTTHUMG00000097817</td><td>OTTHUMG00000097817.3</td><td>OTTHUMT00000215084</td><td>OTTHUMT00000215084.1</td><td>2</td><td>basic;appris_principal_1;CCDS</td><td>NA</td></tr>\n",
              "\t<tr><td>chr5</td><td>HAVANA</td><td>CDS        </td><td>69174877</td><td>69175113</td><td>.</td><td>+</td><td>CCNB1</td><td>ENSG00000134057</td><td>ENSG00000134057.13</td><td>⋯</td><td>CCDS3997.1</td><td>ENSP00000256442</td><td>ENSP00000256442.5</td><td>OTTHUMG00000097817</td><td>OTTHUMG00000097817.3</td><td>OTTHUMT00000215084</td><td>OTTHUMT00000215084.1</td><td>2</td><td>basic;appris_principal_1;CCDS</td><td>NA</td></tr>\n",
              "\t<tr><td>chr5</td><td>HAVANA</td><td>CDS        </td><td>69167908</td><td>69168078</td><td>.</td><td>+</td><td>CCNB1</td><td>ENSG00000134057</td><td>ENSG00000134057.13</td><td>⋯</td><td>CCDS3997.1</td><td>ENSP00000256442</td><td>ENSP00000256442.5</td><td>OTTHUMG00000097817</td><td>OTTHUMG00000097817.3</td><td>OTTHUMT00000215084</td><td>OTTHUMT00000215084.1</td><td>2</td><td>basic;appris_principal_1;CCDS</td><td>NA</td></tr>\n",
              "\t<tr><td>chr5</td><td>HAVANA</td><td>CDS        </td><td>69167263</td><td>69167283</td><td>.</td><td>+</td><td>CCNB1</td><td>ENSG00000134057</td><td>ENSG00000134057.13</td><td>⋯</td><td>CCDS3997.1</td><td>ENSP00000256442</td><td>ENSP00000256442.5</td><td>OTTHUMG00000097817</td><td>OTTHUMG00000097817.3</td><td>OTTHUMT00000215084</td><td>OTTHUMT00000215084.1</td><td>2</td><td>basic;appris_principal_1;CCDS</td><td>NA</td></tr>\n",
              "\t<tr><td>chr5</td><td>HAVANA</td><td>exon       </td><td>69177524</td><td>69178245</td><td>.</td><td>+</td><td>CCNB1</td><td>ENSG00000134057</td><td>ENSG00000134057.13</td><td>⋯</td><td>CCDS3997.1</td><td>ENSP00000256442</td><td>ENSP00000256442.5</td><td>OTTHUMG00000097817</td><td>OTTHUMG00000097817.3</td><td>OTTHUMT00000215084</td><td>OTTHUMT00000215084.1</td><td>2</td><td>basic;appris_principal_1;CCDS</td><td>NA</td></tr>\n",
              "\t<tr><td>chr5</td><td>HAVANA</td><td>CDS        </td><td>69177239</td><td>69177349</td><td>.</td><td>+</td><td>CCNB1</td><td>ENSG00000134057</td><td>ENSG00000134057.13</td><td>⋯</td><td>CCDS3997.1</td><td>ENSP00000256442</td><td>ENSP00000256442.5</td><td>OTTHUMG00000097817</td><td>OTTHUMG00000097817.3</td><td>OTTHUMT00000215084</td><td>OTTHUMT00000215084.1</td><td>2</td><td>basic;appris_principal_1;CCDS</td><td>NA</td></tr>\n",
              "\t<tr><td>chr5</td><td>HAVANA</td><td>CDS        </td><td>69177524</td><td>69177628</td><td>.</td><td>+</td><td>CCNB1</td><td>ENSG00000134057</td><td>ENSG00000134057.13</td><td>⋯</td><td>CCDS3997.1</td><td>ENSP00000256442</td><td>ENSP00000256442.5</td><td>OTTHUMG00000097817</td><td>OTTHUMG00000097817.3</td><td>OTTHUMT00000215084</td><td>OTTHUMT00000215084.1</td><td>2</td><td>basic;appris_principal_1;CCDS</td><td>NA</td></tr>\n",
              "\t<tr><td>chr5</td><td>HAVANA</td><td>UTR        </td><td>69177629</td><td>69178245</td><td>.</td><td>+</td><td>CCNB1</td><td>ENSG00000134057</td><td>ENSG00000134057.13</td><td>⋯</td><td>CCDS3997.1</td><td>ENSP00000256442</td><td>ENSP00000256442.5</td><td>OTTHUMG00000097817</td><td>OTTHUMG00000097817.3</td><td>OTTHUMT00000215084</td><td>OTTHUMT00000215084.1</td><td>2</td><td>basic;appris_principal_1;CCDS</td><td>NA</td></tr>\n",
              "\t<tr><td>chr5</td><td>HAVANA</td><td>CDS        </td><td>69175397</td><td>69175537</td><td>.</td><td>+</td><td>CCNB1</td><td>ENSG00000134057</td><td>ENSG00000134057.13</td><td>⋯</td><td>CCDS3997.1</td><td>ENSP00000256442</td><td>ENSP00000256442.5</td><td>OTTHUMG00000097817</td><td>OTTHUMG00000097817.3</td><td>OTTHUMT00000215084</td><td>OTTHUMT00000215084.1</td><td>2</td><td>basic;appris_principal_1;CCDS</td><td>NA</td></tr>\n",
              "\t<tr><td>chr5</td><td>HAVANA</td><td>CDS        </td><td>69168173</td><td>69168343</td><td>.</td><td>+</td><td>CCNB1</td><td>ENSG00000134057</td><td>ENSG00000134057.13</td><td>⋯</td><td>CCDS3997.1</td><td>ENSP00000256442</td><td>ENSP00000256442.5</td><td>OTTHUMG00000097817</td><td>OTTHUMG00000097817.3</td><td>OTTHUMT00000215084</td><td>OTTHUMT00000215084.1</td><td>2</td><td>basic;appris_principal_1;CCDS</td><td>NA</td></tr>\n",
              "\t<tr><td>chr5</td><td>HAVANA</td><td>start_codon</td><td>69167263</td><td>69167265</td><td>.</td><td>+</td><td>CCNB1</td><td>ENSG00000134057</td><td>ENSG00000134057.13</td><td>⋯</td><td>CCDS3997.1</td><td>ENSP00000256442</td><td>ENSP00000256442.5</td><td>OTTHUMG00000097817</td><td>OTTHUMG00000097817.3</td><td>OTTHUMT00000215084</td><td>OTTHUMT00000215084.1</td><td>2</td><td>basic;appris_principal_1;CCDS</td><td>NA</td></tr>\n",
              "\t<tr><td>chr5</td><td>HAVANA</td><td>exon       </td><td>69174877</td><td>69175113</td><td>.</td><td>+</td><td>CCNB1</td><td>ENSG00000134057</td><td>ENSG00000134057.13</td><td>⋯</td><td>CCDS3997.1</td><td>ENSP00000256442</td><td>ENSP00000256442.5</td><td>OTTHUMG00000097817</td><td>OTTHUMG00000097817.3</td><td>OTTHUMT00000215084</td><td>OTTHUMT00000215084.1</td><td>2</td><td>basic;appris_principal_1;CCDS</td><td>NA</td></tr>\n",
              "\t<tr><td>chr5</td><td>HAVANA</td><td>UTR        </td><td>69167010</td><td>69167262</td><td>.</td><td>+</td><td>CCNB1</td><td>ENSG00000134057</td><td>ENSG00000134057.13</td><td>⋯</td><td>CCDS3997.1</td><td>ENSP00000256442</td><td>ENSP00000256442.5</td><td>OTTHUMG00000097817</td><td>OTTHUMG00000097817.3</td><td>OTTHUMT00000215084</td><td>OTTHUMT00000215084.1</td><td>2</td><td>basic;appris_principal_1;CCDS</td><td>NA</td></tr>\n",
              "\t<tr><td>chr5</td><td>HAVANA</td><td>exon       </td><td>69168173</td><td>69168343</td><td>.</td><td>+</td><td>CCNB1</td><td>ENSG00000134057</td><td>ENSG00000134057.13</td><td>⋯</td><td>CCDS3997.1</td><td>ENSP00000256442</td><td>ENSP00000256442.5</td><td>OTTHUMG00000097817</td><td>OTTHUMG00000097817.3</td><td>OTTHUMT00000215084</td><td>OTTHUMT00000215084.1</td><td>2</td><td>basic;appris_principal_1;CCDS</td><td>NA</td></tr>\n",
              "\t<tr><td>chr5</td><td>HAVANA</td><td>stop_codon </td><td>69177629</td><td>69177631</td><td>.</td><td>+</td><td>CCNB1</td><td>ENSG00000134057</td><td>ENSG00000134057.13</td><td>⋯</td><td>CCDS3997.1</td><td>ENSP00000256442</td><td>ENSP00000256442.5</td><td>OTTHUMG00000097817</td><td>OTTHUMG00000097817.3</td><td>OTTHUMT00000215084</td><td>OTTHUMT00000215084.1</td><td>2</td><td>basic;appris_principal_1;CCDS</td><td>NA</td></tr>\n",
              "\t<tr><td>chr5</td><td>HAVANA</td><td>CDS        </td><td>69174251</td><td>69174409</td><td>.</td><td>+</td><td>CCNB1</td><td>ENSG00000134057</td><td>ENSG00000134057.13</td><td>⋯</td><td>CCDS3997.1</td><td>ENSP00000256442</td><td>ENSP00000256442.5</td><td>OTTHUMG00000097817</td><td>OTTHUMG00000097817.3</td><td>OTTHUMT00000215084</td><td>OTTHUMT00000215084.1</td><td>2</td><td>basic;appris_principal_1;CCDS</td><td>NA</td></tr>\n",
              "\t<tr><td>chr5</td><td>HAVANA</td><td>exon       </td><td>69167908</td><td>69168078</td><td>.</td><td>+</td><td>CCNB1</td><td>ENSG00000134057</td><td>ENSG00000134057.13</td><td>⋯</td><td>CCDS3997.1</td><td>ENSP00000256442</td><td>ENSP00000256442.5</td><td>OTTHUMG00000097817</td><td>OTTHUMG00000097817.3</td><td>OTTHUMT00000215084</td><td>OTTHUMT00000215084.1</td><td>2</td><td>basic;appris_principal_1;CCDS</td><td>NA</td></tr>\n",
              "\t<tr><td>chr5</td><td>HAVANA</td><td>exon       </td><td>69177239</td><td>69177349</td><td>.</td><td>+</td><td>CCNB1</td><td>ENSG00000134057</td><td>ENSG00000134057.13</td><td>⋯</td><td>CCDS3997.1</td><td>ENSP00000256442</td><td>ENSP00000256442.5</td><td>OTTHUMG00000097817</td><td>OTTHUMG00000097817.3</td><td>OTTHUMT00000215084</td><td>OTTHUMT00000215084.1</td><td>2</td><td>basic;appris_principal_1;CCDS</td><td>NA</td></tr>\n",
              "\t<tr><td>chr5</td><td>HAVANA</td><td>exon       </td><td>69167010</td><td>69167283</td><td>.</td><td>+</td><td>CCNB1</td><td>ENSG00000134057</td><td>ENSG00000134057.13</td><td>⋯</td><td>CCDS3997.1</td><td>ENSP00000256442</td><td>ENSP00000256442.5</td><td>OTTHUMG00000097817</td><td>OTTHUMG00000097817.3</td><td>OTTHUMT00000215084</td><td>OTTHUMT00000215084.1</td><td>2</td><td>basic;appris_principal_1;CCDS</td><td>NA</td></tr>\n",
              "\t<tr><td>chr5</td><td>HAVANA</td><td>exon       </td><td>69171270</td><td>69171452</td><td>.</td><td>+</td><td>CCNB1</td><td>ENSG00000134057</td><td>ENSG00000134057.13</td><td>⋯</td><td>CCDS3997.1</td><td>ENSP00000256442</td><td>ENSP00000256442.5</td><td>OTTHUMG00000097817</td><td>OTTHUMG00000097817.3</td><td>OTTHUMT00000215084</td><td>OTTHUMT00000215084.1</td><td>2</td><td>basic;appris_principal_1;CCDS</td><td>NA</td></tr>\n",
              "\t<tr><td>chr5</td><td>HAVANA</td><td>transcript </td><td>69167010</td><td>69178245</td><td>.</td><td>+</td><td>CCNB1</td><td>ENSG00000134057</td><td>ENSG00000134057.13</td><td>⋯</td><td>CCDS3997.1</td><td>ENSP00000256442</td><td>ENSP00000256442.5</td><td>OTTHUMG00000097817</td><td>OTTHUMG00000097817.3</td><td>OTTHUMT00000215084</td><td>OTTHUMT00000215084.1</td><td>2</td><td>basic;appris_principal_1;CCDS</td><td>NA</td></tr>\n",
              "\t<tr><td>chr5</td><td>HAVANA</td><td>exon       </td><td>69174251</td><td>69174409</td><td>.</td><td>+</td><td>CCNB1</td><td>ENSG00000134057</td><td>ENSG00000134057.13</td><td>⋯</td><td>CCDS3997.1</td><td>ENSP00000256442</td><td>ENSP00000256442.5</td><td>OTTHUMG00000097817</td><td>OTTHUMG00000097817.3</td><td>OTTHUMT00000215084</td><td>OTTHUMT00000215084.1</td><td>2</td><td>basic;appris_principal_1;CCDS</td><td>NA</td></tr>\n",
              "\t<tr><td>chr5</td><td>HAVANA</td><td>exon       </td><td>69175397</td><td>69175537</td><td>.</td><td>+</td><td>CCNB1</td><td>ENSG00000134057</td><td>ENSG00000134057.13</td><td>⋯</td><td>CCDS3997.1</td><td>ENSP00000256442</td><td>ENSP00000256442.5</td><td>OTTHUMG00000097817</td><td>OTTHUMG00000097817.3</td><td>OTTHUMT00000215084</td><td>OTTHUMT00000215084.1</td><td>2</td><td>basic;appris_principal_1;CCDS</td><td>NA</td></tr>\n",
              "</tbody>\n",
              "</table>\n"
            ]
          },
          "metadata": {}
        }
      ]
    },
    {
      "cell_type": "markdown",
      "metadata": {
        "id": "67b485f2"
      },
      "source": [
        "## Mutation data\n",
        "You may encounter a mutation and wonder if it's represented in other cancer data. Given the gene annotation data from above we can query the somatic mutation table for mutations within a gene.\n",
        "\n",
        "Table: *isb-cgc-bq.TCGA.somatic_mutation_hg38_gdc_current*"
      ],
      "id": "67b485f2"
    },
    {
      "cell_type": "code",
      "metadata": {
        "colab": {
          "base_uri": "https://localhost:8080/",
          "height": 303
        },
        "id": "5771c69e",
        "outputId": "14211ddf-aef1-470f-fc54-e74caa4b5d11"
      },
      "source": [
        "# this query retrieves all mutations falling between the start codon and the stop codon of our gene.\n",
        "mut_sql <- \"SELECT case_barcode, \n",
        "    Chromosome, \n",
        "    Start_Position, \n",
        "    End_Position, \n",
        "    Reference_Allele, \n",
        "    Tumor_Seq_Allele1, \n",
        "    Tumor_Seq_Allele2\n",
        "FROM `isb-cgc-bq.TCGA.somatic_mutation_hg38_gdc_current`\n",
        "WHERE Chromosome = 'chr5'\n",
        "    AND Start_Position >= 69167263\n",
        "    AND End_Position <= 69177631\"\n",
        "\n",
        "mut_query <- bq_project_query(project, query=mut_sql)\n",
        "mut_df <- bq_table_download(mut_query)\n",
        "head(mut_df)\n",
        "nrow(mut_df)"
      ],
      "id": "5771c69e",
      "execution_count": null,
      "outputs": [
        {
          "output_type": "display_data",
          "data": {
            "text/plain": [
              "  case_barcode Chromosome Start_Position End_Position Reference_Allele\n",
              "1 TCGA-AP-A059 chr5       69175531       69175531     T               \n",
              "2 TCGA-06-1805 chr5       69175091       69175091     G               \n",
              "3 TCGA-13-0751 chr5       69175528       69175529     -               \n",
              "4 TCGA-B5-A11E chr5       69177254       69177254     C               \n",
              "5 TCGA-CM-5861 chr5       69174975       69174975     C               \n",
              "6 TCGA-HT-8012 chr5       69171447       69171447     C               \n",
              "  Tumor_Seq_Allele1 Tumor_Seq_Allele2\n",
              "1 T                 C                \n",
              "2 G                 -                \n",
              "3 -                 CTCCTTCATCATA    \n",
              "4 C                 T                \n",
              "5 C                 G                \n",
              "6 C                 T                "
            ],
            "text/latex": "A tibble: 6 × 7\n\\begin{tabular}{lllllll}\n case\\_barcode & Chromosome & Start\\_Position & End\\_Position & Reference\\_Allele & Tumor\\_Seq\\_Allele1 & Tumor\\_Seq\\_Allele2\\\\\n <chr> & <chr> & <int> & <int> & <chr> & <chr> & <chr>\\\\\n\\hline\n\t TCGA-AP-A059 & chr5 & 69175531 & 69175531 & T & T & C            \\\\\n\t TCGA-06-1805 & chr5 & 69175091 & 69175091 & G & G & -            \\\\\n\t TCGA-13-0751 & chr5 & 69175528 & 69175529 & - & - & CTCCTTCATCATA\\\\\n\t TCGA-B5-A11E & chr5 & 69177254 & 69177254 & C & C & T            \\\\\n\t TCGA-CM-5861 & chr5 & 69174975 & 69174975 & C & C & G            \\\\\n\t TCGA-HT-8012 & chr5 & 69171447 & 69171447 & C & C & T            \\\\\n\\end{tabular}\n",
            "text/markdown": "\nA tibble: 6 × 7\n\n| case_barcode &lt;chr&gt; | Chromosome &lt;chr&gt; | Start_Position &lt;int&gt; | End_Position &lt;int&gt; | Reference_Allele &lt;chr&gt; | Tumor_Seq_Allele1 &lt;chr&gt; | Tumor_Seq_Allele2 &lt;chr&gt; |\n|---|---|---|---|---|---|---|\n| TCGA-AP-A059 | chr5 | 69175531 | 69175531 | T | T | C             |\n| TCGA-06-1805 | chr5 | 69175091 | 69175091 | G | G | -             |\n| TCGA-13-0751 | chr5 | 69175528 | 69175529 | - | - | CTCCTTCATCATA |\n| TCGA-B5-A11E | chr5 | 69177254 | 69177254 | C | C | T             |\n| TCGA-CM-5861 | chr5 | 69174975 | 69174975 | C | C | G             |\n| TCGA-HT-8012 | chr5 | 69171447 | 69171447 | C | C | T             |\n\n",
            "text/html": [
              "<table class=\"dataframe\">\n",
              "<caption>A tibble: 6 × 7</caption>\n",
              "<thead>\n",
              "\t<tr><th scope=col>case_barcode</th><th scope=col>Chromosome</th><th scope=col>Start_Position</th><th scope=col>End_Position</th><th scope=col>Reference_Allele</th><th scope=col>Tumor_Seq_Allele1</th><th scope=col>Tumor_Seq_Allele2</th></tr>\n",
              "\t<tr><th scope=col>&lt;chr&gt;</th><th scope=col>&lt;chr&gt;</th><th scope=col>&lt;int&gt;</th><th scope=col>&lt;int&gt;</th><th scope=col>&lt;chr&gt;</th><th scope=col>&lt;chr&gt;</th><th scope=col>&lt;chr&gt;</th></tr>\n",
              "</thead>\n",
              "<tbody>\n",
              "\t<tr><td>TCGA-AP-A059</td><td>chr5</td><td>69175531</td><td>69175531</td><td>T</td><td>T</td><td>C            </td></tr>\n",
              "\t<tr><td>TCGA-06-1805</td><td>chr5</td><td>69175091</td><td>69175091</td><td>G</td><td>G</td><td>-            </td></tr>\n",
              "\t<tr><td>TCGA-13-0751</td><td>chr5</td><td>69175528</td><td>69175529</td><td>-</td><td>-</td><td>CTCCTTCATCATA</td></tr>\n",
              "\t<tr><td>TCGA-B5-A11E</td><td>chr5</td><td>69177254</td><td>69177254</td><td>C</td><td>C</td><td>T            </td></tr>\n",
              "\t<tr><td>TCGA-CM-5861</td><td>chr5</td><td>69174975</td><td>69174975</td><td>C</td><td>C</td><td>G            </td></tr>\n",
              "\t<tr><td>TCGA-HT-8012</td><td>chr5</td><td>69171447</td><td>69171447</td><td>C</td><td>C</td><td>T            </td></tr>\n",
              "</tbody>\n",
              "</table>\n"
            ]
          },
          "metadata": {}
        },
        {
          "output_type": "display_data",
          "data": {
            "text/plain": [
              "[1] 68"
            ],
            "text/latex": "68",
            "text/markdown": "68",
            "text/html": [
              "68"
            ]
          },
          "metadata": {}
        }
      ]
    },
    {
      "cell_type": "code",
      "metadata": {
        "id": "dac2c8d9",
        "colab": {
          "base_uri": "https://localhost:8080/",
          "height": 257
        },
        "outputId": "1d93d742-07fb-4840-c11d-4a8378b5da0a"
      },
      "source": [
        "# we can plot the positions and number of mutations on the chromosome\n",
        "options(repr.plot.width=15, repr.plot.height=4)\n",
        "mut_count <- table(mut_df[,3])\n",
        "max_count <- max(mut_count)\n",
        "plot(NA, xlim=c(min(mut_df[,3])-1000, max(mut_df[,3])+1000), ylim=c(-0.3,max_count), \n",
        "     yaxt='n', bty='n', main='', xlab='Chr5 position', ylab='occurance count')\n",
        "jnk <- apply(annot_df[annot_df$feature == 'exon',], 1, function(row){\n",
        "    rect(row[4], -0.2, row[5], -0.1, col='green')\n",
        "})\n",
        "axis(2, at=seq(0,3,1))\n",
        "jnk <- sapply(1:length(mut_count), function(ix){\n",
        "    x <- as.numeric(names(mut_count)[ix])\n",
        "    segments(x, 0, x, mut_count[ix])\n",
        "    })"
      ],
      "id": "dac2c8d9",
      "execution_count": null,
      "outputs": [
        {
          "output_type": "display_data",
          "data": {
            "image/png": "[encoded data removed]",
            "text/plain": [
              "Plot with title “”"
            ]
          },
          "metadata": {
            "image/png": {
              "width": 900,
              "height": 240
            }
          }
        }
      ]
    },
    {
      "cell_type": "code",
      "metadata": {
        "id": "c71f3de9",
        "colab": {
          "base_uri": "https://localhost:8080/",
          "height": 285
        },
        "outputId": "b0a00747-faa1-42b8-852e-664d48a1d5dd"
      },
      "source": [
        "sql <- \"SELECT\n",
        "    case_barcode, \n",
        "    Chromosome, \n",
        "    Start_Position, \n",
        "    End_Position, \n",
        "    Reference_Allele, \n",
        "    Tumor_Seq_Allele1, \n",
        "    Tumor_Seq_Allele2\n",
        "FROM `isb-cgc-bq.TCGA.somatic_mutation_hg38_gdc_current`\n",
        "WHERE \n",
        "    Chromosome = 'chr5'\n",
        "    AND ( (Start_Position < 69067135 and Start_Position > 69167135)\n",
        "        or (End_Position > 69177358 and End_Position < 69277358) )\"\n",
        "\n",
        "query <- bq_project_query(project, query=sql)\n",
        "df <- bq_table_download(query)\n",
        "head(df)"
      ],
      "id": "c71f3de9",
      "execution_count": null,
      "outputs": [
        {
          "output_type": "display_data",
          "data": {
            "text/plain": [
              "  case_barcode Chromosome Start_Position End_Position Reference_Allele\n",
              "1 TCGA-EY-A1GI chr5       69277338       69277338     A               \n",
              "2 TCGA-FW-A3R5 chr5       69209874       69209874     C               \n",
              "3 TCGA-DU-6392 chr5       69217801       69217801     G               \n",
              "4 TCGA-LD-A74U chr5       69189588       69189588     C               \n",
              "5 TCGA-BS-A0UF chr5       69255625       69255625     G               \n",
              "6 TCGA-64-5779 chr5       69226349       69226349     A               \n",
              "  Tumor_Seq_Allele1 Tumor_Seq_Allele2\n",
              "1 A                 C                \n",
              "2 C                 T                \n",
              "3 G                 A                \n",
              "4 C                 T                \n",
              "5 G                 T                \n",
              "6 A                 G                "
            ],
            "text/latex": "A tibble: 6 × 7\n\\begin{tabular}{lllllll}\n case\\_barcode & Chromosome & Start\\_Position & End\\_Position & Reference\\_Allele & Tumor\\_Seq\\_Allele1 & Tumor\\_Seq\\_Allele2\\\\\n <chr> & <chr> & <int> & <int> & <chr> & <chr> & <chr>\\\\\n\\hline\n\t TCGA-EY-A1GI & chr5 & 69277338 & 69277338 & A & A & C\\\\\n\t TCGA-FW-A3R5 & chr5 & 69209874 & 69209874 & C & C & T\\\\\n\t TCGA-DU-6392 & chr5 & 69217801 & 69217801 & G & G & A\\\\\n\t TCGA-LD-A74U & chr5 & 69189588 & 69189588 & C & C & T\\\\\n\t TCGA-BS-A0UF & chr5 & 69255625 & 69255625 & G & G & T\\\\\n\t TCGA-64-5779 & chr5 & 69226349 & 69226349 & A & A & G\\\\\n\\end{tabular}\n",
            "text/markdown": "\nA tibble: 6 × 7\n\n| case_barcode &lt;chr&gt; | Chromosome &lt;chr&gt; | Start_Position &lt;int&gt; | End_Position &lt;int&gt; | Reference_Allele &lt;chr&gt; | Tumor_Seq_Allele1 &lt;chr&gt; | Tumor_Seq_Allele2 &lt;chr&gt; |\n|---|---|---|---|---|---|---|\n| TCGA-EY-A1GI | chr5 | 69277338 | 69277338 | A | A | C |\n| TCGA-FW-A3R5 | chr5 | 69209874 | 69209874 | C | C | T |\n| TCGA-DU-6392 | chr5 | 69217801 | 69217801 | G | G | A |\n| TCGA-LD-A74U | chr5 | 69189588 | 69189588 | C | C | T |\n| TCGA-BS-A0UF | chr5 | 69255625 | 69255625 | G | G | T |\n| TCGA-64-5779 | chr5 | 69226349 | 69226349 | A | A | G |\n\n",
            "text/html": [
              "<table class=\"dataframe\">\n",
              "<caption>A tibble: 6 × 7</caption>\n",
              "<thead>\n",
              "\t<tr><th scope=col>case_barcode</th><th scope=col>Chromosome</th><th scope=col>Start_Position</th><th scope=col>End_Position</th><th scope=col>Reference_Allele</th><th scope=col>Tumor_Seq_Allele1</th><th scope=col>Tumor_Seq_Allele2</th></tr>\n",
              "\t<tr><th scope=col>&lt;chr&gt;</th><th scope=col>&lt;chr&gt;</th><th scope=col>&lt;int&gt;</th><th scope=col>&lt;int&gt;</th><th scope=col>&lt;chr&gt;</th><th scope=col>&lt;chr&gt;</th><th scope=col>&lt;chr&gt;</th></tr>\n",
              "</thead>\n",
              "<tbody>\n",
              "\t<tr><td>TCGA-EY-A1GI</td><td>chr5</td><td>69277338</td><td>69277338</td><td>A</td><td>A</td><td>C</td></tr>\n",
              "\t<tr><td>TCGA-FW-A3R5</td><td>chr5</td><td>69209874</td><td>69209874</td><td>C</td><td>C</td><td>T</td></tr>\n",
              "\t<tr><td>TCGA-DU-6392</td><td>chr5</td><td>69217801</td><td>69217801</td><td>G</td><td>G</td><td>A</td></tr>\n",
              "\t<tr><td>TCGA-LD-A74U</td><td>chr5</td><td>69189588</td><td>69189588</td><td>C</td><td>C</td><td>T</td></tr>\n",
              "\t<tr><td>TCGA-BS-A0UF</td><td>chr5</td><td>69255625</td><td>69255625</td><td>G</td><td>G</td><td>T</td></tr>\n",
              "\t<tr><td>TCGA-64-5779</td><td>chr5</td><td>69226349</td><td>69226349</td><td>A</td><td>A</td><td>G</td></tr>\n",
              "</tbody>\n",
              "</table>\n"
            ]
          },
          "metadata": {}
        }
      ]
    },
    {
      "cell_type": "markdown",
      "metadata": {
        "id": "a07269ab"
      },
      "source": [
        "## Table joins\n",
        "Many use cases for researchers require combined data from multiple of the tables we worked with in the previous examples. How do we join these data using BigQuery?\n",
        "\n",
        "Tables:\n",
        "*   *isb-cgc-bq.TCGA.clinical_gdc_current*\n",
        "*   *isb-cgc-bq.TCGA.somatic_mutation_hg38_gdc_current*"
      ],
      "id": "a07269ab"
    },
    {
      "cell_type": "code",
      "metadata": {
        "colab": {
          "base_uri": "https://localhost:8080/",
          "height": 305
        },
        "id": "ba2fbeaf",
        "outputId": "f386b3f2-35b5-4148-db79-9b91a851df75"
      },
      "source": [
        "sql <- \"SELECT\n",
        "    mut.case_barcode,\n",
        "    mut.Chromosome, \n",
        "    mut.Start_Position, \n",
        "    mut.End_Position, \n",
        "    mut.Reference_Allele, \n",
        "    mut.Tumor_Seq_Allele1, \n",
        "    mut.Tumor_Seq_Allele2, \n",
        "    clin.demo__vital_status \n",
        "FROM `isb-cgc-bq.TCGA.clinical_gdc_current` clin\n",
        "JOIN `isb-cgc-bq.TCGA.somatic_mutation_hg38_gdc_current` mut \n",
        "    ON clin.submitter_id = mut.case_barcode\n",
        "WHERE mut.project_short_name = 'TCGA-BRCA'\"\n",
        "\n",
        "query <- bq_project_query(project, query=sql)\n",
        "df <- bq_table_download(query)\n",
        "head(df)"
      ],
      "id": "ba2fbeaf",
      "execution_count": null,
      "outputs": [
        {
          "output_type": "display_data",
          "data": {
            "text/plain": [
              "  case_barcode Chromosome Start_Position End_Position\n",
              "1 TCGA-A8-A09A chr20      36591450       36591462    \n",
              "2 TCGA-A8-A09A chr11       6617720        6617728    \n",
              "3 TCGA-A8-A09A chr10      91630062       91630073    \n",
              "4 TCGA-A8-A09A chr1       44130625       44130629    \n",
              "5 TCGA-A8-A09A chr17      65137549       65137555    \n",
              "6 TCGA-A8-A09A chr13      45398768       45398800    \n",
              "  Reference_Allele                  Tumor_Seq_Allele1                \n",
              "1 GCTGAAGGCTCCA                     GCTGAAGGCTCCA                    \n",
              "2 GGGTCAGTG                         GGGTCAGTG                        \n",
              "3 CTGGGGTGCCAT                      CTGGGGTGCCAT                     \n",
              "4 CAGTG                             CAGTG                            \n",
              "5 CCGACAC                           CCGACAC                          \n",
              "6 ATTGTATTTATAAAAGCTAAGCACAGTGTGGCA ATTGTATTTATAAAAGCTAAGCACAGTGTGGCA\n",
              "  Tumor_Seq_Allele2 demo__vital_status\n",
              "1 -                 Alive             \n",
              "2 -                 Alive             \n",
              "3 -                 Alive             \n",
              "4 -                 Alive             \n",
              "5 -                 Alive             \n",
              "6 -                 Alive             "
            ],
            "text/latex": "A tibble: 6 × 8\n\\begin{tabular}{llllllll}\n case\\_barcode & Chromosome & Start\\_Position & End\\_Position & Reference\\_Allele & Tumor\\_Seq\\_Allele1 & Tumor\\_Seq\\_Allele2 & demo\\_\\_vital\\_status\\\\\n <chr> & <chr> & <int> & <int> & <chr> & <chr> & <chr> & <chr>\\\\\n\\hline\n\t TCGA-A8-A09A & chr20 & 36591450 & 36591462 & GCTGAAGGCTCCA                     & GCTGAAGGCTCCA                     & - & Alive\\\\\n\t TCGA-A8-A09A & chr11 &  6617720 &  6617728 & GGGTCAGTG                         & GGGTCAGTG                         & - & Alive\\\\\n\t TCGA-A8-A09A & chr10 & 91630062 & 91630073 & CTGGGGTGCCAT                      & CTGGGGTGCCAT                      & - & Alive\\\\\n\t TCGA-A8-A09A & chr1  & 44130625 & 44130629 & CAGTG                             & CAGTG                             & - & Alive\\\\\n\t TCGA-A8-A09A & chr17 & 65137549 & 65137555 & CCGACAC                           & CCGACAC                           & - & Alive\\\\\n\t TCGA-A8-A09A & chr13 & 45398768 & 45398800 & ATTGTATTTATAAAAGCTAAGCACAGTGTGGCA & ATTGTATTTATAAAAGCTAAGCACAGTGTGGCA & - & Alive\\\\\n\\end{tabular}\n",
            "text/markdown": "\nA tibble: 6 × 8\n\n| case_barcode &lt;chr&gt; | Chromosome &lt;chr&gt; | Start_Position &lt;int&gt; | End_Position &lt;int&gt; | Reference_Allele &lt;chr&gt; | Tumor_Seq_Allele1 &lt;chr&gt; | Tumor_Seq_Allele2 &lt;chr&gt; | demo__vital_status &lt;chr&gt; |\n|---|---|---|---|---|---|---|---|\n| TCGA-A8-A09A | chr20 | 36591450 | 36591462 | GCTGAAGGCTCCA                     | GCTGAAGGCTCCA                     | - | Alive |\n| TCGA-A8-A09A | chr11 |  6617720 |  6617728 | GGGTCAGTG                         | GGGTCAGTG                         | - | Alive |\n| TCGA-A8-A09A | chr10 | 91630062 | 91630073 | CTGGGGTGCCAT                      | CTGGGGTGCCAT                      | - | Alive |\n| TCGA-A8-A09A | chr1  | 44130625 | 44130629 | CAGTG                             | CAGTG                             | - | Alive |\n| TCGA-A8-A09A | chr17 | 65137549 | 65137555 | CCGACAC                           | CCGACAC                           | - | Alive |\n| TCGA-A8-A09A | chr13 | 45398768 | 45398800 | ATTGTATTTATAAAAGCTAAGCACAGTGTGGCA | ATTGTATTTATAAAAGCTAAGCACAGTGTGGCA | - | Alive |\n\n",
            "text/html": [
              "<table class=\"dataframe\">\n",
              "<caption>A tibble: 6 × 8</caption>\n",
              "<thead>\n",
              "\t<tr><th scope=col>case_barcode</th><th scope=col>Chromosome</th><th scope=col>Start_Position</th><th scope=col>End_Position</th><th scope=col>Reference_Allele</th><th scope=col>Tumor_Seq_Allele1</th><th scope=col>Tumor_Seq_Allele2</th><th scope=col>demo__vital_status</th></tr>\n",
              "\t<tr><th scope=col>&lt;chr&gt;</th><th scope=col>&lt;chr&gt;</th><th scope=col>&lt;int&gt;</th><th scope=col>&lt;int&gt;</th><th scope=col>&lt;chr&gt;</th><th scope=col>&lt;chr&gt;</th><th scope=col>&lt;chr&gt;</th><th scope=col>&lt;chr&gt;</th></tr>\n",
              "</thead>\n",
              "<tbody>\n",
              "\t<tr><td>TCGA-A8-A09A</td><td>chr20</td><td>36591450</td><td>36591462</td><td>GCTGAAGGCTCCA                    </td><td>GCTGAAGGCTCCA                    </td><td>-</td><td>Alive</td></tr>\n",
              "\t<tr><td>TCGA-A8-A09A</td><td>chr11</td><td> 6617720</td><td> 6617728</td><td>GGGTCAGTG                        </td><td>GGGTCAGTG                        </td><td>-</td><td>Alive</td></tr>\n",
              "\t<tr><td>TCGA-A8-A09A</td><td>chr10</td><td>91630062</td><td>91630073</td><td>CTGGGGTGCCAT                     </td><td>CTGGGGTGCCAT                     </td><td>-</td><td>Alive</td></tr>\n",
              "\t<tr><td>TCGA-A8-A09A</td><td>chr1 </td><td>44130625</td><td>44130629</td><td>CAGTG                            </td><td>CAGTG                            </td><td>-</td><td>Alive</td></tr>\n",
              "\t<tr><td>TCGA-A8-A09A</td><td>chr17</td><td>65137549</td><td>65137555</td><td>CCGACAC                          </td><td>CCGACAC                          </td><td>-</td><td>Alive</td></tr>\n",
              "\t<tr><td>TCGA-A8-A09A</td><td>chr13</td><td>45398768</td><td>45398800</td><td>ATTGTATTTATAAAAGCTAAGCACAGTGTGGCA</td><td>ATTGTATTTATAAAAGCTAAGCACAGTGTGGCA</td><td>-</td><td>Alive</td></tr>\n",
              "</tbody>\n",
              "</table>\n"
            ]
          },
          "metadata": {}
        }
      ]
    },
    {
      "cell_type": "code",
      "metadata": {
        "colab": {
          "base_uri": "https://localhost:8080/",
          "height": 377
        },
        "id": "603bb27b",
        "outputId": "8bcb5c4e-ee74-4bc9-8eb3-360d5a392afe"
      },
      "source": [
        "options(repr.plot.width=5, repr.plot.height=6)\n",
        "muts_alive <- table(df[df['demo__vital_status'] == 'Alive','case_barcode'])\n",
        "muts_dead <- table(df[df['demo__vital_status'] == 'Dead','case_barcode'])\n",
        "boxplot(muts_alive, muts_dead, ylim=c(0,1000), \n",
        "  names=c('Alive', 'Dead'), ylab='mutations')"
      ],
      "id": "603bb27b",
      "execution_count": 81,
      "outputs": [
        {
          "output_type": "display_data",
          "data": {
            "image/png": "[encoded data removed]",
            "text/plain": [
              "plot without title"
            ]
          },
          "metadata": {
            "image/png": {
              "width": 300,
              "height": 360
            }
          }
        }
      ]
    }
  ]
}