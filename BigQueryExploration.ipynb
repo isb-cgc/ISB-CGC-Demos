{
  "nbformat": 4,
  "nbformat_minor": 5,
  "metadata": {
    "environment": {
      "name": "r-cpu.4-0.m79",
      "type": "gcloud",
      "uri": "gcr.io/deeplearning-platform-release/r-cpu.4-0:m79"
    },
    "kernelspec": {
      "display_name": "R",
      "language": "R",
      "name": "ir"
    },
    "language_info": {
      "codemirror_mode": "r",
      "file_extension": ".r",
      "mimetype": "text/x-r-source",
      "name": "R",
      "pygments_lexer": "r",
      "version": "3.5.2"
    },
    "colab": {
      "name": "BigQueryExploration.ipynb",
      "provenance": []
    }
  },
  "cells": [
    {
      "cell_type": "markdown",
      "metadata": {
        "id": "zRvNi7N95HUz"
      },
      "source": [
        "# BigQuery Exploration"
      ],
      "id": "zRvNi7N95HUz"
    },
    {
      "cell_type": "code",
      "metadata": {
        "id": "T7HqOYLQntUB"
      },
      "source": [
        "library(bigrquery)\n",
        "library(repr)\n",
        "bigrquery::bq_auth(path = \"~/key-file\")\n",
        "project <- 'isb-cgc-outreach'"
      ],
      "id": "T7HqOYLQntUB",
      "execution_count": null,
      "outputs": []
    },
    {
      "cell_type": "markdown",
      "metadata": {
        "id": "_7KytyN4qjtv"
      },
      "source": [
        "## SQL queries\n",
        "SQL queries are fundamentally very similar to subsetting R data frames, where the syntax of subsetting an R data frame is as follows:\n",
        "\n",
        "> *dataframe*[ ,*column* ][ *conditional* ]\n",
        "\n",
        "The equivalent operation in SQL would look like this:\n",
        "\n",
        "> SELECT *column* FROM *table* WHERE *conditional*\n",
        "\n"
      ],
      "id": "_7KytyN4qjtv"
    },
    {
      "cell_type": "markdown",
      "metadata": {
        "id": "31792d6d"
      },
      "source": [
        "## Clinical and cohort queries\n",
        "In this section we want to showcase how researchers can find clinical information of GDC cases. How can you quickly construct a cohort. As an example, how old are the patients for each case in a given project?\n",
        "\n",
        "Tables used: *isb-cgc-bq.TCGA.clinical_gdc_current*"
      ],
      "id": "31792d6d"
    },
    {
      "cell_type": "code",
      "metadata": {
        "id": "9VS-nJnHsEsn"
      },
      "source": [
        "# Our first query is to retrieve the columns present\n",
        "column_sql <- \"SELECT \n",
        "    column_name \n",
        "FROM isb-cgc-bq.TCGA.INFORMATION_SCHEMA.COLUMNS \n",
        "WHERE table_name = 'clinical_gdc_current'\"\n",
        "\n",
        "column_query <- bq_project_query(project, query=column_sql)\n",
        "case_df <- as.vector(unlist(bq_table_download(column_query)))\n",
        "paste(case_df, collapse=', ')"
      ],
      "id": "9VS-nJnHsEsn",
      "execution_count": null,
      "outputs": []
    },
    {
      "cell_type": "code",
      "metadata": {
        "id": "00408325"
      },
      "source": [
        "# our second query retrieves the ages of all TCGA-BRCA cases\n",
        "case_sql <- \"SELECT\n",
        "  submitter_id,\n",
        "  demo__age_at_index,\n",
        "  demo__vital_status,\n",
        "FROM `isb-cgc-bq.TCGA.clinical_gdc_current`\n",
        "WHERE proj__project_id = 'TCGA-BRCA'\n",
        "\"\n",
        "case_query <- bq_project_query(project, query=case_sql)\n",
        "case_df <- as.data.frame(bq_table_download(case_query))\n",
        "head(case_df)\n",
        "\n",
        "# Try substituting alternate or adding columns such as:\n",
        "#   demo__vital_status\n",
        "#   demo__race\n",
        "# Find all the unique values that are in a column by querying only for:\n",
        "#   distinct demo__race\n",
        "# Try subseting the results by use of the where clause:\n",
        "#   proj__project_id = 'TCGA-BRCA'\n",
        "#   demo__age_at_index <= 70 AND demo__age_at_index >= 40"
      ],
      "id": "00408325",
      "execution_count": null,
      "outputs": []
    },
    {
      "cell_type": "code",
      "metadata": {
        "id": "2025d3b5"
      },
      "source": [
        "# since we have the data in R we can directly generate visuals\n",
        "options(repr.plot.width=7, repr.plot.height=5.5)\n",
        "case_num <- length(unique(case_df[,2]))\n",
        "hist(case_df[,2], breaks=case_num/2, main='age at index', xlab='age (years)')"
      ],
      "id": "2025d3b5",
      "execution_count": null,
      "outputs": []
    },
    {
      "cell_type": "code",
      "metadata": {
        "id": "c28f3bd4"
      },
      "source": [
        "# including separating by vital status\n",
        "hist(case_df[case_df[,3] == 'Alive',2], \n",
        "     breaks=case_num/2, xlim=c(25,90), \n",
        "     col='steelblue1', main='', xlab='age (years)')\n",
        "hist(case_df[case_df[,3] == 'Dead',2], \n",
        "     breaks=case_num/2, add=1, col='orange')\n",
        "legend('topright', bty='n', legend=c('Alive', 'Dead'), fill=c('steelblue1', 'orange'))"
      ],
      "id": "c28f3bd4",
      "execution_count": null,
      "outputs": []
    },
    {
      "cell_type": "markdown",
      "metadata": {
        "id": "9e1e6dff"
      },
      "source": [
        "## Gene expression\n",
        "Another common question researchers encounter is, given a gene of interest what is the expression pattern in cancers? Using the GDC expression tables it's possible to retrieve huge amounts of information and do high level comparisons quickly.\n",
        "\n",
        "Tables used: *isb-cgc-bq.TCGA.RNAseq_hg38_gdc_current*"
      ],
      "id": "9e1e6dff"
    },
    {
      "cell_type": "code",
      "metadata": {
        "id": "d324caa8"
      },
      "source": [
        "# a query to retrieve FPKM_UQ values for one specific gene (CCNB1)\n",
        "expr_sql <- \"SELECT\n",
        "  case_barcode,\n",
        "  aliquot_barcode,\n",
        "  sample_type_name,\n",
        "  HTSeq__FPKM_UQ\n",
        "FROM `isb-cgc-bq.TCGA.RNAseq_hg38_gdc_current`\n",
        "WHERE project_short_name = 'TCGA-BRCA'\n",
        "  AND gene_name = 'BRCA1' #'CCNB1'\"\n",
        "\n",
        "expr_query <- bq_project_query(project, query=expr_sql)\n",
        "expr_df <- bq_table_download(expr_query)\n",
        "head(expr_df)\n",
        "\n",
        "# try changing the project_short_name to 'TCGA-LUAD'\n",
        "# or substitute HTSeq__FPKM_UQ to retrieve other measures\n",
        "#    HTSeq__counts\n",
        "#    HTSeq__FPKM\n",
        "# change the gene name\n",
        "#    BRCA1\n",
        "#    BRCA2\n",
        "#    FOXA1"
      ],
      "id": "d324caa8",
      "execution_count": null,
      "outputs": []
    },
    {
      "cell_type": "code",
      "metadata": {
        "id": "48080216"
      },
      "source": [
        "options(repr.plot.width=5, repr.plot.height=6)\n",
        "tumor <- unlist(expr_df[expr_df[,3] == 'Primary Tumor',4])\n",
        "normal <- unlist(expr_df[expr_df[,3] == 'Solid Tissue Normal',4])\n",
        "metastatic <- unlist(expr_df[expr_df[,3] == 'Metastatic',4])\n",
        "\n",
        "boxplot(list(normal, tumor, metastatic), names=c('normal', 'tumor', 'metastatic'), main='CCNB1 expression', ylab='upper-quartile fpkm')"
      ],
      "id": "48080216",
      "execution_count": null,
      "outputs": []
    },
    {
      "cell_type": "markdown",
      "metadata": {
        "id": "7962dcc3"
      },
      "source": [
        "As the size of the data of interest increases, calculating statistics on a local machine may become prohibitive. One of the benefits of BigQuery is that it scales compute power to the demands of the query. We can functions built into BQ to generate summary statistics."
      ],
      "id": "7962dcc3"
    },
    {
      "cell_type": "code",
      "metadata": {
        "id": "9b238642"
      },
      "source": [
        "# This query will calculate averages, standard deviations, maximums, and minimums\n",
        "summ_sql <- \"SELECT\n",
        "  project_short_name,\n",
        "  sample_type_name,\n",
        "  count( distinct aliquot_barcode ) count_aliq,\n",
        "  avg(HTSeq__FPKM_UQ) avg_fpkm,\n",
        "  stddev(HTSeq__FPKM_UQ) sdv_fpkm,\n",
        "  max(HTSeq__FPKM_UQ) max_fpkm,\n",
        "  min(HTSeq__FPKM_UQ) min_fpkm\n",
        "FROM `isb-cgc-bq.TCGA.RNAseq_hg38_gdc_current`\n",
        "WHERE gene_name = 'CCNB1'\n",
        "GROUP BY project_short_name, sample_type_name\n",
        "\"\n",
        "\n",
        "summ_query <- bq_project_query(project, query=summ_sql)\n",
        "summ_df <- bq_table_download(summ_query)\n",
        "head(summ_df)\n",
        "\n",
        "# Other functions such as count and distinct can add useful information\n",
        "#    count( distinct aliquot_barcode )\n",
        "# Retrieve results for all genes or for all projects by\n",
        "# removing gene_name from the WHERE clause \n",
        "# and adding it to SELECT and GROUP BY"
      ],
      "id": "9b238642",
      "execution_count": null,
      "outputs": []
    },
    {
      "cell_type": "code",
      "metadata": {
        "id": "VFvnDjkbLpkw"
      },
      "source": [
        "# summ_sql <- \"SELECT\n",
        "#  sample_type_name,\n",
        "#  project_short_name,\n",
        "#  avg(HTSeq__FPKM_UQ) avg_fpkm,\n",
        "#  stddev(HTSeq__FPKM_UQ) sdv_fpkm,\n",
        "#  max(HTSeq__FPKM_UQ) max_fpkm,\n",
        "#  min(HTSeq__FPKM_UQ) min_fpkm\n",
        "#FROM `isb-cgc-bq.TCGA.RNAseq_hg38_gdc_current`\n",
        "#WHERE gene_name = 'CCNB1'\n",
        "#GROUP BY project_short_name,sample_type_name\""
      ],
      "id": "VFvnDjkbLpkw",
      "execution_count": null,
      "outputs": []
    },
    {
      "cell_type": "markdown",
      "metadata": {
        "id": "851f4dfe"
      },
      "source": [
        "## Genome annotation\n",
        "If we need annotatio information about a gene it's possible to quickly retrieve Gencode annotation from ISB-CGC hosted BigQuery tables.\n",
        "\n",
        "Table: *isb-cgc-bq.GENCODE_versioned.annotation_gtf_hg38_v22*"
      ],
      "id": "851f4dfe"
    },
    {
      "cell_type": "code",
      "metadata": {
        "id": "19c20855"
      },
      "source": [
        "annot_sql <- \"SELECT * \n",
        "FROM `isb-cgc-bq.GENCODE_versioned.annotation_gtf_hg38_v22`\n",
        "WHERE gene_name = 'CCNB1' \n",
        "  AND transcript_name = 'CCNB1-001'\"\n",
        "\n",
        "annot_query <- bq_project_query(project, query=annot_sql)\n",
        "annot_df <- bq_table_download(annot_query)\n",
        "annot_df"
      ],
      "id": "19c20855",
      "execution_count": null,
      "outputs": []
    },
    {
      "cell_type": "markdown",
      "metadata": {
        "id": "67b485f2"
      },
      "source": [
        "## Mutation data\n",
        "You may encounter a mutation and wonder if it's represented in other cancer data. Given the gene annotation data from above we can query the somatic mutation table for mutations within a gene.\n",
        "\n",
        "Table: *isb-cgc-bq.TCGA.somatic_mutation_hg38_gdc_current*"
      ],
      "id": "67b485f2"
    },
    {
      "cell_type": "code",
      "metadata": {
        "id": "5771c69e"
      },
      "source": [
        "# this query retrieves all mutations falling between the start codon and the stop codon of our gene.\n",
        "mut_sql <- \"SELECT case_barcode, \n",
        "    Chromosome, \n",
        "    Start_Position, \n",
        "    End_Position, \n",
        "    Reference_Allele, \n",
        "    Tumor_Seq_Allele1, \n",
        "    Tumor_Seq_Allele2\n",
        "FROM `isb-cgc-bq.TCGA.somatic_mutation_hg38_gdc_current`\n",
        "WHERE Chromosome = 'chr5'\n",
        "    AND Start_Position >= 69167263\n",
        "    AND End_Position <= 69177631\"\n",
        "\n",
        "mut_query <- bq_project_query(project, query=mut_sql)\n",
        "mut_df <- bq_table_download(mut_query)\n",
        "head(mut_df)\n",
        "nrow(mut_df)"
      ],
      "id": "5771c69e",
      "execution_count": null,
      "outputs": []
    },
    {
      "cell_type": "code",
      "metadata": {
        "id": "dac2c8d9"
      },
      "source": [
        "# we can plot the positions and number of mutations on the chromosome\n",
        "options(repr.plot.width=15, repr.plot.height=4)\n",
        "mut_count <- table(mut_df[,3])\n",
        "max_count <- max(mut_count)\n",
        "plot(NA, xlim=c(min(mut_df[,3])-1000, max(mut_df[,3])+1000), ylim=c(-0.3,max_count), \n",
        "     yaxt='n', bty='n', main='', xlab='Chr5 position', ylab='occurance count')\n",
        "jnk <- apply(annot_df[annot_df$feature == 'exon',], 1, function(row){\n",
        "    rect(row[4], -0.2, row[5], -0.1, col='green')\n",
        "})\n",
        "axis(2, at=seq(0,3,1))\n",
        "jnk <- sapply(1:length(mut_count), function(ix){\n",
        "    x <- as.numeric(names(mut_count)[ix])\n",
        "    segments(x, 0, x, mut_count[ix])\n",
        "    })"
      ],
      "id": "dac2c8d9",
      "execution_count": null,
      "outputs": []
    },
    {
      "cell_type": "code",
      "metadata": {
        "id": "c71f3de9"
      },
      "source": [
        "sql <- \"SELECT\n",
        "    case_barcode, \n",
        "    Chromosome, \n",
        "    Start_Position, \n",
        "    End_Position, \n",
        "    Reference_Allele, \n",
        "    Tumor_Seq_Allele1, \n",
        "    Tumor_Seq_Allele2\n",
        "FROM `isb-cgc-bq.TCGA.somatic_mutation_hg38_gdc_current`\n",
        "WHERE \n",
        "    Chromosome = 'chr5'\n",
        "    AND ( (Start_Position < 69067135 and Start_Position > 69167135)\n",
        "        or (End_Position > 69177358 and End_Position < 69277358) )\"\n",
        "\n",
        "query <- bq_project_query(project, query=sql)\n",
        "df <- bq_table_download(query)\n",
        "head(df)"
      ],
      "id": "c71f3de9",
      "execution_count": null,
      "outputs": []
    },
    {
      "cell_type": "markdown",
      "metadata": {
        "id": "a07269ab"
      },
      "source": [
        "## Table joins\n",
        "Many use cases for researchers require combined data from multiple of the tables we worked with in the previous examples. How do we join these data using BigQuery?\n",
        "\n",
        "Tables:\n",
        "*   *isb-cgc-bq.TCGA.clinical_gdc_current*\n",
        "*   *isb-cgc-bq.TCGA.somatic_mutation_hg38_gdc_current*"
      ],
      "id": "a07269ab"
    },
    {
      "cell_type": "code",
      "metadata": {
        "id": "ba2fbeaf"
      },
      "source": [
        "sql <- \"SELECT\n",
        "    mut.case_barcode,\n",
        "    mut.Chromosome, \n",
        "    mut.Start_Position, \n",
        "    mut.End_Position, \n",
        "    mut.Reference_Allele, \n",
        "    mut.Tumor_Seq_Allele1, \n",
        "    mut.Tumor_Seq_Allele2, \n",
        "    clin.demo__vital_status \n",
        "FROM `isb-cgc-bq.TCGA.clinical_gdc_current` clin\n",
        "JOIN `isb-cgc-bq.TCGA.somatic_mutation_hg38_gdc_current` mut \n",
        "    ON clin.submitter_id = mut.case_barcode\n",
        "WHERE mut.project_short_name = 'TCGA-BRCA'\"\n",
        "\n",
        "query <- bq_project_query(project, query=sql)\n",
        "df <- bq_table_download(query)\n",
        "head(df)"
      ],
      "id": "ba2fbeaf",
      "execution_count": null,
      "outputs": []
    },
    {
      "cell_type": "code",
      "metadata": {
        "id": "603bb27b"
      },
      "source": [
        "options(repr.plot.width=5, repr.plot.height=6)\n",
        "muts_alive <- as.vector(table(df[df['demo__vital_status'] == 'Alive','case_barcode']))\n",
        "muts_dead <- as.vector(table(df[df['demo__vital_status'] == 'Dead','case_barcode']))\n",
        "boxplot(muts_alive, muts_dead, ylim=c(0,1000), \n",
        "  names=c('Alive', 'Dead'), ylab='mutations')"
      ],
      "id": "603bb27b",
      "execution_count": null,
      "outputs": []
    }
  ]
}