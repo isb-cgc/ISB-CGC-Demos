{
  "nbformat": 4,
  "nbformat_minor": 0,
  "metadata": {
    "colab": {
      "name": "BigQuerySurvival.ipynb",
      "provenance": [],
      "collapsed_sections": []
    },
    "kernelspec": {
      "name": "ir",
      "display_name": "R"
    },
    "language_info": {
      "name": "R"
    }
  },
  "cells": [
    {
      "cell_type": "markdown",
      "metadata": {
        "id": "ZvlcmLOgLklQ"
      },
      "source": [
        "# Survival Analysis and BigQuery\n",
        "\n",
        "This notebook demonstrates how to use BigQuery to gather data to use in Survival analysis. We will be using mutation of the BRCA gene to predict the survival between mutation of BRCA and normal."
      ]
    },
    {
      "cell_type": "markdown",
      "metadata": {
        "id": "TSBvsNni_-Xw"
      },
      "source": [
        "## Further Reading on Survival Analysis\n",
        "\n",
        "Rich, Jason T et al. “A practical guide to understanding Kaplan-Meier curves.” Otolaryngology--head and neck surgery : official journal of American Academy of Otolaryngology-Head and Neck Surgery vol. 143,3 (2010): 331-6. [doi:10.1016/j.otohns.2010.05.007](doi:10.1016/j.otohns.2010.05.007)"
      ]
    },
    {
      "cell_type": "markdown",
      "metadata": {
        "id": "2y6OW7WnOsGy"
      },
      "source": [
        "## Load Libraries and Authorize with BigQuery"
      ]
    },
    {
      "cell_type": "code",
      "metadata": {
        "id": "yecImToI97Ws",
        "colab": {
          "base_uri": "https://localhost:8080/"
        },
        "outputId": "1cee4465-2808-4820-d749-f54641867bde"
      },
      "source": [
        "#Load Libraries and authorize with BigQuery\n",
        "library(bigrquery)\n",
        "library(tidyverse)\n",
        "library(survival)\n",
        "library(ggfortify)\n",
        "bigrquery::bq_auth(path = \"~/key-file\")\n",
        "project <- 'isb-cgc-bq'"
      ],
      "execution_count": 2,
      "outputs": [
        {
          "output_type": "stream",
          "name": "stderr",
          "text": [
            "Warning message in system(\"timedatectl\", intern = TRUE):\n",
            "“running command 'timedatectl' had status 1”\n",
            "── \u001b[1mAttaching packages\u001b[22m ─────────────────────────────────────── tidyverse 1.3.1 ──\n",
            "\n",
            "\u001b[32m✔\u001b[39m \u001b[34mggplot2\u001b[39m 3.3.5     \u001b[32m✔\u001b[39m \u001b[34mpurrr  \u001b[39m 0.3.4\n",
            "\u001b[32m✔\u001b[39m \u001b[34mtibble \u001b[39m 3.1.4     \u001b[32m✔\u001b[39m \u001b[34mdplyr  \u001b[39m 1.0.7\n",
            "\u001b[32m✔\u001b[39m \u001b[34mtidyr  \u001b[39m 1.1.3     \u001b[32m✔\u001b[39m \u001b[34mstringr\u001b[39m 1.4.0\n",
            "\u001b[32m✔\u001b[39m \u001b[34mreadr  \u001b[39m 2.0.1     \u001b[32m✔\u001b[39m \u001b[34mforcats\u001b[39m 0.5.1\n",
            "\n",
            "── \u001b[1mConflicts\u001b[22m ────────────────────────────────────────── tidyverse_conflicts() ──\n",
            "\u001b[31m✖\u001b[39m \u001b[34mdplyr\u001b[39m::\u001b[32mfilter()\u001b[39m masks \u001b[34mstats\u001b[39m::filter()\n",
            "\u001b[31m✖\u001b[39m \u001b[34mdplyr\u001b[39m::\u001b[32mlag()\u001b[39m    masks \u001b[34mstats\u001b[39m::lag()\n",
            "\n"
          ]
        }
      ]
    },
    {
      "cell_type": "markdown",
      "metadata": {
        "id": "yKiSpyJqbvgs"
      },
      "source": [
        "# Gather Data"
      ]
    },
    {
      "cell_type": "markdown",
      "metadata": {
        "id": "DVYYuQje95uq"
      },
      "source": [
        "## Technical terms\n",
        "\n",
        "| Name | Description |\n",
        "| :--- | :--- |\n",
        "| isb-cgc-bq | Google project name of ISB-CGC |\n",
        "| TCGA.somatic_mutation_hg38_gdc_current | BigQuery dataset and table containing TCGA somatic mutation data |\n",
        "| TCGA.clinical_gdc_current | BigQuery dataset and table containing TCGA clinical data |\n",
        "| project_short_name | The column name with the project name abbreviation |\n",
        "| Hugo_Symbol| The HUGO symbol for the gene |\n",
        "| demo__vital_status | The column with the survival state of the patient |\n",
        "| demo__days_to_death | The column with the number of days between the date used for index and the date from the patients death |\n",
        "| diag__days_to_last_follow_up | The column with the days between the initial diagnosis and the last follow with the patient |"
      ]
    },
    {
      "cell_type": "markdown",
      "metadata": {
        "id": "5Dpj31tLL1qz"
      },
      "source": [
        "## Retrieve Patient BRCA Mutation Status from BigQuery\n",
        "The first component of our data set is the status of the ERBB2 mutation for the patient. \n",
        "\n",
        "Table: *isb-cgc-bq.TCGA.somatic_mutation_hg38_gdc_current*"
      ]
    },
    {
      "cell_type": "code",
      "metadata": {
        "id": "EB32sfBRL0e0",
        "colab": {
          "base_uri": "https://localhost:8080/",
          "height": 88
        },
        "outputId": "78b17e8b-ef51-4635-9878-60c4c6dfab64"
      },
      "source": [
        "cohort_query <- \"WITH t AS (\n",
        "            SELECT case_id, Hugo_Symbol\n",
        "            FROM `isb-cgc-bq.TCGA.somatic_mutation_hg38_gdc_current`\n",
        "            WHERE\n",
        "              project_short_name = 'TCGA-BRCA')\n",
        "            SELECT DISTINCT case_id,\n",
        "              CASE\n",
        "                WHEN Hugo_Symbol = 'ERBB2' THEN 'ERBB2'\n",
        "                ELSE 'none'\n",
        "              END\n",
        "              AS gene_status\n",
        "            FROM t\n",
        "            ORDER BY gene_status\"\n",
        "# Run the query\n",
        "cohort <- bq_project_query(project, cohort_query, quiet = TRUE) \n",
        "# Create a dataframe with the results from the query\n",
        "cohort <- bq_table_download(cohort, quiet = TRUE)\n",
        "# Show the dataframe\n",
        "summary(cohort)"
      ],
      "execution_count": 28,
      "outputs": [
        {
          "output_type": "display_data",
          "data": {
            "text/plain": [
              "   case_id          gene_status       \n",
              " Length:1020        Length:1020       \n",
              " Class :character   Class :character  \n",
              " Mode  :character   Mode  :character  "
            ]
          },
          "metadata": {}
        }
      ]
    },
    {
      "cell_type": "markdown",
      "metadata": {
        "id": "rkkCXRfhiKzt"
      },
      "source": [
        "## Retrieve Clinical Data From BigQuery\n",
        "\n",
        "The other important component of our data set is the patient's vital status and either days to death or days to last follow up.\n",
        "\n",
        "Table: *isb-cgc-bq.TCGA.clinical_gdc_current*"
      ]
    },
    {
      "cell_type": "code",
      "metadata": {
        "id": "xtDkuTUqiS9K",
        "colab": {
          "base_uri": "https://localhost:8080/",
          "height": 321
        },
        "outputId": "537ec5f5-d9d1-4e73-c20d-a522fb2f40c8"
      },
      "source": [
        "survival_query <- str_c(\"\n",
        "  SELECT \n",
        "    case_id,\n",
        "    submitter_id,\n",
        "    demo__vital_status,\n",
        "    demo__days_to_death,\n",
        "    diag__days_to_last_follow_up\n",
        "  FROM `isb-cgc-bq.TCGA.clinical_gdc_current`\n",
        "  WHERE\n",
        "    case_id IN ('\", str_c(cohort$case_id, collapse = \"', '\"),\"') AND\n",
        "    demo__vital_status IS NOT NULL\")\n",
        "\n",
        "survival_request <- bq_project_query(project, survival_query)\n",
        "survival_data <- bq_table_download(survival_request)\n",
        "survival <- left_join(survival_data, cohort, key = \"case_id\")\n",
        "head(survival)"
      ],
      "execution_count": 75,
      "outputs": [
        {
          "output_type": "stream",
          "name": "stderr",
          "text": [
            "Joining, by = \"case_id\"\n",
            "\n"
          ]
        },
        {
          "output_type": "display_data",
          "data": {
            "text/plain": [
              "  case_id                              submitter_id demo__vital_status\n",
              "1 e98b69bc-766a-485f-b5e8-9166b8d457b3 TCGA-A8-A099 Alive             \n",
              "2 b205bba0-1870-4458-9088-8817e20389fe TCGA-A8-A09A Alive             \n",
              "3 80f3f48a-cc21-415c-b181-c77e7ba1c563 TCGA-A8-A09C Alive             \n",
              "4 6e6408d6-6c48-4dfc-9f1c-28b7386e87b4 TCGA-B6-A0I8 Dead              \n",
              "5 08da7c4c-3067-4bcf-9d7a-78566df72e69 TCGA-B6-A0RE Alive             \n",
              "6 151f3677-6854-4265-9126-d92c646c67ae TCGA-B6-A0RM Dead              \n",
              "  demo__days_to_death diag__days_to_last_follow_up gene_status\n",
              "1   NA                 304                         none       \n",
              "2   NA                 304                         none       \n",
              "3   NA                  31                         none       \n",
              "4  749                  NA                         none       \n",
              "5   NA                7777                         none       \n",
              "6 2373                  NA                         none       "
            ],
            "text/latex": "A tibble: 6 × 6\n\\begin{tabular}{llllll}\n case\\_id & submitter\\_id & demo\\_\\_vital\\_status & demo\\_\\_days\\_to\\_death & diag\\_\\_days\\_to\\_last\\_follow\\_up & gene\\_status\\\\\n <chr> & <chr> & <chr> & <int> & <dbl> & <chr>\\\\\n\\hline\n\t e98b69bc-766a-485f-b5e8-9166b8d457b3 & TCGA-A8-A099 & Alive &   NA &  304 & none\\\\\n\t b205bba0-1870-4458-9088-8817e20389fe & TCGA-A8-A09A & Alive &   NA &  304 & none\\\\\n\t 80f3f48a-cc21-415c-b181-c77e7ba1c563 & TCGA-A8-A09C & Alive &   NA &   31 & none\\\\\n\t 6e6408d6-6c48-4dfc-9f1c-28b7386e87b4 & TCGA-B6-A0I8 & Dead  &  749 &   NA & none\\\\\n\t 08da7c4c-3067-4bcf-9d7a-78566df72e69 & TCGA-B6-A0RE & Alive &   NA & 7777 & none\\\\\n\t 151f3677-6854-4265-9126-d92c646c67ae & TCGA-B6-A0RM & Dead  & 2373 &   NA & none\\\\\n\\end{tabular}\n",
            "text/markdown": "\nA tibble: 6 × 6\n\n| case_id &lt;chr&gt; | submitter_id &lt;chr&gt; | demo__vital_status &lt;chr&gt; | demo__days_to_death &lt;int&gt; | diag__days_to_last_follow_up &lt;dbl&gt; | gene_status &lt;chr&gt; |\n|---|---|---|---|---|---|\n| e98b69bc-766a-485f-b5e8-9166b8d457b3 | TCGA-A8-A099 | Alive |   NA |  304 | none |\n| b205bba0-1870-4458-9088-8817e20389fe | TCGA-A8-A09A | Alive |   NA |  304 | none |\n| 80f3f48a-cc21-415c-b181-c77e7ba1c563 | TCGA-A8-A09C | Alive |   NA |   31 | none |\n| 6e6408d6-6c48-4dfc-9f1c-28b7386e87b4 | TCGA-B6-A0I8 | Dead  |  749 |   NA | none |\n| 08da7c4c-3067-4bcf-9d7a-78566df72e69 | TCGA-B6-A0RE | Alive |   NA | 7777 | none |\n| 151f3677-6854-4265-9126-d92c646c67ae | TCGA-B6-A0RM | Dead  | 2373 |   NA | none |\n\n",
            "text/html": [
              "<table class=\"dataframe\">\n",
              "<caption>A tibble: 6 × 6</caption>\n",
              "<thead>\n",
              "\t<tr><th scope=col>case_id</th><th scope=col>submitter_id</th><th scope=col>demo__vital_status</th><th scope=col>demo__days_to_death</th><th scope=col>diag__days_to_last_follow_up</th><th scope=col>gene_status</th></tr>\n",
              "\t<tr><th scope=col>&lt;chr&gt;</th><th scope=col>&lt;chr&gt;</th><th scope=col>&lt;chr&gt;</th><th scope=col>&lt;int&gt;</th><th scope=col>&lt;dbl&gt;</th><th scope=col>&lt;chr&gt;</th></tr>\n",
              "</thead>\n",
              "<tbody>\n",
              "\t<tr><td>e98b69bc-766a-485f-b5e8-9166b8d457b3</td><td>TCGA-A8-A099</td><td>Alive</td><td>  NA</td><td> 304</td><td>none</td></tr>\n",
              "\t<tr><td>b205bba0-1870-4458-9088-8817e20389fe</td><td>TCGA-A8-A09A</td><td>Alive</td><td>  NA</td><td> 304</td><td>none</td></tr>\n",
              "\t<tr><td>80f3f48a-cc21-415c-b181-c77e7ba1c563</td><td>TCGA-A8-A09C</td><td>Alive</td><td>  NA</td><td>  31</td><td>none</td></tr>\n",
              "\t<tr><td>6e6408d6-6c48-4dfc-9f1c-28b7386e87b4</td><td>TCGA-B6-A0I8</td><td>Dead </td><td> 749</td><td>  NA</td><td>none</td></tr>\n",
              "\t<tr><td>08da7c4c-3067-4bcf-9d7a-78566df72e69</td><td>TCGA-B6-A0RE</td><td>Alive</td><td>  NA</td><td>7777</td><td>none</td></tr>\n",
              "\t<tr><td>151f3677-6854-4265-9126-d92c646c67ae</td><td>TCGA-B6-A0RM</td><td>Dead </td><td>2373</td><td>  NA</td><td>none</td></tr>\n",
              "</tbody>\n",
              "</table>\n"
            ]
          },
          "metadata": {}
        }
      ]
    },
    {
      "cell_type": "markdown",
      "metadata": {
        "id": "_kekkxuXiiMg"
      },
      "source": [
        "# Clean Data\n",
        "\n",
        "We want to make sure that the data is cleaned of duplicates, empty cells, missing data, and create one column for days to death and days to last follow up."
      ]
    },
    {
      "cell_type": "code",
      "metadata": {
        "id": "tX0CwYAwikZD",
        "colab": {
          "base_uri": "https://localhost:8080/",
          "height": 286
        },
        "outputId": "2d6a3d87-c60a-4afe-daf1-9a7e3eb62a57"
      },
      "source": [
        "# Add a column for status at the end\n",
        "survival$days_to_event <- survival$demo__days_to_death\n",
        "\n",
        "# Fill in NAs for alive cases with days to last follow-up\n",
        "for (row in 1:nrow( survival)) {\n",
        "  if (survival$demo__vital_status[row] == 'Alive' && is.na(survival$days_to_event[row])){\n",
        "    survival$days_to_event[row] <- survival$diag__days_to_last_follow_up[row]\n",
        "  }\n",
        "}\n",
        "\n",
        "# Remove duplicates in the gene status column keeping the mutation\n",
        "\n",
        "survival <- arrange(survival, gene_status)\n",
        "survival <- survival[!duplicated(survival$case_id),]\n",
        "\n",
        "# Filter out cases marked as dead but have no data for days to death and negative days\n",
        "survival <- filter(survival, !(demo__vital_status==\"Dead\"&days_to_event==\"NA\")&days_to_event>=1)\n",
        "\n",
        "# Convert the vital status to numbers\n",
        "survival$vital_status <- ifelse(survival$demo__vital_status=='Alive', 0, 1)\n",
        "\n",
        "head(survival)"
      ],
      "execution_count": 77,
      "outputs": [
        {
          "output_type": "display_data",
          "data": {
            "text/plain": [
              "  case_id                              submitter_id demo__vital_status\n",
              "1 d7808cbc-4b8c-467b-b2c3-f48d05b9ecab TCGA-A8-A08Z Alive             \n",
              "2 9ced0c70-c46c-4f98-8f48-840defe4b8b1 TCGA-D8-A1JA Alive             \n",
              "3 557cb0a3-6f1b-4faf-8296-0a15c24158f9 TCGA-BH-A18P Dead              \n",
              "4 17ca61a2-607a-45ff-88fa-ef72e80bf891 TCGA-BH-A0HF Alive             \n",
              "5 c348a9b3-c901-4384-a222-144387bac0c5 TCGA-BH-A1FU Dead              \n",
              "6 92529232-8504-4541-b7e2-4df8f497c413 TCGA-D8-A1XM Alive             \n",
              "  demo__days_to_death diag__days_to_last_follow_up gene_status days_to_event\n",
              "1   NA                1217                         ERBB2       1217         \n",
              "2   NA                 502                         ERBB2        502         \n",
              "3  921                  NA                         ERBB2        921         \n",
              "4   NA                 727                         ERBB2        727         \n",
              "5 1688                  NA                         ERBB2       1688         \n",
              "6   NA                 538                         ERBB2        538         \n",
              "  vital_status\n",
              "1 0           \n",
              "2 0           \n",
              "3 1           \n",
              "4 0           \n",
              "5 1           \n",
              "6 0           "
            ],
            "text/latex": "A tibble: 6 × 8\n\\begin{tabular}{llllllll}\n case\\_id & submitter\\_id & demo\\_\\_vital\\_status & demo\\_\\_days\\_to\\_death & diag\\_\\_days\\_to\\_last\\_follow\\_up & gene\\_status & days\\_to\\_event & vital\\_status\\\\\n <chr> & <chr> & <chr> & <int> & <dbl> & <chr> & <dbl> & <dbl>\\\\\n\\hline\n\t d7808cbc-4b8c-467b-b2c3-f48d05b9ecab & TCGA-A8-A08Z & Alive &   NA & 1217 & ERBB2 & 1217 & 0\\\\\n\t 9ced0c70-c46c-4f98-8f48-840defe4b8b1 & TCGA-D8-A1JA & Alive &   NA &  502 & ERBB2 &  502 & 0\\\\\n\t 557cb0a3-6f1b-4faf-8296-0a15c24158f9 & TCGA-BH-A18P & Dead  &  921 &   NA & ERBB2 &  921 & 1\\\\\n\t 17ca61a2-607a-45ff-88fa-ef72e80bf891 & TCGA-BH-A0HF & Alive &   NA &  727 & ERBB2 &  727 & 0\\\\\n\t c348a9b3-c901-4384-a222-144387bac0c5 & TCGA-BH-A1FU & Dead  & 1688 &   NA & ERBB2 & 1688 & 1\\\\\n\t 92529232-8504-4541-b7e2-4df8f497c413 & TCGA-D8-A1XM & Alive &   NA &  538 & ERBB2 &  538 & 0\\\\\n\\end{tabular}\n",
            "text/markdown": "\nA tibble: 6 × 8\n\n| case_id &lt;chr&gt; | submitter_id &lt;chr&gt; | demo__vital_status &lt;chr&gt; | demo__days_to_death &lt;int&gt; | diag__days_to_last_follow_up &lt;dbl&gt; | gene_status &lt;chr&gt; | days_to_event &lt;dbl&gt; | vital_status &lt;dbl&gt; |\n|---|---|---|---|---|---|---|---|\n| d7808cbc-4b8c-467b-b2c3-f48d05b9ecab | TCGA-A8-A08Z | Alive |   NA | 1217 | ERBB2 | 1217 | 0 |\n| 9ced0c70-c46c-4f98-8f48-840defe4b8b1 | TCGA-D8-A1JA | Alive |   NA |  502 | ERBB2 |  502 | 0 |\n| 557cb0a3-6f1b-4faf-8296-0a15c24158f9 | TCGA-BH-A18P | Dead  |  921 |   NA | ERBB2 |  921 | 1 |\n| 17ca61a2-607a-45ff-88fa-ef72e80bf891 | TCGA-BH-A0HF | Alive |   NA |  727 | ERBB2 |  727 | 0 |\n| c348a9b3-c901-4384-a222-144387bac0c5 | TCGA-BH-A1FU | Dead  | 1688 |   NA | ERBB2 | 1688 | 1 |\n| 92529232-8504-4541-b7e2-4df8f497c413 | TCGA-D8-A1XM | Alive |   NA |  538 | ERBB2 |  538 | 0 |\n\n",
            "text/html": [
              "<table class=\"dataframe\">\n",
              "<caption>A tibble: 6 × 8</caption>\n",
              "<thead>\n",
              "\t<tr><th scope=col>case_id</th><th scope=col>submitter_id</th><th scope=col>demo__vital_status</th><th scope=col>demo__days_to_death</th><th scope=col>diag__days_to_last_follow_up</th><th scope=col>gene_status</th><th scope=col>days_to_event</th><th scope=col>vital_status</th></tr>\n",
              "\t<tr><th scope=col>&lt;chr&gt;</th><th scope=col>&lt;chr&gt;</th><th scope=col>&lt;chr&gt;</th><th scope=col>&lt;int&gt;</th><th scope=col>&lt;dbl&gt;</th><th scope=col>&lt;chr&gt;</th><th scope=col>&lt;dbl&gt;</th><th scope=col>&lt;dbl&gt;</th></tr>\n",
              "</thead>\n",
              "<tbody>\n",
              "\t<tr><td>d7808cbc-4b8c-467b-b2c3-f48d05b9ecab</td><td>TCGA-A8-A08Z</td><td>Alive</td><td>  NA</td><td>1217</td><td>ERBB2</td><td>1217</td><td>0</td></tr>\n",
              "\t<tr><td>9ced0c70-c46c-4f98-8f48-840defe4b8b1</td><td>TCGA-D8-A1JA</td><td>Alive</td><td>  NA</td><td> 502</td><td>ERBB2</td><td> 502</td><td>0</td></tr>\n",
              "\t<tr><td>557cb0a3-6f1b-4faf-8296-0a15c24158f9</td><td>TCGA-BH-A18P</td><td>Dead </td><td> 921</td><td>  NA</td><td>ERBB2</td><td> 921</td><td>1</td></tr>\n",
              "\t<tr><td>17ca61a2-607a-45ff-88fa-ef72e80bf891</td><td>TCGA-BH-A0HF</td><td>Alive</td><td>  NA</td><td> 727</td><td>ERBB2</td><td> 727</td><td>0</td></tr>\n",
              "\t<tr><td>c348a9b3-c901-4384-a222-144387bac0c5</td><td>TCGA-BH-A1FU</td><td>Dead </td><td>1688</td><td>  NA</td><td>ERBB2</td><td>1688</td><td>1</td></tr>\n",
              "\t<tr><td>92529232-8504-4541-b7e2-4df8f497c413</td><td>TCGA-D8-A1XM</td><td>Alive</td><td>  NA</td><td> 538</td><td>ERBB2</td><td> 538</td><td>0</td></tr>\n",
              "</tbody>\n",
              "</table>\n"
            ]
          },
          "metadata": {}
        }
      ]
    },
    {
      "cell_type": "markdown",
      "metadata": {
        "id": "5xIZZJ5KiniF"
      },
      "source": [
        "# Analyze Data\n",
        "\n",
        "Finally, we can create the survival analysis and plot the results."
      ]
    },
    {
      "cell_type": "code",
      "metadata": {
        "id": "8TmrM-CLBlQk",
        "colab": {
          "base_uri": "https://localhost:8080/",
          "height": 437
        },
        "outputId": "26fdee57-4ced-4785-de89-2bec3cb03d1e"
      },
      "source": [
        "# create a survival curve plot\n",
        "autoplot(survfit(Surv(days_to_event, vital_status) ~ gene_status, data = survival)) +\n",
        "  labs(title = \"Survival Curve\",\n",
        "       y = \"Percent Survival\", \n",
        "       x = \"Days\") +\n",
        "  theme(legend.title=element_blank())"
      ],
      "execution_count": 79,
      "outputs": [
        {
          "output_type": "display_data",
          "data": {
            "image/png": "[encoded data removed]",
            "text/plain": [
              "plot without title"
            ]
          },
          "metadata": {
            "image/png": {
              "width": 420,
              "height": 420
            }
          }
        }
      ]
    },
    {
      "cell_type": "code",
      "metadata": {
        "id": "a9aaLHJqBigy",
        "colab": {
          "base_uri": "https://localhost:8080/",
          "height": 177
        },
        "outputId": "34e93818-48af-4b78-ed67-72dbfc138220"
      },
      "source": [
        "# Analyze the differences between groups with a Log-Rank Test\n",
        "survdiff(Surv(days_to_event, vital_status) ~ gene_status, data = survival)"
      ],
      "execution_count": 80,
      "outputs": [
        {
          "output_type": "display_data",
          "data": {
            "text/plain": [
              "Call:\n",
              "survdiff(formula = Surv(days_to_event, vital_status) ~ gene_status, \n",
              "    data = survival)\n",
              "\n",
              "                    N Observed Expected (O-E)^2/E (O-E)^2/V\n",
              "gene_status=ERBB2  34        7     2.51     8.064      8.28\n",
              "gene_status=none  932      125   129.49     0.156      8.28\n",
              "\n",
              " Chisq= 8.3  on 1 degrees of freedom, p= 0.004 "
            ]
          },
          "metadata": {}
        }
      ]
    },
    {
      "cell_type": "markdown",
      "metadata": {
        "id": "YP2eXvTFNE1m"
      },
      "source": [
        "## Conclusion\n",
        "\n",
        "The log rank test in `survdiff` indicates that there is a significant difference between the curves and that there is a difference in outcome based on the mutation of the ERBB2 gene."
      ]
    },
    {
      "cell_type": "markdown",
      "metadata": {
        "id": "spA82OzwhU17"
      },
      "source": [
        "## Litature on ERBB2 and Breast Cancer\n",
        "\n",
        "Kurozumi, S., Alsaleem, M., Monteiro, C.J. et al. Targetable ERBB2 mutation status is an independent marker of adverse prognosis in estrogen receptor positive, ERBB2 non-amplified primary lobular breast carcinoma: a retrospective in silico analysis of public datasets. Breast Cancer Res 22, 85 (2020). https://doi.org/10.1186/s13058-020-01324-4\n"
      ]
    },
    {
      "cell_type": "markdown",
      "metadata": {
        "id": "YmtSFsK7hTSC"
      },
      "source": [
        "# Follow Up Questions for Later"
      ]
    },
    {
      "cell_type": "markdown",
      "metadata": {
        "id": "ics93JI7991H"
      },
      "source": [
        "We have seen that the ERBB2 gene has an effect on the survival outcome of a patient but do other common genes in Breast Cancer have a similar effect?\n",
        "\n",
        "- Does a mutation in the gene BRCA1 have an effect on survival outcomes?\n",
        "- How about BRCA2?\n",
        "\n",
        "Does mutations in ERBB2 gene have an effect on the survival outcome for other cancers besides Breast Cancer?\n",
        "- Does a mutation in ERBB2 have an effect on survival outcomes in Ovarian Cancer?"
      ]
    },
    {
      "cell_type": "markdown",
      "metadata": {
        "id": "SmB9FzoG98RP"
      },
      "source": [
        "# Contact US\n",
        "Please contact us to learn more about BigQuery, to discuss cost considerations when working with BigQuery projects, or to discuss any projects you feel may benefit from the ISB-CGC Platform.\n",
        "\n",
        "* Email us: feedback@isb-cgc.org\n",
        "* Check out our website: https://isb-cgc.org\n",
        "* Visit our [office hours](https://isb-cancer-genomics-cloud.readthedocs.io/en/latest/sections/office_hours.html)"
      ]
    }
  ]
}