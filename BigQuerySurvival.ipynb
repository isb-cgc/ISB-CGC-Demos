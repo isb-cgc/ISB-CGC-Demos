{
  "nbformat": 4,
  "nbformat_minor": 0,
  "metadata": {
    "colab": {
      "name": "BigQuerySurvival.ipynb",
      "provenance": [],
      "collapsed_sections": []
    },
    "kernelspec": {
      "name": "ir",
      "display_name": "R"
    },
    "language_info": {
      "name": "R"
    }
  },
  "cells": [
    {
      "cell_type": "code",
      "metadata": {
        "id": "yecImToI97Ws"
      },
      "source": [
        "#Load Libraries and authorize with BigQuery\n",
        "library(bigrquery)\n",
        "library(tidyverse)\n",
        "library(survival)\n",
        "library(ggfortify)\n",
        "bigrquery::bq_auth(path = \"~/key-file\")\n",
        "project <- 'isb-cgc-outreach'"
      ],
      "execution_count": null,
      "outputs": []
    },
    {
      "cell_type": "markdown",
      "metadata": {
        "id": "ZvlcmLOgLklQ"
      },
      "source": [
        "# Survival Analysis and BigQuery\n",
        "\n",
        "This notebook demonstrates how to use BigQuery to gather data to use in Survival analysis. We will be using mutation of the BRCA gene to predict the survival between mutation of BRCA and normal.\n",
        "\n"
      ]
    },
    {
      "cell_type": "markdown",
      "metadata": {
        "id": "yKiSpyJqbvgs"
      },
      "source": [
        "# Gather Data"
      ]
    },
    {
      "cell_type": "markdown",
      "metadata": {
        "id": "5Dpj31tLL1qz"
      },
      "source": [
        "## Retrive Patient BRCA Mutation Status from BigQuery\n",
        "The first component of our data set is the status of the BRCA mutation for the patient. \n",
        "\n",
        "Table: *isb-cgc-bq.TCGA.somatic_mutation_hg38_gdc_current*"
      ]
    },
    {
      "cell_type": "code",
      "metadata": {
        "id": "EB32sfBRL0e0"
      },
      "source": [
        "cohort_query <- \"WITH t AS (\n",
        "            SELECT case_id, Hugo_Symbol\n",
        "            FROM `isb-cgc-bq.TCGA.somatic_mutation_hg38_gdc_current`\n",
        "            WHERE\n",
        "              project_short_name = 'TCGA-BRCA')\n",
        "            SELECT DISTINCT case_id,\n",
        "              CASE\n",
        "                WHEN Hugo_Symbol = 'BRCA1' THEN 'brca1'\n",
        "                WHEN Hugo_Symbol = 'BRCA2' THEN 'brca2'\n",
        "                ELSE 'none'\n",
        "              END\n",
        "              AS brca\n",
        "            FROM t\n",
        "            ORDER BY brca\""
      ],
      "execution_count": null,
      "outputs": []
    },
    {
      "cell_type": "code",
      "metadata": {
        "id": "QzSCb0LvMCtK"
      },
      "source": [
        "# Run the query\n",
        "cohort <- bq_project_query(project, cohort_query, quiet = TRUE) \n",
        "# Create a dataframe with the results from the query\n",
        "cohort <- bq_table_download(cohort, quiet = TRUE)\n",
        "# Show the dataframe\n",
        "summary(cohort)"
      ],
      "execution_count": null,
      "outputs": []
    },
    {
      "cell_type": "markdown",
      "metadata": {
        "id": "rkkCXRfhiKzt"
      },
      "source": [
        "## Retrieve Clinical Data From BigQuery\n",
        "\n",
        "The other important component of our data set is the patients vital status and either days to death or days to last follow up.\n",
        "\n",
        "Table: *isb-cgc-bq.TCGA.clinical_gdc_current*"
      ]
    },
    {
      "cell_type": "code",
      "metadata": {
        "id": "xtDkuTUqiS9K"
      },
      "source": [
        "survival_query <- str_c(\"\n",
        "  SELECT \n",
        "    case_id,\n",
        "    demo__vital_status,\n",
        "    demo__days_to_death,\n",
        "    diag__days_to_last_follow_up\n",
        "  FROM `isb-cgc-bq.TCGA.clinical_gdc_current`\n",
        "  WHERE\n",
        "    case_id IN ('\", str_c(cohort$case_id, collapse = \"', '\"),\"') AND\n",
        "    demo__vital_status IS NOT NULL\")"
      ],
      "execution_count": null,
      "outputs": []
    },
    {
      "cell_type": "code",
      "metadata": {
        "id": "i5CYVdeWiXbS"
      },
      "source": [
        "survival_request <- bq_project_query(project, survival_query)\n",
        "survival_data <- bq_table_download(survival_request)\n",
        "survival <- left_join(survival_data, cohort, key = \"case_id\")"
      ],
      "execution_count": null,
      "outputs": []
    },
    {
      "cell_type": "markdown",
      "metadata": {
        "id": "_kekkxuXiiMg"
      },
      "source": [
        "# Clean Data\n",
        "\n",
        "We want to make sure that the data is cleaned of duplicates, empty cells, missing data, and create one column for days to death and days to last follow up."
      ]
    },
    {
      "cell_type": "code",
      "metadata": {
        "id": "tX0CwYAwikZD"
      },
      "source": [
        "# Fill in NAs for alive cases with days to last followup #todo\n",
        "for (row in 1:nrow( survival)) {\n",
        "  if (survival$demo__vital_status[row] == 'Alive' && is.na(survival$demo__days_to_death[row])){\n",
        "    survival$demo__days_to_death[row] <- survival$diag__days_to_last_follow_up[row]\n",
        "  }\n",
        "}\n",
        "\n",
        "# Remove duplicates in the brca column keeping the mutation\n",
        "\n",
        "survival <- arrange(survival, brca)\n",
        "survival <- survival[!duplicated(survival$case_id),]\n",
        "\n",
        "# Filter out cases marked as dead but have no data for days to death and negative days\n",
        "survival <- filter(survival, !(demo__vital_status==\"Dead\"&demo__days_to_death==\"NA\")&demo__days_to_death>=1)\n",
        "\n",
        "# Convert the vital status to numbers\n",
        "survival$demo__vital_status <- ifelse(survival$demo__vital_status=='Alive', 0, 1)"
      ],
      "execution_count": null,
      "outputs": []
    },
    {
      "cell_type": "markdown",
      "metadata": {
        "id": "5xIZZJ5KiniF"
      },
      "source": [
        "# Analyze Data\n",
        "\n",
        "Finally, we can create the survival analysis and plot the results."
      ]
    },
    {
      "cell_type": "code",
      "metadata": {
        "id": "8TmrM-CLBlQk"
      },
      "source": [
        "# create a survival curve plot\n",
        "autoplot(survfit(Surv(demo__days_to_death, demo__vital_status) ~ brca, data = survival)) +\n",
        "  labs(title = \"Survival Curve\",\n",
        "       y = \"Percent Survival\", \n",
        "       x = \"Days\") +\n",
        "  theme(legend.title=element_blank())"
      ],
      "execution_count": null,
      "outputs": []
    },
    {
      "cell_type": "code",
      "metadata": {
        "id": "a9aaLHJqBigy"
      },
      "source": [
        "# Analyze the differences between groups with a Log-Rank Test\n",
        "survdiff(Surv(demo__days_to_death, demo__vital_status) ~ brca, data = survival)"
      ],
      "execution_count": null,
      "outputs": []
    },
    {
      "cell_type": "markdown",
      "metadata": {
        "id": "YP2eXvTFNE1m"
      },
      "source": [
        "While the curves appear to be different in the plots, the log rank test in `survdiff` indicates that there is no difference between the curves and that there is no difference in outcome based on the mutation of either BRCA gene."
      ]
    }
  ]
}