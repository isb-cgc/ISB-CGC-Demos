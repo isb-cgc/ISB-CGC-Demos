{
 "cells": [
  {
   "cell_type": "markdown",
   "metadata": {
    "id": "L8siftXLU5CK"
   },
   "source": [
    "# Regulome Explorer Wilcoxon rank sum test associations of mutation and gene expression"
   ]
  },
  {
   "cell_type": "markdown",
   "metadata": {
    "id": "WqRHSU6KY-OF"
   },
   "source": [
    "Check out more notebooks at our ['Regulome Explorer Repository'](https://github.com/isb-cgc/Community-Notebooks/tree/master/RegulomeExplorer)!\n",
    "\n",
    "```\n",
    "Title:   Regulome Explorer Wilcoxon rank sum test associations of mutation and gene expression\n",
    "Author:  Boris Aguilar\n",
    "Created: 02-10-2021\n",
    "Purpose: Demonstrate how to use BigQuery and the Wilcoxon rank sum test, implemented as a BigQuery function, to find significant associations between gene expression and somatic mutation data available in the Pancancer Atlas dataset.\n",
    "URL:     https://github.com/isb-cgc/Community-Notebooks/blob/master/RegulomeExplorer/BigQuery-WilcoxonRankSumTest.ipynb\n",
    "```"
   ]
  },
  {
   "cell_type": "markdown",
   "metadata": {
    "id": "DQWPGU03BPsR"
   },
   "source": [
    "## User Defined Functions: UDFs\n",
    "BigQuery now supports User Defined Functions (UDFs) in SQL and JavaScript that extend BigQuery for more specialized computations and that can be reused in notebooks and queries. \n",
    "\n",
    "UDFs provide an easy way to perform complex operations in the cloud, taking advantage of the high computational power available in Google Cloud. We developed a collection of UDFs that implement commonly used statistical tests and methods in cancer research and bioinformatics. The UDFs are located in the `isb-cgc-bq.functions` dataset, and the source code of the functions and examples of how to use them can be found in our Community Notebook GitHub Repository. The following table shows some functions available in ISB-CGC.\n",
    "\n",
    "| UDF name | Description |\n",
    "| :--- | :--- |\n",
    "| corr_pvalue | Computes p values for correlation coeficients |\n",
    "| BHmultipletests | Adjust p values for multiple testing |\n",
    "| p_fisherexact | p value of the Fisher exact test |\n",
    "| mannwhitneyu | Mann–Whitney U test |\n",
    "| kruskal_walis | Kruskal Walis test |\n"
   ]
  },
  {
   "cell_type": "markdown",
   "metadata": {
    "id": "_IyJxJjBenKk"
   },
   "source": [
    "### Libraries "
   ]
  },
  {
   "cell_type": "code",
   "execution_count": 48,
   "metadata": {},
   "outputs": [],
   "source": [
    "! pip install --upgrade pandas google-cloud-bigquery seaborn db_dtypes pandas_gbq tqdm"
   ]
  },
  {
   "cell_type": "code",
   "execution_count": 39,
   "metadata": {
    "id": "losf8GRlZvcM"
   },
   "outputs": [],
   "source": [
    "from google.cloud import bigquery\n",
    "from google.oauth2 import service_account \n",
    "import pandas as pd\n",
    "import seaborn as sns\n",
    "import db_dtypes\n",
    "import pandas_gbq"
   ]
  },
  {
   "cell_type": "markdown",
   "metadata": {
    "id": "CnzNWzE3zS0H"
   },
   "source": [
    "### Authentication\n",
    "The first step is to authorize access to BigQuery and the Google Cloud. For more information see ['Quick Start Guide to ISB-CGC'](https://isb-cancer-genomics-cloud.readthedocs.io/en/latest/sections/HowToGetStartedonISB-CGC.html) and alternative authentication methods can be found [here](https://googleapis.github.io/google-cloud-python/latest/core/auth.html)."
   ]
  },
  {
   "cell_type": "code",
   "execution_count": 40,
   "metadata": {
    "id": "2ySNqCskzONP"
   },
   "outputs": [],
   "source": [
    "credentials = service_account.Credentials.from_service_account_file(\n",
    "    \"key-file\"\n",
    ")\n",
    "my_project_id = \"isb-cgc-training-001\""
   ]
  },
  {
   "cell_type": "markdown",
   "metadata": {
    "id": "ZbSl80Sny50A"
   },
   "source": [
    "## Parameteres"
   ]
  },
  {
   "cell_type": "markdown",
   "metadata": {
    "id": "1ZWtPC_dBan2"
   },
   "source": [
    "### Parameters and  technical terms\n",
    "\n",
    "| Name | Description |\n",
    "| :--- | :--- |\n",
    "| isb-cgc-bq | Google project name of ISB-CGC |\n",
    "| pancancer_atlas | Pancancer atlas dataset with TCGA data pre-processed for pancancer analysis\n",
    "| Filtered_MC3_MAF_V5_one_per_tumor_sample | Name of the BigQuery table containing with mutation data |\n",
    "| Filtered_EBpp_AdjustPANCAN_IlluminaHiSeq_RNASeqV2_genExp | Name of the BigQuery table containing gene expression data |"
   ]
  },
  {
   "cell_type": "code",
   "execution_count": 41,
   "metadata": {
    "id": "5GXMH8Zv8ef_"
   },
   "outputs": [],
   "source": [
    "cancer_type = 'GBM' # Glioblastoma\n",
    "gene_expre = 'CLGN' # name of gene \n",
    "gene_mutation = 'TP53' # name of the mutated gene"
   ]
  },
  {
   "cell_type": "markdown",
   "metadata": {
    "id": "v0y0FkrvBn4L"
   },
   "source": [
    "### Data from BigQuery tables\n",
    "The first step is to select all participants in the selected study with a least one mutation."
   ]
  },
  {
   "cell_type": "code",
   "execution_count": 42,
   "metadata": {
    "id": "gkVBZ8dFzBNP"
   },
   "outputs": [],
   "source": [
    "barcode_set = \"\"\"barcodes AS (\n",
    "   SELECT DISTINCT Tumor_SampleBarcode AS SampleBarcode   \n",
    "   FROM `isb-cgc-bq.pancancer_atlas.Filtered_MC3_MAF_V5_one_per_tumor_sample`\n",
    "   WHERE Study = '{0}'       \n",
    ")\n",
    "\"\"\".format(cancer_type)"
   ]
  },
  {
   "cell_type": "markdown",
   "metadata": {
    "id": "S2dSLgg972-K"
   },
   "source": [
    "**Gene expression data from the BigQuery:** The following query string retrieves the gene expression data of the user specified gene ('gene_expre') from the 'Filtered.EBpp_AdjustPANCAN_IlluminaHiSeq_RNASeqV2_genExp_filtered' table available in pancancer-atlas dataset. The gene expression of a participant is computed as the average gene expression of the tumor samples of the participant. Moreover, we are considering only samples with a least somatic mutation."
   ]
  },
  {
   "cell_type": "code",
   "execution_count": 43,
   "metadata": {
    "id": "11GQX8n49rbG"
   },
   "outputs": [],
   "source": [
    "query_table1 = \"\"\"table1 AS (\n",
    "   SELECT \n",
    "         Symbol AS symbol, AVG( LOG10(normalized_count+1) ) AS data, ParticipantBarcode\n",
    "   FROM  `isb-cgc-bq.pancancer_atlas.Filtered_EBpp_AdjustPANCAN_IlluminaHiSeq_RNASeqV2_genExp` \n",
    "   WHERE Study = '{0}' AND Symbol ='{1}' AND normalized_count IS NOT NULL\n",
    "         AND SampleBarcode  IN (SELECT * FROM barcodes)\n",
    "   GROUP BY ParticipantBarcode, symbol\n",
    ")\n",
    "\"\"\".format(cancer_type, gene_expre)"
   ]
  },
  {
   "cell_type": "markdown",
   "metadata": {
    "id": "6Hj_g_4qAC9W"
   },
   "source": [
    "**Somatic mutation data from the BigQuery:** The following string query will retrieve a table with patients with at least one Somatic mutation in the user defined gene ('mutation_name'). This information is extracted from the 'pancancer-atlas.Filtered.MC3_MAF_V5_one_per_tumor_sample' table, available in pancancer-atlas dataset. Notice that we only use samples in which FILTER = 'PASS'."
   ]
  },
  {
   "cell_type": "code",
   "execution_count": 44,
   "metadata": {
    "id": "1QOhvdetDOLK"
   },
   "outputs": [],
   "source": [
    "query_table2 = \"\"\"table2 AS (\n",
    "   SELECT\n",
    "      ParticipantBarcode AS ParticipantBarcode\n",
    "   FROM `isb-cgc-bq.pancancer_atlas.Filtered_MC3_MAF_V5_one_per_tumor_sample`\n",
    "   WHERE Study = '{0}' AND Hugo_Symbol = '{1}'\n",
    "         AND FILTER = 'PASS'  \n",
    "   GROUP BY ParticipantBarcode\n",
    ")\n",
    "\"\"\".format(cancer_type,gene_mutation)"
   ]
  },
  {
   "cell_type": "markdown",
   "metadata": {
    "id": "Ngc57C3OD5gQ"
   },
   "source": [
    "At this point we can take a look at the combined data (Gene expression and Somatic mutation) by using a simple LEFT JOIN command. Participants with and without somatic mutations are labeled as 'YES' and 'NO' respectively."
   ]
  },
  {
   "cell_type": "code",
   "execution_count": 45,
   "metadata": {
    "colab": {
     "base_uri": "https://localhost:8080/",
     "height": 332
    },
    "id": "al184eQeD2Mp",
    "outputId": "f7a98451-5e18-4089-e68f-35e01cb827cf"
   },
   "outputs": [
    {
     "name": "stderr",
     "output_type": "stream",
     "text": [
      "/srv/conda/envs/notebook/lib/python3.7/site-packages/google/cloud/bigquery/table.py:1982: UserWarning: A progress bar was requested, but there was an error loading the tqdm library. Please install tqdm to use the progress bar functionality.\n",
      "  create_bqstorage_client=create_bqstorage_client,\n"
     ]
    },
    {
     "data": {
      "text/html": [
       "<div>\n",
       "<style scoped>\n",
       "    .dataframe tbody tr th:only-of-type {\n",
       "        vertical-align: middle;\n",
       "    }\n",
       "\n",
       "    .dataframe tbody tr th {\n",
       "        vertical-align: top;\n",
       "    }\n",
       "\n",
       "    .dataframe thead th {\n",
       "        text-align: right;\n",
       "    }\n",
       "</style>\n",
       "<table border=\"1\" class=\"dataframe\">\n",
       "  <thead>\n",
       "    <tr style=\"text-align: right;\">\n",
       "      <th></th>\n",
       "      <th>gexp</th>\n",
       "      <th>mutation</th>\n",
       "      <th>ParticipantBarcode</th>\n",
       "    </tr>\n",
       "  </thead>\n",
       "  <tbody>\n",
       "    <tr>\n",
       "      <th>0</th>\n",
       "      <td>2.439129</td>\n",
       "      <td>NO</td>\n",
       "      <td>TCGA-28-5220</td>\n",
       "    </tr>\n",
       "    <tr>\n",
       "      <th>1</th>\n",
       "      <td>2.289138</td>\n",
       "      <td>YES</td>\n",
       "      <td>TCGA-19-2625</td>\n",
       "    </tr>\n",
       "    <tr>\n",
       "      <th>2</th>\n",
       "      <td>1.340634</td>\n",
       "      <td>NO</td>\n",
       "      <td>TCGA-06-0645</td>\n",
       "    </tr>\n",
       "    <tr>\n",
       "      <th>3</th>\n",
       "      <td>2.277614</td>\n",
       "      <td>NO</td>\n",
       "      <td>TCGA-06-0649</td>\n",
       "    </tr>\n",
       "    <tr>\n",
       "      <th>4</th>\n",
       "      <td>2.222820</td>\n",
       "      <td>YES</td>\n",
       "      <td>TCGA-26-5133</td>\n",
       "    </tr>\n",
       "    <tr>\n",
       "      <th>...</th>\n",
       "      <td>...</td>\n",
       "      <td>...</td>\n",
       "      <td>...</td>\n",
       "    </tr>\n",
       "    <tr>\n",
       "      <th>149</th>\n",
       "      <td>0.573591</td>\n",
       "      <td>NO</td>\n",
       "      <td>TCGA-06-5414</td>\n",
       "    </tr>\n",
       "    <tr>\n",
       "      <th>150</th>\n",
       "      <td>1.926712</td>\n",
       "      <td>NO</td>\n",
       "      <td>TCGA-19-2619</td>\n",
       "    </tr>\n",
       "    <tr>\n",
       "      <th>151</th>\n",
       "      <td>2.017246</td>\n",
       "      <td>NO</td>\n",
       "      <td>TCGA-28-2510</td>\n",
       "    </tr>\n",
       "    <tr>\n",
       "      <th>152</th>\n",
       "      <td>1.138404</td>\n",
       "      <td>NO</td>\n",
       "      <td>TCGA-14-1823</td>\n",
       "    </tr>\n",
       "    <tr>\n",
       "      <th>153</th>\n",
       "      <td>1.020100</td>\n",
       "      <td>NO</td>\n",
       "      <td>TCGA-15-0742</td>\n",
       "    </tr>\n",
       "  </tbody>\n",
       "</table>\n",
       "<p>154 rows × 3 columns</p>\n",
       "</div>"
      ],
      "text/plain": [
       "         gexp mutation ParticipantBarcode\n",
       "0    2.439129       NO       TCGA-28-5220\n",
       "1    2.289138      YES       TCGA-19-2625\n",
       "2    1.340634       NO       TCGA-06-0645\n",
       "3    2.277614       NO       TCGA-06-0649\n",
       "4    2.222820      YES       TCGA-26-5133\n",
       "..        ...      ...                ...\n",
       "149  0.573591       NO       TCGA-06-5414\n",
       "150  1.926712       NO       TCGA-19-2619\n",
       "151  2.017246       NO       TCGA-28-2510\n",
       "152  1.138404       NO       TCGA-14-1823\n",
       "153  1.020100       NO       TCGA-15-0742\n",
       "\n",
       "[154 rows x 3 columns]"
      ]
     },
     "execution_count": 45,
     "metadata": {},
     "output_type": "execute_result"
    }
   ],
   "source": [
    "sql_data = 'WITH\\n'+ barcode_set+','+ query_table1+','+query_table2  \n",
    "\n",
    "sql = (sql_data + \n",
    "\"\"\"\n",
    "SELECT \n",
    "    n1.data as gexp,  \n",
    "    IF( n2.ParticipantBarcode is null, 'NO', 'YES') as mutation,  \n",
    "    n1.ParticipantBarcode\n",
    "FROM\n",
    "    table1 n1  \n",
    "LEFT JOIN  table2   n2 \n",
    "ON  n1.ParticipantBarcode = n2.ParticipantBarcode\n",
    "\"\"\")\n",
    "\n",
    "df_data = pandas_gbq.read_gbq(sql, project_id=my_project_id, credentials=credentials)\n",
    "df_data"
   ]
  },
  {
   "cell_type": "markdown",
   "metadata": {
    "id": "3HQAxobKupe6"
   },
   "source": [
    "### Visualization \n",
    "To visualize the gene expression data in both groups with or without somatic mutation, we can use a 'violinplot' plot:"
   ]
  },
  {
   "cell_type": "code",
   "execution_count": 46,
   "metadata": {
    "colab": {
     "base_uri": "https://localhost:8080/",
     "height": 296
    },
    "id": "7FgX0o36MOTc",
    "outputId": "47740289-a742-47d4-e6c1-38c66ea10aa0"
   },
   "outputs": [
    {
     "data": {
      "text/plain": [
       "<AxesSubplot:xlabel='mutation', ylabel='gexp'>"
      ]
     },
     "execution_count": 46,
     "metadata": {},
     "output_type": "execute_result"
    },
    {
     "data": {
      "image/png": "[encoded data removed]",
      "text/plain": [
       "<Figure size 432x288 with 1 Axes>"
      ]
     },
     "metadata": {
      "needs_background": "light"
     },
     "output_type": "display_data"
    }
   ],
   "source": [
    "sns.boxplot(x=\"mutation\", y=\"gexp\", data=df_data)"
   ]
  },
  {
   "cell_type": "markdown",
   "metadata": {
    "id": "g2PSJJAeOL3T"
   },
   "source": [
    "### Statistical test using BigQuery\n",
    "The [Mann Whitney U](https://en.wikipedia.org/wiki/Mann%E2%80%93Whitney_U_test) or Wilcoxon ranked summ test is a popular nonparametric statistical test used to test whether two samples are likely to derive from the same population. The test is implemented as BigQuery function and it will be used here to test whether the distribution of gene expression of mutated and non mutated samples have same distribution (Null hypothesis). \n",
    "\n",
    "The following query uses the Mann Whitney U test to compute the p-value of the null hypothesis: "
   ]
  },
  {
   "cell_type": "code",
   "execution_count": 47,
   "metadata": {
    "colab": {
     "base_uri": "https://localhost:8080/",
     "height": 81
    },
    "id": "JmQF4tq3SXtM",
    "outputId": "2a1ac05c-2fe0-4f24-b1a6-33de32b41c1a"
   },
   "outputs": [
    {
     "name": "stderr",
     "output_type": "stream",
     "text": [
      "/srv/conda/envs/notebook/lib/python3.7/site-packages/google/cloud/bigquery/table.py:1982: UserWarning: A progress bar was requested, but there was an error loading the tqdm library. Please install tqdm to use the progress bar functionality.\n",
      "  create_bqstorage_client=create_bqstorage_client,\n"
     ]
    },
    {
     "data": {
      "text/html": [
       "<div>\n",
       "<style scoped>\n",
       "    .dataframe tbody tr th:only-of-type {\n",
       "        vertical-align: middle;\n",
       "    }\n",
       "\n",
       "    .dataframe tbody tr th {\n",
       "        vertical-align: top;\n",
       "    }\n",
       "\n",
       "    .dataframe thead th {\n",
       "        text-align: right;\n",
       "    }\n",
       "</style>\n",
       "<table border=\"1\" class=\"dataframe\">\n",
       "  <thead>\n",
       "    <tr style=\"text-align: right;\">\n",
       "      <th></th>\n",
       "      <th>test</th>\n",
       "    </tr>\n",
       "  </thead>\n",
       "  <tbody>\n",
       "    <tr>\n",
       "      <th>0</th>\n",
       "      <td>{'U': 1368.0, 'p': 9.407515808579348e-07}</td>\n",
       "    </tr>\n",
       "  </tbody>\n",
       "</table>\n",
       "</div>"
      ],
      "text/plain": [
       "                                        test\n",
       "0  {'U': 1368.0, 'p': 9.407515808579348e-07}"
      ]
     },
     "execution_count": 47,
     "metadata": {},
     "output_type": "execute_result"
    }
   ],
   "source": [
    "sql = (sql_data + \n",
    "\"\"\"\n",
    "SELECT `isb-cgc-bq.functions.mannwhitneyu_current`(arr_mut, arr_nomut, 'two-sided') AS test\n",
    "FROM ( \n",
    "    SELECT     \n",
    "        ARRAY_AGG(IF( n2.ParticipantBarcode IS NULL, NULL,n1.data ) IGNORE NULLS ) as arr_mut,\n",
    "        ARRAY_AGG(IF( n2.ParticipantBarcode IS NULL, n1.data, NULL) IGNORE NULLS ) as arr_nomut\n",
    "    FROM\n",
    "        table1 n1  \n",
    "    LEFT JOIN  table2   n2 \n",
    "    ON  n1.ParticipantBarcode = n2.ParticipantBarcode\n",
    ")\n",
    "\"\"\")\n",
    "df_stat = pandas_gbq.read_gbq(sql, project_id=my_project_id, credentials=credentials)\n",
    "df_stat"
   ]
  },
  {
   "cell_type": "markdown",
   "metadata": {
    "id": "R5U_p9UKdrrv"
   },
   "source": [
    "Where U and p are the U statistics and the p-value of the Mann Whitney U test. More details can be found [here](https://en.wikipedia.org/wiki/Mann%E2%80%93Whitney_U_test). \n"
   ]
  }
 ],
 "metadata": {
  "colab": {
   "collapsed_sections": [],
   "name": "BigQuery-WilcoxonRankSumTest.ipynb",
   "provenance": [],
   "toc_visible": true
  },
  "kernelspec": {
   "display_name": "Python 3 (ipykernel)",
   "language": "python",
   "name": "python3"
  },
  "language_info": {
   "codemirror_mode": {
    "name": "ipython",
    "version": 3
   },
   "file_extension": ".py",
   "mimetype": "text/x-python",
   "name": "python",
   "nbconvert_exporter": "python",
   "pygments_lexer": "ipython3",
   "version": "3.7.10"
  }
 },
 "nbformat": 4,
 "nbformat_minor": 4
}
